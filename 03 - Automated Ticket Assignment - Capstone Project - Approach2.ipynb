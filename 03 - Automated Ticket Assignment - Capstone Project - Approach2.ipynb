{
 "cells": [
  {
   "cell_type": "markdown",
   "metadata": {},
   "source": [
    "# Automatic Ticket Assignment - Capstone Project - Approach2\n",
    "\n",
    "## Problem Statement - \n",
    "\n",
    "In most of the IT organizations, the assignment of incidents to appropriate IT groups is still a manual process. Manual assignment of incidents is time consuming and requires human efforts. There may be mistakes due to human errors and resource consumption is carried out ineffectively because of the misaddressing. On the other hand, manual assignment increases the response and resolution times which result in user satisfaction deterioration / poor customer service. \n",
    "\n",
    "_<font color=blue>This capstone project intends to reduce the manual intervention of IT operations or Service desk teams by automating the ticket assignment process.The goal here is to create a text classification based ML model that can automatically  classify any new tickets by analysing ticket description to one of the relevant Assignment groups, which could be later integrated to any ITSM tool like Service Now. Based on the ticket description our model will output the probability of assigning it to one of the 74 Groups.</font>_\n",
    "\n",
    "The solution would be implemented using below approach:\n",
    "\n",
    "In the AS-IS process it's mentioned that around ~54% of the incidents are resolved by L1 / L2 teams and the rest will be resolved as L3. So the assumption is that GRP_0 and GRP_8 which contribute 54% of the tickets are related to L1/L2 teams and the rest of the tickets belongs to L3 teams\n",
    "\n",
    "So firstly, the ticket would be classified into L1/L2 or L3 classes and then it would be further classified into one of the given assignment groups. "
   ]
  },
  {
   "cell_type": "markdown",
   "metadata": {},
   "source": [
    "### Import libraries"
   ]
  },
  {
   "cell_type": "code",
   "execution_count": 1,
   "metadata": {},
   "outputs": [],
   "source": [
    "import pandas as pd\n",
    "import numpy as np\n",
    "import re\n",
    "import string\n",
    "\n",
    "from sklearn.linear_model import LogisticRegression \n",
    "from sklearn.naive_bayes import MultinomialNB\n",
    "from sklearn.multiclass import OneVsRestClassifier\n",
    "\n",
    "\n",
    "from sklearn.model_selection import cross_val_score\n",
    "\n",
    "from sklearn import metrics\n",
    "from sklearn.metrics import classification_report\n",
    "from sklearn.metrics import confusion_matrix\n",
    "from sklearn.model_selection import GridSearchCV\n",
    "from sklearn.pipeline import make_pipeline\n",
    "\n",
    "import warnings \n",
    "warnings.filterwarnings('ignore')"
   ]
  },
  {
   "cell_type": "markdown",
   "metadata": {},
   "source": [
    "### Load the preprocessed dataset"
   ]
  },
  {
   "cell_type": "code",
   "execution_count": 2,
   "metadata": {},
   "outputs": [
    {
     "data": {
      "text/html": [
       "<div>\n",
       "<style scoped>\n",
       "    .dataframe tbody tr th:only-of-type {\n",
       "        vertical-align: middle;\n",
       "    }\n",
       "\n",
       "    .dataframe tbody tr th {\n",
       "        vertical-align: top;\n",
       "    }\n",
       "\n",
       "    .dataframe thead th {\n",
       "        text-align: right;\n",
       "    }\n",
       "</style>\n",
       "<table border=\"1\" class=\"dataframe\">\n",
       "  <thead>\n",
       "    <tr style=\"text-align: right;\">\n",
       "      <th></th>\n",
       "      <th>Assignment_group</th>\n",
       "      <th>Target</th>\n",
       "      <th>cleaned_description</th>\n",
       "      <th>num_wds</th>\n",
       "      <th>avg_word</th>\n",
       "      <th>uniq_wds</th>\n",
       "      <th>token_desc</th>\n",
       "    </tr>\n",
       "  </thead>\n",
       "  <tbody>\n",
       "    <tr>\n",
       "      <th>0</th>\n",
       "      <td>GRP_0</td>\n",
       "      <td>L1/L2</td>\n",
       "      <td>login issue verified user detailsemployee mana...</td>\n",
       "      <td>20</td>\n",
       "      <td>6.900000</td>\n",
       "      <td>17</td>\n",
       "      <td>login issue verified user detailsemployee mana...</td>\n",
       "    </tr>\n",
       "    <tr>\n",
       "      <th>1</th>\n",
       "      <td>GRP_0</td>\n",
       "      <td>L1/L2</td>\n",
       "      <td>outlook hmjdrvpbkomuaywn teammy meetingsskype ...</td>\n",
       "      <td>12</td>\n",
       "      <td>8.083333</td>\n",
       "      <td>11</td>\n",
       "      <td>outlook hmjdrvpbkomuaywn teammy meetingsskype ...</td>\n",
       "    </tr>\n",
       "    <tr>\n",
       "      <th>2</th>\n",
       "      <td>GRP_0</td>\n",
       "      <td>L1/L2</td>\n",
       "      <td>cant log vpn eylqgodmybqkwiami cannot log vpn</td>\n",
       "      <td>7</td>\n",
       "      <td>5.571429</td>\n",
       "      <td>5</td>\n",
       "      <td>cant log vpn eylqgodmybqkwiami cannot log vpn</td>\n",
       "    </tr>\n",
       "    <tr>\n",
       "      <th>3</th>\n",
       "      <td>GRP_0</td>\n",
       "      <td>L1/L2</td>\n",
       "      <td>unable access hrtool page unable access hrtool...</td>\n",
       "      <td>8</td>\n",
       "      <td>5.500000</td>\n",
       "      <td>4</td>\n",
       "      <td>unable access hrtool page unable access hrtool...</td>\n",
       "    </tr>\n",
       "    <tr>\n",
       "      <th>4</th>\n",
       "      <td>GRP_0</td>\n",
       "      <td>L1/L2</td>\n",
       "      <td>skype error skype error</td>\n",
       "      <td>4</td>\n",
       "      <td>5.000000</td>\n",
       "      <td>2</td>\n",
       "      <td>skype error skype error</td>\n",
       "    </tr>\n",
       "  </tbody>\n",
       "</table>\n",
       "</div>"
      ],
      "text/plain": [
       "  Assignment_group Target                                cleaned_description  \\\n",
       "0            GRP_0  L1/L2  login issue verified user detailsemployee mana...   \n",
       "1            GRP_0  L1/L2  outlook hmjdrvpbkomuaywn teammy meetingsskype ...   \n",
       "2            GRP_0  L1/L2      cant log vpn eylqgodmybqkwiami cannot log vpn   \n",
       "3            GRP_0  L1/L2  unable access hrtool page unable access hrtool...   \n",
       "4            GRP_0  L1/L2                            skype error skype error   \n",
       "\n",
       "   num_wds  avg_word  uniq_wds  \\\n",
       "0       20  6.900000        17   \n",
       "1       12  8.083333        11   \n",
       "2        7  5.571429         5   \n",
       "3        8  5.500000         4   \n",
       "4        4  5.000000         2   \n",
       "\n",
       "                                          token_desc  \n",
       "0  login issue verified user detailsemployee mana...  \n",
       "1  outlook hmjdrvpbkomuaywn teammy meetingsskype ...  \n",
       "2      cant log vpn eylqgodmybqkwiami cannot log vpn  \n",
       "3  unable access hrtool page unable access hrtool...  \n",
       "4                            skype error skype error  "
      ]
     },
     "execution_count": 2,
     "metadata": {},
     "output_type": "execute_result"
    }
   ],
   "source": [
    "df_incidents_level = pd.read_csv('dataset/processed_file_modellling.csv',encoding='utf-8')\n",
    "df_incidents_level.head()"
   ]
  },
  {
   "cell_type": "markdown",
   "metadata": {},
   "source": [
    "Since the dataset is very imbalanced, we will be considering a subset of groups for predictions. In 74 groups, 46% of tickets belong to group 1 and 16 groups have more than 100 tickets and around 22 groups have more than 50 tickets, rest of the Assignment groups have very less ticket counts which might not add much value to the model prediction. If we conducted random sampling towards all the subcategories, then we would face a problem that we might miss all the tickets in some categories. Hence, we considered the groups that have more than 50 tickets in this appoach"
   ]
  },
  {
   "cell_type": "code",
   "execution_count": 3,
   "metadata": {},
   "outputs": [],
   "source": [
    "df_incidents_level = df_incidents_level[df_incidents_level['Assignment_group'].map(df_incidents_level['Assignment_group'].value_counts()) > 50]\n",
    "x = df_incidents_level['token_desc']\n",
    "y = df_incidents_level['Target']\n",
    "\n",
    "from sklearn import preprocessing\n",
    "encoder = preprocessing.LabelEncoder()\n",
    "# encoding train labels \n",
    "encoder.fit(y)\n",
    "y = encoder.transform(y)\n",
    "\n",
    "\n",
    "from sklearn.model_selection import train_test_split\n",
    "X_train, X_test, y_train, y_test = train_test_split(x, y, test_size= 0.2, random_state=13,stratify=y)\n",
    "\n",
    "from sklearn.utils.class_weight import compute_class_weight\n",
    "class_weights = compute_class_weight('balanced', np.unique(y_train), y_train)\n",
    "class_weights\n",
    "\n",
    "w_array = np.ones(y_train.shape[0], dtype = 'float')\n",
    "for i, val in enumerate(y_train):\n",
    "    w_array[i] = class_weights[val]\n",
    "    \n",
    "    \n",
    "log_cols=[\"Classifier\", \"accuracy\",\"f1_score\"]\n",
    "log1 = pd.DataFrame(columns=log_cols)"
   ]
  },
  {
   "cell_type": "code",
   "execution_count": 4,
   "metadata": {},
   "outputs": [],
   "source": [
    "def multiclass_logloss(actual, predicted, eps=1e-15):\n",
    "    \"\"\"Multi class version of Logarithmic Loss metric.\n",
    "    :param actual: Array containing the actual target classes\n",
    "    :param predicted: Matrix with class predictions, one probability per class\n",
    "    \"\"\"\n",
    "    # Convert 'actual' to a binary array if it's not already:\n",
    "    if len(actual.shape) == 1:\n",
    "        actual2 = np.zeros((actual.shape[0], predicted.shape[1]))\n",
    "        for i, val in enumerate(actual):\n",
    "            actual2[i, val] = 1\n",
    "        actual = actual2\n",
    "\n",
    "    clip = np.clip(predicted, eps, 1 - eps)\n",
    "    rows = actual.shape[0]\n",
    "    vsota = np.sum(actual * np.log(clip))\n",
    "    return -1.0 / rows * vsota"
   ]
  },
  {
   "cell_type": "markdown",
   "metadata": {},
   "source": [
    "### Modeling\n",
    "\n",
    "Pass the data to various models which learns to classify the tickets into one of the two groups -  L1/L2 or L3 class"
   ]
  },
  {
   "cell_type": "markdown",
   "metadata": {},
   "source": [
    "#### Multinomial Naive Bayes"
   ]
  },
  {
   "cell_type": "code",
   "execution_count": 5,
   "metadata": {},
   "outputs": [
    {
     "name": "stdout",
     "output_type": "stream",
     "text": [
      "accuracy 0.8033635187580854\n",
      "f1 score 0.8121445771605216\n",
      "logloss: 0.434 \n",
      "              precision    recall  f1-score   support\n",
      "\n",
      "           0       0.78      0.94      0.85       923\n",
      "           1       0.87      0.60      0.71       623\n",
      "\n",
      "    accuracy                           0.80      1546\n",
      "   macro avg       0.82      0.77      0.78      1546\n",
      "weighted avg       0.82      0.80      0.79      1546\n",
      "\n",
      "[[868  55]\n",
      " [249 374]]\n"
     ]
    }
   ],
   "source": [
    "from sklearn.naive_bayes import MultinomialNB\n",
    "from sklearn.feature_extraction.text import CountVectorizer\n",
    "\n",
    "from sklearn.pipeline import Pipeline\n",
    "from sklearn.feature_extraction.text import TfidfTransformer\n",
    "\n",
    "nb = Pipeline([('vect', CountVectorizer()),\n",
    "               ('tfidf', TfidfTransformer()),\n",
    "               ('clf', MultinomialNB()),\n",
    "              ])\n",
    "nb.fit(X_train, y_train)\n",
    "\n",
    "\n",
    "from sklearn.metrics import accuracy_score, confusion_matrix, f1_score\n",
    "from sklearn.metrics import classification_report\n",
    "y_pred = nb.predict(X_test)\n",
    "\n",
    "predictions = nb.predict_proba(X_test)\n",
    "\n",
    "print('accuracy %s' % accuracy_score(y_pred, y_test)) \n",
    "print('f1 score %s' % f1_score(y_pred, y_test,average='weighted')) \n",
    "print (\"logloss: %0.3f \" % multiclass_logloss(y_test,predictions))\n",
    "\n",
    "print(classification_report(y_test, y_pred))\n",
    "\n",
    "print(confusion_matrix(y_test,y_pred))\n",
    "\n",
    "\n",
    "log_entry = pd.DataFrame([[\"MultinomialNB\",accuracy_score(y_pred, y_test),f1_score(y_pred, y_test,average='weighted')]], columns=log_cols)\n",
    "log1 = log1.append(log_entry)"
   ]
  },
  {
   "cell_type": "markdown",
   "metadata": {},
   "source": [
    "#### Linear SVC"
   ]
  },
  {
   "cell_type": "code",
   "execution_count": 6,
   "metadata": {},
   "outputs": [
    {
     "name": "stdout",
     "output_type": "stream",
     "text": [
      "accuracy 0.8195342820181113\n",
      "f1 score 0.8184339374503905\n",
      "              precision    recall  f1-score   support\n",
      "\n",
      "           0       0.87      0.82      0.84       923\n",
      "           1       0.75      0.82      0.79       623\n",
      "\n",
      "    accuracy                           0.82      1546\n",
      "   macro avg       0.81      0.82      0.82      1546\n",
      "weighted avg       0.82      0.82      0.82      1546\n",
      "\n",
      "[[754 169]\n",
      " [110 513]]\n"
     ]
    }
   ],
   "source": [
    "from sklearn.svm import LinearSVC\n",
    "\n",
    "svc = Pipeline([('vect', CountVectorizer()),\n",
    "                ('tfidf', TfidfTransformer()),\n",
    "                ('clf', OneVsRestClassifier(LinearSVC(loss='hinge',random_state=42,class_weight='balanced'))),\n",
    "               ])\n",
    "svc.fit(X_train, y_train)\n",
    "\n",
    "y_pred = svc.predict(X_test)\n",
    "print('accuracy %s' % accuracy_score(y_pred, y_test))\n",
    "print('f1 score %s' % f1_score(y_pred, y_test,average='weighted')) \n",
    "\n",
    "\n",
    "print(classification_report(y_test, y_pred))\n",
    "\n",
    "print(confusion_matrix(y_test,y_pred))\n",
    "log_entry = pd.DataFrame([[\"LinearSVC\",accuracy_score(y_pred, y_test),f1_score(y_pred, y_test,average='weighted')]], columns=log_cols)\n",
    "log1 = log1.append(log_entry)"
   ]
  },
  {
   "cell_type": "markdown",
   "metadata": {},
   "source": [
    "#### SGD Classifier"
   ]
  },
  {
   "cell_type": "code",
   "execution_count": 7,
   "metadata": {},
   "outputs": [
    {
     "name": "stdout",
     "output_type": "stream",
     "text": [
      "accuracy 0.7613195342820182\n",
      "f1 score 0.7598260227617155\n",
      "              precision    recall  f1-score   support\n",
      "\n",
      "           0       0.90      0.67      0.77       923\n",
      "           1       0.65      0.89      0.75       623\n",
      "\n",
      "    accuracy                           0.76      1546\n",
      "   macro avg       0.78      0.78      0.76      1546\n",
      "weighted avg       0.80      0.76      0.76      1546\n",
      "\n",
      "[[620 303]\n",
      " [ 66 557]]\n"
     ]
    }
   ],
   "source": [
    "from sklearn.linear_model import SGDClassifier\n",
    "\n",
    "sgd = Pipeline([('vect', CountVectorizer()),\n",
    "                ('tfidf', TfidfTransformer()),\n",
    "                ('clf', SGDClassifier(loss='hinge', penalty='l2',alpha=1e-3, random_state=42, max_iter=100, tol=None,class_weight='balanced')),\n",
    "               ])\n",
    "sgd.fit(X_train, y_train)\n",
    "\n",
    "y_pred = sgd.predict(X_test)\n",
    "print('accuracy %s' % accuracy_score(y_pred, y_test))\n",
    "print('f1 score %s' % f1_score(y_pred, y_test,average='weighted')) \n",
    "\n",
    "\n",
    "print(classification_report(y_test, y_pred))\n",
    "\n",
    "print(confusion_matrix(y_test,y_pred))\n",
    "\n",
    "log_entry = pd.DataFrame([[\"SGDClassifier\",accuracy_score(y_pred, y_test),f1_score(y_pred, y_test,average='weighted')]], columns=log_cols)\n",
    "log1 = log1.append(log_entry)"
   ]
  },
  {
   "cell_type": "markdown",
   "metadata": {},
   "source": [
    "#### Logistic Regression"
   ]
  },
  {
   "cell_type": "code",
   "execution_count": 8,
   "metadata": {},
   "outputs": [
    {
     "name": "stdout",
     "output_type": "stream",
     "text": [
      "accuracy 0.7826649417852523\n",
      "f1 score 0.7820902259321157\n",
      "logloss: 2.714 \n",
      "              precision    recall  f1-score   support\n",
      "\n",
      "           0       0.83      0.81      0.82       923\n",
      "           1       0.72      0.75      0.74       623\n",
      "\n",
      "    accuracy                           0.78      1546\n",
      "   macro avg       0.77      0.78      0.78      1546\n",
      "weighted avg       0.78      0.78      0.78      1546\n",
      "\n",
      "[[744 179]\n",
      " [157 466]]\n"
     ]
    }
   ],
   "source": [
    "from sklearn.linear_model import LogisticRegression\n",
    "\n",
    "logreg_1 = Pipeline([('vect', CountVectorizer()),\n",
    "                ('tfidf', TfidfTransformer()),\n",
    "                ('clf', LogisticRegression(n_jobs=1, C=1e5,class_weight='balanced')),\n",
    "               ])\n",
    "logreg_1.fit(X_train, y_train)\n",
    "\n",
    "y_pred = logreg_1.predict(X_test)\n",
    "predictions = logreg_1.predict_proba(X_test)\n",
    "\n",
    "print('accuracy %s' % accuracy_score(y_pred, y_test))\n",
    "print('f1 score %s' % f1_score(y_pred, y_test,average='weighted')) \n",
    "print (\"logloss: %0.3f \" % multiclass_logloss(y_test,predictions))\n",
    "\n",
    "print(classification_report(y_test, y_pred))\n",
    "\n",
    "print(confusion_matrix(y_test,y_pred))\n",
    "\n",
    "log_entry = pd.DataFrame([[\"LogisticRegression\",accuracy_score(y_pred, y_test),f1_score(y_pred, y_test,average='weighted')]], columns=log_cols)\n",
    "log1 = log1.append(log_entry)"
   ]
  },
  {
   "cell_type": "code",
   "execution_count": 9,
   "metadata": {},
   "outputs": [
    {
     "data": {
      "text/html": [
       "<div>\n",
       "<style scoped>\n",
       "    .dataframe tbody tr th:only-of-type {\n",
       "        vertical-align: middle;\n",
       "    }\n",
       "\n",
       "    .dataframe tbody tr th {\n",
       "        vertical-align: top;\n",
       "    }\n",
       "\n",
       "    .dataframe thead th {\n",
       "        text-align: right;\n",
       "    }\n",
       "</style>\n",
       "<table border=\"1\" class=\"dataframe\">\n",
       "  <thead>\n",
       "    <tr style=\"text-align: right;\">\n",
       "      <th></th>\n",
       "      <th>accuracy</th>\n",
       "      <th>f1_score</th>\n",
       "    </tr>\n",
       "    <tr>\n",
       "      <th>Classifier</th>\n",
       "      <th></th>\n",
       "      <th></th>\n",
       "    </tr>\n",
       "  </thead>\n",
       "  <tbody>\n",
       "    <tr>\n",
       "      <th>SGDClassifier</th>\n",
       "      <td>0.761320</td>\n",
       "      <td>0.759826</td>\n",
       "    </tr>\n",
       "    <tr>\n",
       "      <th>LogisticRegression</th>\n",
       "      <td>0.782665</td>\n",
       "      <td>0.782090</td>\n",
       "    </tr>\n",
       "    <tr>\n",
       "      <th>MultinomialNB</th>\n",
       "      <td>0.803364</td>\n",
       "      <td>0.812145</td>\n",
       "    </tr>\n",
       "    <tr>\n",
       "      <th>LinearSVC</th>\n",
       "      <td>0.819534</td>\n",
       "      <td>0.818434</td>\n",
       "    </tr>\n",
       "  </tbody>\n",
       "</table>\n",
       "</div>"
      ],
      "text/plain": [
       "                    accuracy  f1_score\n",
       "Classifier                            \n",
       "SGDClassifier       0.761320  0.759826\n",
       "LogisticRegression  0.782665  0.782090\n",
       "MultinomialNB       0.803364  0.812145\n",
       "LinearSVC           0.819534  0.818434"
      ]
     },
     "execution_count": 9,
     "metadata": {},
     "output_type": "execute_result"
    }
   ],
   "source": [
    "log1.set_index([\"Classifier\"],inplace=True)\n",
    "log1.sort_values(by=['f1_score'])"
   ]
  },
  {
   "cell_type": "code",
   "execution_count": 10,
   "metadata": {},
   "outputs": [
    {
     "data": {
      "text/plain": [
       "<matplotlib.axes._subplots.AxesSubplot at 0x222322bc4e0>"
      ]
     },
     "execution_count": 10,
     "metadata": {},
     "output_type": "execute_result"
    },
    {
     "data": {
      "image/png": "[encoded data removed]",
      "text/plain": [
       "<Figure size 504x432 with 1 Axes>"
      ]
     },
     "metadata": {
      "needs_background": "light"
     },
     "output_type": "display_data"
    }
   ],
   "source": [
    "log1.sort_values(by=['f1_score']).plot(kind='barh',figsize=[7,6])"
   ]
  },
  {
   "cell_type": "markdown",
   "metadata": {},
   "source": [
    "Linear SVC gives better performance compared to other models"
   ]
  },
  {
   "cell_type": "code",
   "execution_count": 11,
   "metadata": {},
   "outputs": [
    {
     "data": {
      "text/plain": [
       "['l1_l2_classification.pkl']"
      ]
     },
     "execution_count": 11,
     "metadata": {},
     "output_type": "execute_result"
    }
   ],
   "source": [
    "### Save the model\n",
    "from sklearn.externals import joblib\n",
    "joblib.dump(svc, 'l1_l2_classification.pkl', compress=1)"
   ]
  },
  {
   "cell_type": "code",
   "execution_count": 12,
   "metadata": {},
   "outputs": [
    {
     "data": {
      "text/plain": [
       "{'L1/L2': 0, 'L3': 1}"
      ]
     },
     "execution_count": 12,
     "metadata": {},
     "output_type": "execute_result"
    }
   ],
   "source": [
    "le_name_mapping = dict(zip(encoder.classes_, encoder.transform(encoder.classes_)))\n",
    "le_name_mapping"
   ]
  },
  {
   "cell_type": "code",
   "execution_count": 13,
   "metadata": {},
   "outputs": [
    {
     "data": {
      "text/plain": [
       "array(['L3'], dtype=object)"
      ]
     },
     "execution_count": 13,
     "metadata": {},
     "output_type": "execute_result"
    }
   ],
   "source": [
    "from sklearn.externals import joblib\n",
    "model = joblib.load('l1_l2_classification.pkl')\n",
    "\n",
    "sentence = 'job failed in scheduler'\n",
    "encoder.inverse_transform(model.predict([sentence]))"
   ]
  },
  {
   "cell_type": "markdown",
   "metadata": {},
   "source": [
    "## Model1 - Classification of L1/L2 tickets between GRP0 and GRP8"
   ]
  },
  {
   "cell_type": "code",
   "execution_count": 14,
   "metadata": {},
   "outputs": [
    {
     "data": {
      "text/plain": [
       "(4614, 7)"
      ]
     },
     "execution_count": 14,
     "metadata": {},
     "output_type": "execute_result"
    }
   ],
   "source": [
    "df_incidents_l1_l2 = df_incidents_level[df_incidents_level['Target'] == 'L1/L2']\n",
    "df_incidents_l1_l2.shape"
   ]
  },
  {
   "cell_type": "code",
   "execution_count": 15,
   "metadata": {},
   "outputs": [
    {
     "data": {
      "text/plain": [
       "GRP_0    3971\n",
       "GRP_8     643\n",
       "Name: Assignment_group, dtype: int64"
      ]
     },
     "execution_count": 15,
     "metadata": {},
     "output_type": "execute_result"
    }
   ],
   "source": [
    "df_incidents_l1_l2.Assignment_group.value_counts()"
   ]
  },
  {
   "cell_type": "code",
   "execution_count": 16,
   "metadata": {},
   "outputs": [],
   "source": [
    "x = df_incidents_l1_l2['token_desc']\n",
    "y = df_incidents_l1_l2['Assignment_group']\n",
    "\n",
    "from sklearn import preprocessing\n",
    "encoder = preprocessing.LabelEncoder()\n",
    "# encoding train labels \n",
    "encoder.fit(y)\n",
    "y = encoder.transform(y)\n",
    "\n",
    "\n",
    "from sklearn.model_selection import train_test_split\n",
    "X_train, X_test, y_train, y_test = train_test_split(x, y, test_size= 0.2, random_state=13,stratify=y)\n",
    "\n",
    "from sklearn.utils.class_weight import compute_class_weight\n",
    "class_weights = compute_class_weight('balanced', np.unique(y_train), y_train)\n",
    "class_weights\n",
    "\n",
    "w_array = np.ones(y_train.shape[0], dtype = 'float')\n",
    "for i, val in enumerate(y_train):\n",
    "    w_array[i] = class_weights[val]\n",
    "    \n",
    "    \n",
    "log_cols=[\"Classifier\", \"accuracy\",\"f1_score\"]\n",
    "log2 = pd.DataFrame(columns=log_cols)"
   ]
  },
  {
   "cell_type": "markdown",
   "metadata": {},
   "source": [
    "### Naive Bayes"
   ]
  },
  {
   "cell_type": "code",
   "execution_count": 17,
   "metadata": {},
   "outputs": [
    {
     "name": "stdout",
     "output_type": "stream",
     "text": [
      "accuracy 0.9924160346695557\n",
      "f1 score 0.9925051452439715\n",
      "logloss: 0.032 \n",
      "              precision    recall  f1-score   support\n",
      "\n",
      "           0       0.99      1.00      1.00       794\n",
      "           1       1.00      0.95      0.97       129\n",
      "\n",
      "    accuracy                           0.99       923\n",
      "   macro avg       1.00      0.97      0.98       923\n",
      "weighted avg       0.99      0.99      0.99       923\n",
      "\n",
      "[[794   0]\n",
      " [  7 122]]\n"
     ]
    }
   ],
   "source": [
    "from sklearn.naive_bayes import MultinomialNB\n",
    "from sklearn.pipeline import Pipeline\n",
    "from sklearn.feature_extraction.text import TfidfTransformer\n",
    "from sklearn.feature_extraction.text import CountVectorizer\n",
    "from sklearn.metrics import accuracy_score, confusion_matrix, f1_score\n",
    "from sklearn.metrics import classification_report\n",
    "\n",
    "\n",
    "nb = Pipeline([('vect', CountVectorizer()),\n",
    "               ('tfidf', TfidfTransformer()),\n",
    "               ('clf', MultinomialNB()),\n",
    "              ])\n",
    "nb.fit(X_train, y_train)\n",
    "\n",
    "\n",
    "y_pred = nb.predict(X_test)\n",
    "predictions = nb.predict_proba(X_test)\n",
    "\n",
    "print('accuracy %s' % accuracy_score(y_pred, y_test)) \n",
    "print('f1 score %s' % f1_score(y_pred, y_test,average='weighted')) \n",
    "print (\"logloss: %0.3f \" % multiclass_logloss(y_test,predictions))\n",
    "\n",
    "print(classification_report(y_test, y_pred))\n",
    "\n",
    "print(confusion_matrix(y_test,y_pred))\n",
    "\n",
    "\n",
    "log_entry = pd.DataFrame([[\"MultinomialNB\",accuracy_score(y_pred, y_test),f1_score(y_pred, y_test,average='weighted')]], columns=log_cols)\n",
    "log2 = log2.append(log_entry)"
   ]
  },
  {
   "cell_type": "markdown",
   "metadata": {},
   "source": [
    "### Linear Support Vector Machine"
   ]
  },
  {
   "cell_type": "code",
   "execution_count": 18,
   "metadata": {},
   "outputs": [
    {
     "name": "stdout",
     "output_type": "stream",
     "text": [
      "Test accuracy 0.9967497291440953\n",
      "Test f1 score 0.9967657840184381\n",
      "              precision    recall  f1-score   support\n",
      "\n",
      "           0       1.00      1.00      1.00       794\n",
      "           1       1.00      0.98      0.99       129\n",
      "\n",
      "    accuracy                           1.00       923\n",
      "   macro avg       1.00      0.99      0.99       923\n",
      "weighted avg       1.00      1.00      1.00       923\n",
      "\n",
      "[[794   0]\n",
      " [  3 126]]\n"
     ]
    }
   ],
   "source": [
    "from sklearn.svm import LinearSVC\n",
    "from sklearn.multiclass import OneVsRestClassifier\n",
    "\n",
    "\n",
    "svc = Pipeline([('vect', CountVectorizer()),\n",
    "                ('tfidf', TfidfTransformer()),\n",
    "                ('clf', OneVsRestClassifier(LinearSVC(loss='hinge',random_state=42,class_weight='balanced'))),\n",
    "               ])\n",
    "svc.fit(X_train, y_train)\n",
    "\n",
    "y_pred = svc.predict(X_test)\n",
    "print('Test accuracy %s' % accuracy_score(y_pred, y_test))\n",
    "print('Test f1 score %s' % f1_score(y_pred, y_test,average='weighted')) \n",
    "\n",
    "print(classification_report(y_test, y_pred))\n",
    "\n",
    "print(confusion_matrix(y_test,y_pred))\n",
    "\n",
    "log_entry = pd.DataFrame([[\"LinearSVC\",accuracy_score(y_pred, y_test),f1_score(y_pred, y_test,average='weighted')]], columns=log_cols)\n",
    "log2 = log2.append(log_entry)"
   ]
  },
  {
   "cell_type": "markdown",
   "metadata": {},
   "source": [
    "### SGD Classifier"
   ]
  },
  {
   "cell_type": "code",
   "execution_count": 19,
   "metadata": {},
   "outputs": [
    {
     "name": "stdout",
     "output_type": "stream",
     "text": [
      "accuracy 0.9945828819068255\n",
      "f1 score 0.9945917164787735\n",
      "              precision    recall  f1-score   support\n",
      "\n",
      "           0       1.00      1.00      1.00       794\n",
      "           1       0.98      0.98      0.98       129\n",
      "\n",
      "    accuracy                           0.99       923\n",
      "   macro avg       0.99      0.99      0.99       923\n",
      "weighted avg       0.99      0.99      0.99       923\n",
      "\n",
      "[[792   2]\n",
      " [  3 126]]\n"
     ]
    }
   ],
   "source": [
    "from sklearn.linear_model import SGDClassifier\n",
    "\n",
    "sgd = Pipeline([('vect', CountVectorizer()),\n",
    "                ('tfidf', TfidfTransformer()),\n",
    "                ('clf', SGDClassifier(loss='hinge', penalty='l2',alpha=1e-3, random_state=42, max_iter=100, tol=None,class_weight='balanced')),\n",
    "               ])\n",
    "sgd.fit(X_train, y_train)\n",
    "\n",
    "\n",
    "\n",
    "\n",
    "y_pred = sgd.predict(X_test)\n",
    "print('accuracy %s' % accuracy_score(y_pred, y_test))\n",
    "print('f1 score %s' % f1_score(y_pred, y_test,average='weighted')) \n",
    "\n",
    "\n",
    "print(classification_report(y_test, y_pred))\n",
    "\n",
    "print(confusion_matrix(y_test,y_pred))\n",
    "\n",
    "\n",
    "log_entry = pd.DataFrame([[\"SGDClassifier\",accuracy_score(y_pred, y_test),f1_score(y_pred, y_test,average='weighted')]], columns=log_cols)\n",
    "log2 = log2.append(log_entry)"
   ]
  },
  {
   "cell_type": "markdown",
   "metadata": {},
   "source": [
    "### Logistic Regression"
   ]
  },
  {
   "cell_type": "code",
   "execution_count": 20,
   "metadata": {},
   "outputs": [
    {
     "name": "stdout",
     "output_type": "stream",
     "text": [
      "accuracy 0.9967497291440953\n",
      "f1 score 0.9967657840184381\n",
      "logloss: 0.035 \n",
      "              precision    recall  f1-score   support\n",
      "\n",
      "           0       1.00      1.00      1.00       794\n",
      "           1       1.00      0.98      0.99       129\n",
      "\n",
      "    accuracy                           1.00       923\n",
      "   macro avg       1.00      0.99      0.99       923\n",
      "weighted avg       1.00      1.00      1.00       923\n",
      "\n",
      "[[794   0]\n",
      " [  3 126]]\n"
     ]
    }
   ],
   "source": [
    "from sklearn.linear_model import LogisticRegression\n",
    "\n",
    "logreg_1 = Pipeline([('vect', CountVectorizer()),\n",
    "                ('tfidf', TfidfTransformer()),\n",
    "                ('clf', LogisticRegression(n_jobs=1, C=1e5,class_weight='balanced')),\n",
    "               ])\n",
    "logreg_1.fit(X_train, y_train)\n",
    "\n",
    "y_pred = logreg_1.predict(X_test)\n",
    "predictions = logreg_1.predict_proba(X_test)\n",
    "\n",
    "print('accuracy %s' % accuracy_score(y_pred, y_test))\n",
    "print('f1 score %s' % f1_score(y_pred, y_test,average='weighted')) \n",
    "print (\"logloss: %0.3f \" % multiclass_logloss(y_test,predictions))\n",
    "\n",
    "print(classification_report(y_test, y_pred))\n",
    "\n",
    "print(confusion_matrix(y_test,y_pred))\n",
    "\n",
    "log_entry = pd.DataFrame([[\"LogisticRegression\",accuracy_score(y_pred, y_test),f1_score(y_pred, y_test,average='weighted')]], columns=log_cols)\n",
    "log2 = log2.append(log_entry)"
   ]
  },
  {
   "cell_type": "code",
   "execution_count": 21,
   "metadata": {},
   "outputs": [
    {
     "data": {
      "text/html": [
       "<div>\n",
       "<style scoped>\n",
       "    .dataframe tbody tr th:only-of-type {\n",
       "        vertical-align: middle;\n",
       "    }\n",
       "\n",
       "    .dataframe tbody tr th {\n",
       "        vertical-align: top;\n",
       "    }\n",
       "\n",
       "    .dataframe thead th {\n",
       "        text-align: right;\n",
       "    }\n",
       "</style>\n",
       "<table border=\"1\" class=\"dataframe\">\n",
       "  <thead>\n",
       "    <tr style=\"text-align: right;\">\n",
       "      <th></th>\n",
       "      <th>accuracy</th>\n",
       "      <th>f1_score</th>\n",
       "    </tr>\n",
       "    <tr>\n",
       "      <th>Classifier</th>\n",
       "      <th></th>\n",
       "      <th></th>\n",
       "    </tr>\n",
       "  </thead>\n",
       "  <tbody>\n",
       "    <tr>\n",
       "      <th>MultinomialNB</th>\n",
       "      <td>0.992416</td>\n",
       "      <td>0.992505</td>\n",
       "    </tr>\n",
       "    <tr>\n",
       "      <th>SGDClassifier</th>\n",
       "      <td>0.994583</td>\n",
       "      <td>0.994592</td>\n",
       "    </tr>\n",
       "    <tr>\n",
       "      <th>LinearSVC</th>\n",
       "      <td>0.996750</td>\n",
       "      <td>0.996766</td>\n",
       "    </tr>\n",
       "    <tr>\n",
       "      <th>LogisticRegression</th>\n",
       "      <td>0.996750</td>\n",
       "      <td>0.996766</td>\n",
       "    </tr>\n",
       "  </tbody>\n",
       "</table>\n",
       "</div>"
      ],
      "text/plain": [
       "                    accuracy  f1_score\n",
       "Classifier                            \n",
       "MultinomialNB       0.992416  0.992505\n",
       "SGDClassifier       0.994583  0.994592\n",
       "LinearSVC           0.996750  0.996766\n",
       "LogisticRegression  0.996750  0.996766"
      ]
     },
     "execution_count": 21,
     "metadata": {},
     "output_type": "execute_result"
    }
   ],
   "source": [
    "log2.set_index([\"Classifier\"],inplace=True)\n",
    "log2.sort_values(by=['f1_score'])"
   ]
  },
  {
   "cell_type": "code",
   "execution_count": 22,
   "metadata": {},
   "outputs": [
    {
     "data": {
      "text/plain": [
       "<matplotlib.axes._subplots.AxesSubplot at 0x22231852518>"
      ]
     },
     "execution_count": 22,
     "metadata": {},
     "output_type": "execute_result"
    },
    {
     "data": {
      "image/png": "[encoded data removed]",
      "text/plain": [
       "<Figure size 504x432 with 1 Axes>"
      ]
     },
     "metadata": {
      "needs_background": "light"
     },
     "output_type": "display_data"
    }
   ],
   "source": [
    "log2.sort_values(by=['f1_score']).plot(kind='barh',figsize=[7,6])"
   ]
  },
  {
   "cell_type": "code",
   "execution_count": 23,
   "metadata": {},
   "outputs": [
    {
     "data": {
      "text/plain": [
       "['model_l1_l2.pkl']"
      ]
     },
     "execution_count": 23,
     "metadata": {},
     "output_type": "execute_result"
    }
   ],
   "source": [
    "\n",
    "### Save the model\n",
    "from sklearn.externals import joblib\n",
    "joblib.dump(logreg_1, 'model_l1_l2.pkl', compress=1)"
   ]
  },
  {
   "cell_type": "code",
   "execution_count": 24,
   "metadata": {},
   "outputs": [
    {
     "data": {
      "text/plain": [
       "{'GRP_0': 0, 'GRP_8': 1}"
      ]
     },
     "execution_count": 24,
     "metadata": {},
     "output_type": "execute_result"
    }
   ],
   "source": [
    "le_name_mapping = dict(zip(encoder.classes_, encoder.transform(encoder.classes_)))\n",
    "le_name_mapping"
   ]
  },
  {
   "cell_type": "code",
   "execution_count": 25,
   "metadata": {},
   "outputs": [
    {
     "data": {
      "text/plain": [
       "array(['GRP_8'], dtype=object)"
      ]
     },
     "execution_count": 25,
     "metadata": {},
     "output_type": "execute_result"
    }
   ],
   "source": [
    "\n",
    "from sklearn.externals import joblib\n",
    "model = joblib.load('model_l1_l2.pkl')\n",
    "\n",
    "sentence = 'job failed in scheduler'\n",
    "encoder.inverse_transform(model.predict([sentence]))"
   ]
  },
  {
   "cell_type": "markdown",
   "metadata": {},
   "source": [
    "## Model to classify L3 tickets\n",
    "\n",
    "Lets's now train the models to classify the L3 tickets into one of the assignement groups."
   ]
  },
  {
   "cell_type": "code",
   "execution_count": 26,
   "metadata": {},
   "outputs": [],
   "source": [
    "df_incidents_l3 = df_incidents_level[df_incidents_level['Target'] == 'L3']\n",
    "df_incidents_l3 = df_incidents_l3[df_incidents_l3['Assignment_group'].map(df_incidents_l3['Assignment_group'].value_counts()) > 50]\n",
    "x = df_incidents_l3['token_desc']\n",
    "y = df_incidents_l3['Assignment_group']\n",
    "\n",
    "from sklearn import preprocessing\n",
    "encoder = preprocessing.LabelEncoder()\n",
    "# encoding train labels \n",
    "encoder.fit(y)\n",
    "y = encoder.transform(y)\n",
    "\n",
    "\n",
    "from sklearn.model_selection import train_test_split\n",
    "X_train, X_test, y_train, y_test = train_test_split(x, y, test_size= 0.2, random_state=13,stratify=y)\n",
    "\n",
    "from sklearn.utils.class_weight import compute_class_weight\n",
    "class_weights = compute_class_weight('balanced', np.unique(y_train), y_train)\n",
    "class_weights\n",
    "\n",
    "w_array = np.ones(y_train.shape[0], dtype = 'float')\n",
    "for i, val in enumerate(y_train):\n",
    "    w_array[i] = class_weights[val]\n",
    "    \n",
    "log_cols=[\"Classifier\", \"accuracy\",\"f1_score\"]\n",
    "log = pd.DataFrame(columns=log_cols)"
   ]
  },
  {
   "cell_type": "markdown",
   "metadata": {},
   "source": [
    "### Naive Bayes"
   ]
  },
  {
   "cell_type": "code",
   "execution_count": 27,
   "metadata": {},
   "outputs": [
    {
     "name": "stdout",
     "output_type": "stream",
     "text": [
      "accuracy 0.5120385232744783\n",
      "f1 score 0.5720780575411325\n",
      "logloss: 1.841 \n",
      "              precision    recall  f1-score   support\n",
      "\n",
      "           0       0.95      0.62      0.75        29\n",
      "           1       0.49      0.82      0.61        50\n",
      "           2       0.52      0.59      0.55        29\n",
      "           3       1.00      0.17      0.30        23\n",
      "           4       0.00      0.00      0.00        17\n",
      "           5       0.94      1.00      0.97        16\n",
      "           6       1.00      0.06      0.11        17\n",
      "           7       0.44      0.61      0.51        44\n",
      "           8       0.33      0.94      0.48        49\n",
      "           9       0.61      0.88      0.72        58\n",
      "          10       0.86      0.26      0.40        23\n",
      "          11       0.00      0.00      0.00        11\n",
      "          12       0.00      0.00      0.00        19\n",
      "          13       0.46      0.42      0.44        40\n",
      "          14       0.00      0.00      0.00        12\n",
      "          15       1.00      0.05      0.09        21\n",
      "          16       0.00      0.00      0.00        12\n",
      "          17       1.00      0.20      0.33        20\n",
      "          18       1.00      0.26      0.41        31\n",
      "          19       0.52      0.41      0.45        37\n",
      "          20       1.00      0.14      0.25        14\n",
      "          21       0.50      0.88      0.64        51\n",
      "\n",
      "    accuracy                           0.51       623\n",
      "   macro avg       0.57      0.38      0.36       623\n",
      "weighted avg       0.58      0.51      0.45       623\n",
      "\n",
      "[[18  0  3  0  0  0  0  0  6  0  0  0  0  0  0  0  0  0  0  0  0  2]\n",
      " [ 0 41  0  0  0  1  0  2  2  4  0  0  0  0  0  0  0  0  0  0  0  0]\n",
      " [ 1  0 17  0  0  0  0  2  5  1  0  0  0  0  0  0  0  0  0  2  0  1]\n",
      " [ 0  7  0  4  0  0  0  1  7  1  0  0  0  2  0  0  0  0  0  0  0  1]\n",
      " [ 0  3  0  0  0  0  0  1 12  0  0  0  0  1  0  0  0  0  0  0  0  0]\n",
      " [ 0  0  0  0  0 16  0  0  0  0  0  0  0  0  0  0  0  0  0  0  0  0]\n",
      " [ 0  0  3  0  0  0  1  0  4  1  0  0  0  1  0  0  0  0  0  7  0  0]\n",
      " [ 0  4  0  0  0  0  0 27  5  4  0  0  0  4  0  0  0  0  0  0  0  0]\n",
      " [ 0  0  0  0  0  0  0  3 46  0  0  0  0  0  0  0  0  0  0  0  0  0]\n",
      " [ 0  3  0  0  0  0  0  0  1 51  1  0  0  2  0  0  0  0  0  0  0  0]\n",
      " [ 0  4  1  0  0  0  0  1  6  3  6  0  0  0  0  0  0  0  0  0  0  2]\n",
      " [ 0  1  0  0  0  0  0  1  9  0  0  0  0  0  0  0  0  0  0  0  0  0]\n",
      " [ 0  0  5  0  0  0  0  0  9  0  0  0  0  0  0  0  0  0  0  5  0  0]\n",
      " [ 0  3  0  0  0  0  0 10  6  4  0  0  0 17  0  0  0  0  0  0  0  0]\n",
      " [ 0  0  0  0  1  0  0  5  2  2  0  0  0  2  0  0  0  0  0  0  0  0]\n",
      " [ 0  3  0  0  0  0  0  2  3 10  0  0  0  2  0  1  0  0  0  0  0  0]\n",
      " [ 0  7  1  0  0  0  0  0  3  1  0  0  0  0  0  0  0  0  0  0  0  0]\n",
      " [ 0  7  0  0  0  0  0  2  5  0  0  0  0  2  0  0  0  4  0  0  0  0]\n",
      " [ 0  1  0  0  0  0  0  1  0  0  0  0  0  1  0  0  0  0  8  0  0 20]\n",
      " [ 0  0  2  0  0  0  0  0  1  0  0  0  0  0  0  0  0  0  0 15  0 19]\n",
      " [ 0  0  0  0  0  0  0  4  5  1  0  0  0  2  0  0  0  0  0  0  2  0]\n",
      " [ 0  0  1  0  0  0  0  0  4  0  0  0  0  1  0  0  0  0  0  0  0 45]]\n"
     ]
    }
   ],
   "source": [
    "from sklearn.naive_bayes import MultinomialNB\n",
    "from sklearn.pipeline import Pipeline\n",
    "from sklearn.feature_extraction.text import TfidfTransformer\n",
    "from sklearn.feature_extraction.text import CountVectorizer\n",
    "from sklearn.metrics import accuracy_score, confusion_matrix, f1_score\n",
    "from sklearn.metrics import classification_report\n",
    "\n",
    "\n",
    "nb = Pipeline([('vect', CountVectorizer()),\n",
    "               ('tfidf', TfidfTransformer()),\n",
    "               ('clf', MultinomialNB()),\n",
    "              ])\n",
    "nb.fit(X_train, y_train)\n",
    "\n",
    "\n",
    "y_pred = nb.predict(X_test)\n",
    "predictions = nb.predict_proba(X_test)\n",
    "\n",
    "print('accuracy %s' % accuracy_score(y_pred, y_test)) \n",
    "print('f1 score %s' % f1_score(y_pred, y_test,average='weighted')) \n",
    "print (\"logloss: %0.3f \" % multiclass_logloss(y_test,predictions))\n",
    "\n",
    "print(classification_report(y_test, y_pred))\n",
    "\n",
    "print(confusion_matrix(y_test,y_pred))\n",
    "\n",
    "log_entry = pd.DataFrame([[\"MultinomialNB\",accuracy_score(y_pred, y_test),f1_score(y_pred, y_test,average='weighted')]], columns=log_cols)\n",
    "log = log.append(log_entry)"
   ]
  },
  {
   "cell_type": "markdown",
   "metadata": {},
   "source": [
    "### Linear Support Vector Machine"
   ]
  },
  {
   "cell_type": "code",
   "execution_count": 28,
   "metadata": {},
   "outputs": [
    {
     "name": "stdout",
     "output_type": "stream",
     "text": [
      "Test accuracy 0.709470304975923\n",
      "Test f1 score 0.7120737930288871\n",
      "              precision    recall  f1-score   support\n",
      "\n",
      "           0       0.92      0.83      0.87        29\n",
      "           1       0.67      0.78      0.72        50\n",
      "           2       0.59      0.66      0.62        29\n",
      "           3       0.57      0.57      0.57        23\n",
      "           4       0.76      0.76      0.76        17\n",
      "           5       1.00      1.00      1.00        16\n",
      "           6       0.65      0.65      0.65        17\n",
      "           7       0.52      0.66      0.58        44\n",
      "           8       0.71      0.84      0.77        49\n",
      "           9       0.84      0.83      0.83        58\n",
      "          10       0.82      0.61      0.70        23\n",
      "          11       0.50      0.45      0.48        11\n",
      "          12       0.76      0.84      0.80        19\n",
      "          13       0.53      0.47      0.50        40\n",
      "          14       0.46      0.50      0.48        12\n",
      "          15       0.60      0.43      0.50        21\n",
      "          16       0.75      0.25      0.38        12\n",
      "          17       0.73      0.55      0.63        20\n",
      "          18       0.85      0.74      0.79        31\n",
      "          19       0.72      0.84      0.77        37\n",
      "          20       0.71      0.71      0.71        14\n",
      "          21       0.88      0.82      0.85        51\n",
      "\n",
      "    accuracy                           0.71       623\n",
      "   macro avg       0.71      0.67      0.68       623\n",
      "weighted avg       0.72      0.71      0.71       623\n",
      "\n",
      "[[24  0  2  0  0  0  1  0  2  0  0  0  0  0  0  0  0  0  0  0  0  0]\n",
      " [ 0 39  0  2  1  0  0  0  1  2  1  0  0  1  0  2  0  0  0  0  1  0]\n",
      " [ 1  0 19  0  0  0  4  0  0  0  0  1  1  1  0  0  0  0  0  1  0  1]\n",
      " [ 0  2  0 13  0  0  0  2  2  0  0  0  2  1  0  0  0  0  0  1  0  0]\n",
      " [ 0  0  2  1 13  0  0  1  0  0  0  0  0  0  0  0  0  0  0  0  0  0]\n",
      " [ 0  0  0  0  0 16  0  0  0  0  0  0  0  0  0  0  0  0  0  0  0  0]\n",
      " [ 0  0  1  0  0  0 11  0  1  0  0  0  1  1  0  0  0  0  0  2  0  0]\n",
      " [ 0  1  0  0  0  0  0 29  1  1  0  1  0  6  2  1  0  2  0  0  0  0]\n",
      " [ 0  1  0  0  1  0  0  3 41  0  0  0  0  0  1  0  0  1  0  0  1  0]\n",
      " [ 0  1  0  1  0  0  0  1  0 48  2  0  0  2  1  1  0  1  0  0  0  0]\n",
      " [ 0  2  3  1  1  0  1  0  1  0 14  0  0  0  0  0  0  0  0  0  0  0]\n",
      " [ 0  0  1  1  0  0  0  1  1  0  0  5  0  0  0  0  1  0  0  1  0  0]\n",
      " [ 1  0  1  0  0  0  0  0  0  0  0  0 16  0  0  0  0  0  0  1  0  0]\n",
      " [ 0  2  0  1  0  0  0  9  3  2  0  1  0 19  1  2  0  0  0  0  0  0]\n",
      " [ 0  0  0  0  1  0  0  4  1  0  0  0  0  0  6  0  0  0  0  0  0  0]\n",
      " [ 0  2  0  0  0  0  0  1  1  4  0  0  0  1  1  9  0  0  0  0  2  0]\n",
      " [ 0  5  0  0  0  0  0  0  2  0  0  0  0  0  1  0  3  0  0  1  0  0]\n",
      " [ 0  2  1  2  0  0  0  2  0  0  0  0  0  2  0  0  0 11  0  0  0  0]\n",
      " [ 0  1  0  0  0  0  0  0  0  0  0  1  0  0  0  0  0  0 23  3  0  3]\n",
      " [ 0  0  1  0  0  0  0  0  0  0  0  0  1  0  0  0  0  0  2 31  0  2]\n",
      " [ 0  0  0  0  0  0  0  2  0  0  0  1  0  1  0  0  0  0  0  0 10  0]\n",
      " [ 0  0  1  1  0  0  0  1  1  0  0  0  0  1  0  0  0  0  2  2  0 42]]\n"
     ]
    }
   ],
   "source": [
    "from sklearn.svm import LinearSVC\n",
    "from sklearn.multiclass import OneVsRestClassifier\n",
    "\n",
    "\n",
    "svc = Pipeline([('vect', CountVectorizer()),\n",
    "                ('tfidf', TfidfTransformer()),\n",
    "                ('clf', OneVsRestClassifier(LinearSVC(loss='hinge',random_state=42,class_weight='balanced'))),\n",
    "               ])\n",
    "svc.fit(X_train, y_train)\n",
    "\n",
    "y_pred = svc.predict(X_test)\n",
    "print('Test accuracy %s' % accuracy_score(y_pred, y_test))\n",
    "print('Test f1 score %s' % f1_score(y_pred, y_test,average='weighted')) \n",
    "\n",
    "print(classification_report(y_test, y_pred))\n",
    "\n",
    "print(confusion_matrix(y_test,y_pred))\n",
    "\n",
    "log_entry = pd.DataFrame([[\"LinearSVC\",accuracy_score(y_pred, y_test),f1_score(y_pred, y_test,average='weighted')]], columns=log_cols)\n",
    "log = log.append(log_entry)"
   ]
  },
  {
   "cell_type": "markdown",
   "metadata": {},
   "source": [
    "### SGD Classifier"
   ]
  },
  {
   "cell_type": "code",
   "execution_count": 29,
   "metadata": {},
   "outputs": [
    {
     "name": "stdout",
     "output_type": "stream",
     "text": [
      "accuracy 0.6548956661316212\n",
      "f1 score 0.6552730359075201\n",
      "              precision    recall  f1-score   support\n",
      "\n",
      "           0       0.81      0.76      0.79        29\n",
      "           1       0.72      0.52      0.60        50\n",
      "           2       0.65      0.69      0.67        29\n",
      "           3       0.50      0.52      0.51        23\n",
      "           4       0.56      0.82      0.67        17\n",
      "           5       0.76      1.00      0.86        16\n",
      "           6       0.59      0.76      0.67        17\n",
      "           7       0.74      0.45      0.56        44\n",
      "           8       0.73      0.65      0.69        49\n",
      "           9       0.78      0.74      0.76        58\n",
      "          10       0.70      0.70      0.70        23\n",
      "          11       0.31      0.73      0.43        11\n",
      "          12       0.68      0.89      0.77        19\n",
      "          13       0.62      0.33      0.43        40\n",
      "          14       0.38      0.50      0.43        12\n",
      "          15       0.48      0.52      0.50        21\n",
      "          16       0.33      0.50      0.40        12\n",
      "          17       0.50      0.60      0.55        20\n",
      "          18       0.72      0.74      0.73        31\n",
      "          19       0.77      0.65      0.71        37\n",
      "          20       0.52      0.86      0.65        14\n",
      "          21       0.86      0.82      0.84        51\n",
      "\n",
      "    accuracy                           0.65       623\n",
      "   macro avg       0.62      0.67      0.63       623\n",
      "weighted avg       0.68      0.65      0.65       623\n",
      "\n",
      "[[22  0  3  0  0  1  0  0  0  0  0  2  0  0  0  0  1  0  0  0  0  0]\n",
      " [ 0 26  0  5  2  1  0  0  1  2  1  1  1  1  0  2  5  2  0  0  0  0]\n",
      " [ 2  0 20  0  1  0  4  0  0  0  0  1  0  0  0  0  0  0  0  1  0  0]\n",
      " [ 1  2  0 12  0  0  1  0  1  0  0  1  3  0  0  0  0  0  1  0  1  0]\n",
      " [ 0  0  1  1 14  0  0  0  0  0  0  0  0  0  0  0  0  1  0  0  0  0]\n",
      " [ 0  0  0  0  0 16  0  0  0  0  0  0  0  0  0  0  0  0  0  0  0  0]\n",
      " [ 0  0  1  0  0  0 13  0  0  0  0  1  1  0  0  0  0  0  0  1  0  0]\n",
      " [ 0  0  0  2  1  1  1 20  2  4  0  2  0  2  1  3  1  4  0  0  0  0]\n",
      " [ 0  1  0  0  2  2  0  3 32  1  1  3  0  0  1  0  1  1  0  0  1  0]\n",
      " [ 0  1  0  0  0  0  0  0  0 43  4  0  0  3  2  4  0  1  0  0  0  0]\n",
      " [ 0  1  2  0  2  0  0  0  1  0 16  0  0  0  0  0  1  0  0  0  0  0]\n",
      " [ 0  0  0  1  0  0  0  0  0  0  0  8  0  0  0  0  1  0  0  0  1  0]\n",
      " [ 0  0  1  0  0  0  0  0  0  0  0  0 17  0  0  0  0  0  0  1  0  0]\n",
      " [ 0  2  0  0  1  0  1  2  3  2  1  3  1 13  4  1  1  2  0  0  3  0]\n",
      " [ 1  0  0  0  1  0  0  1  1  0  0  0  0  0  6  1  0  0  0  0  1  0]\n",
      " [ 0  0  0  0  0  0  0  1  0  3  0  1  0  1  0 11  1  1  0  0  2  0]\n",
      " [ 0  0  0  0  0  0  0  0  1  0  0  0  0  1  2  0  6  0  0  2  0  0]\n",
      " [ 0  2  0  2  0  0  0  0  1  0  0  0  0  0  0  1  0 12  0  0  2  0]\n",
      " [ 1  1  0  0  0  0  0  0  0  0  0  1  0  0  0  0  0  0 23  1  0  4]\n",
      " [ 0  0  1  0  0  0  2  0  0  0  0  0  2  0  0  0  0  0  5 24  0  3]\n",
      " [ 0  0  0  0  0  0  0  0  1  0  0  1  0  0  0  0  0  0  0  0 12  0]\n",
      " [ 0  0  2  1  1  0  0  0  0  0  0  1  0  0  0  0  0  0  3  1  0 42]]\n"
     ]
    }
   ],
   "source": [
    "from sklearn.linear_model import SGDClassifier\n",
    "\n",
    "sgd = Pipeline([('vect', CountVectorizer()),\n",
    "                ('tfidf', TfidfTransformer()),\n",
    "                ('clf', SGDClassifier(loss='hinge', penalty='l2',alpha=1e-3, random_state=42, max_iter=100, tol=None,class_weight='balanced')),\n",
    "               ])\n",
    "sgd.fit(X_train, y_train)\n",
    "\n",
    "y_pred = sgd.predict(X_test)\n",
    "print('accuracy %s' % accuracy_score(y_pred, y_test))\n",
    "print('f1 score %s' % f1_score(y_pred, y_test,average='weighted')) \n",
    "\n",
    "\n",
    "print(classification_report(y_test, y_pred))\n",
    "\n",
    "print(confusion_matrix(y_test,y_pred))\n",
    "\n",
    "log_entry = pd.DataFrame([[\"SGDClassifier\",accuracy_score(y_pred, y_test),f1_score(y_pred, y_test,average='weighted')]], columns=log_cols)\n",
    "log = log.append(log_entry)"
   ]
  },
  {
   "cell_type": "markdown",
   "metadata": {},
   "source": [
    "### Logistic Regression"
   ]
  },
  {
   "cell_type": "code",
   "execution_count": 30,
   "metadata": {},
   "outputs": [
    {
     "name": "stdout",
     "output_type": "stream",
     "text": [
      "accuracy 0.6902086677367576\n",
      "f1 score 0.6920296264657881\n",
      "logloss: 2.188 \n",
      "              precision    recall  f1-score   support\n",
      "\n",
      "           0       0.93      0.86      0.89        29\n",
      "           1       0.60      0.70      0.65        50\n",
      "           2       0.53      0.62      0.57        29\n",
      "           3       0.67      0.52      0.59        23\n",
      "           4       0.88      0.82      0.85        17\n",
      "           5       1.00      1.00      1.00        16\n",
      "           6       0.73      0.65      0.69        17\n",
      "           7       0.50      0.55      0.52        44\n",
      "           8       0.66      0.84      0.74        49\n",
      "           9       0.82      0.79      0.81        58\n",
      "          10       0.76      0.57      0.65        23\n",
      "          11       0.67      0.55      0.60        11\n",
      "          12       0.76      0.84      0.80        19\n",
      "          13       0.45      0.50      0.48        40\n",
      "          14       0.44      0.58      0.50        12\n",
      "          15       0.73      0.38      0.50        21\n",
      "          16       0.50      0.17      0.25        12\n",
      "          17       0.57      0.60      0.59        20\n",
      "          18       0.80      0.77      0.79        31\n",
      "          19       0.70      0.84      0.77        37\n",
      "          20       0.69      0.64      0.67        14\n",
      "          21       0.93      0.78      0.85        51\n",
      "\n",
      "    accuracy                           0.69       623\n",
      "   macro avg       0.70      0.66      0.67       623\n",
      "weighted avg       0.70      0.69      0.69       623\n",
      "\n",
      "[[25  0  2  0  0  0  0  0  2  0  0  0  0  0  0  0  0  0  0  0  0  0]\n",
      " [ 0 35  0  2  0  0  0  0  1  2  1  0  0  4  1  1  1  2  0  0  0  0]\n",
      " [ 2  0 18  0  0  0  2  0  1  0  0  1  1  0  0  0  0  0  0  2  1  1]\n",
      " [ 0  2  1 12  0  0  0  1  2  1  0  0  2  1  0  0  0  0  0  1  0  0]\n",
      " [ 0  1  1  0 14  0  0  0  0  0  0  0  0  0  0  0  0  1  0  0  0  0]\n",
      " [ 0  0  0  0  0 16  0  0  0  0  0  0  0  0  0  0  0  0  0  0  0  0]\n",
      " [ 0  0  1  0  0  0 11  0  1  0  0  0  1  1  0  0  0  0  0  2  0  0]\n",
      " [ 0  2  0  0  0  0  1 24  1  1  1  1  0  8  2  1  0  2  0  0  0  0]\n",
      " [ 0  2  0  0  1  0  0  2 41  0  0  0  0  0  2  0  0  0  0  0  1  0]\n",
      " [ 0  2  0  1  0  0  0  3  0 46  2  0  0  1  1  1  0  1  0  0  0  0]\n",
      " [ 0  1  3  1  0  0  0  0  3  0 13  0  0  2  0  0  0  0  0  0  0  0]\n",
      " [ 0  0  1  1  0  0  0  0  2  0  0  6  0  0  0  0  1  0  0  0  0  0]\n",
      " [ 0  0  2  0  0  0  0  0  0  0  0  0 16  0  0  0  0  0  0  1  0  0]\n",
      " [ 0  2  0  0  0  0  0 10  2  2  0  1  0 20  1  0  0  2  0  0  0  0]\n",
      " [ 0  0  0  0  1  0  0  2  2  0  0  0  0  0  7  0  0  0  0  0  0  0]\n",
      " [ 0  2  0  0  0  0  0  0  1  4  0  0  0  3  1  8  0  0  0  0  2  0]\n",
      " [ 0  6  0  0  0  0  0  1  1  0  0  0  0  0  1  0  2  0  0  1  0  0]\n",
      " [ 0  2  1  0  0  0  0  2  1  0  0  0  0  2  0  0  0 12  0  0  0  0]\n",
      " [ 0  1  0  0  0  0  1  0  0  0  0  0  0  0  0  0  0  0 24  3  0  2]\n",
      " [ 0  0  2  0  0  0  0  0  0  0  0  0  1  0  0  0  0  0  3 31  0  0]\n",
      " [ 0  0  0  0  0  0  0  2  0  0  0  0  0  2  0  0  0  1  0  0  9  0]\n",
      " [ 0  0  2  1  0  0  0  1  1  0  0  0  0  0  0  0  0  0  3  3  0 40]]\n"
     ]
    }
   ],
   "source": [
    "from sklearn.linear_model import LogisticRegression\n",
    "\n",
    "logreg_1 = Pipeline([('vect', CountVectorizer()),\n",
    "                ('tfidf', TfidfTransformer()),\n",
    "                ('clf', LogisticRegression(n_jobs=1, C=1e5,class_weight='balanced')),\n",
    "               ])\n",
    "logreg_1.fit(X_train, y_train)\n",
    "\n",
    "y_pred = logreg_1.predict(X_test)\n",
    "predictions = logreg_1.predict_proba(X_test)\n",
    "\n",
    "print('accuracy %s' % accuracy_score(y_pred, y_test))\n",
    "print('f1 score %s' % f1_score(y_pred, y_test,average='weighted')) \n",
    "print (\"logloss: %0.3f \" % multiclass_logloss(y_test,predictions))\n",
    "\n",
    "print(classification_report(y_test, y_pred))\n",
    "\n",
    "print(confusion_matrix(y_test,y_pred))\n",
    "\n",
    "log_entry = pd.DataFrame([[\"LogisticRegression\",accuracy_score(y_pred, y_test),f1_score(y_pred, y_test,average='weighted')]], columns=log_cols)\n",
    "log = log.append(log_entry)"
   ]
  },
  {
   "cell_type": "code",
   "execution_count": 31,
   "metadata": {},
   "outputs": [
    {
     "data": {
      "text/html": [
       "<div>\n",
       "<style scoped>\n",
       "    .dataframe tbody tr th:only-of-type {\n",
       "        vertical-align: middle;\n",
       "    }\n",
       "\n",
       "    .dataframe tbody tr th {\n",
       "        vertical-align: top;\n",
       "    }\n",
       "\n",
       "    .dataframe thead th {\n",
       "        text-align: right;\n",
       "    }\n",
       "</style>\n",
       "<table border=\"1\" class=\"dataframe\">\n",
       "  <thead>\n",
       "    <tr style=\"text-align: right;\">\n",
       "      <th></th>\n",
       "      <th>accuracy</th>\n",
       "      <th>f1_score</th>\n",
       "    </tr>\n",
       "    <tr>\n",
       "      <th>Classifier</th>\n",
       "      <th></th>\n",
       "      <th></th>\n",
       "    </tr>\n",
       "  </thead>\n",
       "  <tbody>\n",
       "    <tr>\n",
       "      <th>MultinomialNB</th>\n",
       "      <td>0.512039</td>\n",
       "      <td>0.572078</td>\n",
       "    </tr>\n",
       "    <tr>\n",
       "      <th>SGDClassifier</th>\n",
       "      <td>0.654896</td>\n",
       "      <td>0.655273</td>\n",
       "    </tr>\n",
       "    <tr>\n",
       "      <th>LogisticRegression</th>\n",
       "      <td>0.690209</td>\n",
       "      <td>0.692030</td>\n",
       "    </tr>\n",
       "    <tr>\n",
       "      <th>LinearSVC</th>\n",
       "      <td>0.709470</td>\n",
       "      <td>0.712074</td>\n",
       "    </tr>\n",
       "  </tbody>\n",
       "</table>\n",
       "</div>"
      ],
      "text/plain": [
       "                    accuracy  f1_score\n",
       "Classifier                            \n",
       "MultinomialNB       0.512039  0.572078\n",
       "SGDClassifier       0.654896  0.655273\n",
       "LogisticRegression  0.690209  0.692030\n",
       "LinearSVC           0.709470  0.712074"
      ]
     },
     "execution_count": 31,
     "metadata": {},
     "output_type": "execute_result"
    }
   ],
   "source": [
    "log.set_index([\"Classifier\"],inplace=True)\n",
    "log.sort_values(by=['f1_score'])"
   ]
  },
  {
   "cell_type": "code",
   "execution_count": 32,
   "metadata": {},
   "outputs": [
    {
     "data": {
      "text/plain": [
       "<matplotlib.axes._subplots.AxesSubplot at 0x2223294b5c0>"
      ]
     },
     "execution_count": 32,
     "metadata": {},
     "output_type": "execute_result"
    },
    {
     "data": {
      "image/png": "[encoded data removed]",
      "text/plain": [
       "<Figure size 504x432 with 1 Axes>"
      ]
     },
     "metadata": {
      "needs_background": "light"
     },
     "output_type": "display_data"
    }
   ],
   "source": [
    "log.sort_values(by=['f1_score']).plot(kind='barh',figsize=[7,6])"
   ]
  },
  {
   "cell_type": "markdown",
   "metadata": {},
   "source": [
    "## Hyperparameter Tune GridSearchCV \n",
    "\n",
    "Let's tune each of the models using GridsearchCV to identify the best parameters"
   ]
  },
  {
   "cell_type": "markdown",
   "metadata": {},
   "source": [
    "### Linear SVC"
   ]
  },
  {
   "cell_type": "code",
   "execution_count": 33,
   "metadata": {},
   "outputs": [
    {
     "name": "stdout",
     "output_type": "stream",
     "text": [
      "Fitting 5 folds for each of 10 candidates, totalling 50 fits\n"
     ]
    },
    {
     "name": "stderr",
     "output_type": "stream",
     "text": [
      "[Parallel(n_jobs=1)]: Using backend SequentialBackend with 1 concurrent workers.\n",
      "[Parallel(n_jobs=1)]: Done  50 out of  50 | elapsed:  1.1min finished\n"
     ]
    },
    {
     "name": "stdout",
     "output_type": "stream",
     "text": [
      "Best Score:  0.6749712122841616\n",
      "Best Params:  {'clf__estimator__C': 1, 'clf__estimator__loss': 'squared_hinge'}\n"
     ]
    }
   ],
   "source": [
    "from sklearn.model_selection import GridSearchCV\n",
    "\n",
    "params = {\"clf__estimator__C\": [0.1, 1, 10, 100, 1000],  \n",
    "              'clf__estimator__loss': ['hinge','squared_hinge'],}  \n",
    "  \n",
    "clf_svc = GridSearchCV(svc, param_grid=params, refit = True, verbose = 1,scoring='f1_weighted') \n",
    "# fitting the model for grid search \n",
    "clf_svc.fit(X_train, y_train)\n",
    "\n",
    "print(\"Best Score: \", clf_svc.best_score_)\n",
    "print(\"Best Params: \", clf_svc.best_params_)"
   ]
  },
  {
   "cell_type": "code",
   "execution_count": 34,
   "metadata": {},
   "outputs": [
    {
     "name": "stdout",
     "output_type": "stream",
     "text": [
      "accuracy 0.7046548956661316\n",
      "f1 score 0.7067989174530586\n",
      "              precision    recall  f1-score   support\n",
      "\n",
      "           0       0.92      0.83      0.87        29\n",
      "           1       0.65      0.72      0.69        50\n",
      "           2       0.58      0.66      0.61        29\n",
      "           3       0.55      0.52      0.53        23\n",
      "           4       0.76      0.76      0.76        17\n",
      "           5       1.00      1.00      1.00        16\n",
      "           6       0.60      0.71      0.65        17\n",
      "           7       0.56      0.66      0.60        44\n",
      "           8       0.69      0.84      0.76        49\n",
      "           9       0.84      0.81      0.82        58\n",
      "          10       0.81      0.57      0.67        23\n",
      "          11       0.50      0.45      0.48        11\n",
      "          12       0.73      0.84      0.78        19\n",
      "          13       0.60      0.53      0.56        40\n",
      "          14       0.40      0.50      0.44        12\n",
      "          15       0.56      0.43      0.49        21\n",
      "          16       0.50      0.25      0.33        12\n",
      "          17       0.69      0.55      0.61        20\n",
      "          18       0.85      0.74      0.79        31\n",
      "          19       0.74      0.84      0.78        37\n",
      "          20       0.69      0.64      0.67        14\n",
      "          21       0.88      0.84      0.86        51\n",
      "\n",
      "    accuracy                           0.70       623\n",
      "   macro avg       0.69      0.67      0.67       623\n",
      "weighted avg       0.71      0.70      0.70       623\n",
      "\n",
      "[[24  0  2  0  0  0  1  0  2  0  0  0  0  0  0  0  0  0  0  0  0  0]\n",
      " [ 0 36  0  3  1  0  0  0  1  2  1  0  0  1  0  2  1  1  0  0  1  0]\n",
      " [ 1  0 19  0  0  0  4  0  0  0  0  1  1  1  0  0  0  0  0  1  0  1]\n",
      " [ 0  2  1 12  0  0  0  2  2  0  0  0  2  1  0  0  0  0  0  1  0  0]\n",
      " [ 0  0  2  1 13  0  0  1  0  0  0  0  0  0  0  0  0  0  0  0  0  0]\n",
      " [ 0  0  0  0  0 16  0  0  0  0  0  0  0  0  0  0  0  0  0  0  0  0]\n",
      " [ 0  0  1  0  0  0 12  0  0  0  0  1  1  1  0  0  0  0  0  1  0  0]\n",
      " [ 0  1  0  0  0  0  1 29  1  1  0  1  0  5  2  1  0  2  0  0  0  0]\n",
      " [ 0  1  0  0  1  0  0  2 41  0  0  0  0  0  2  0  0  1  0  0  1  0]\n",
      " [ 0  1  0  1  0  0  0  2  0 47  2  0  0  1  2  1  0  1  0  0  0  0]\n",
      " [ 0  2  3  1  1  0  1  0  2  0 13  0  0  0  0  0  0  0  0  0  0  0]\n",
      " [ 0  0  1  1  0  0  0  1  1  0  0  5  0  0  0  0  1  0  0  1  0  0]\n",
      " [ 1  0  1  0  0  0  0  0  0  0  0  0 16  0  0  0  0  0  0  1  0  0]\n",
      " [ 0  2  0  0  0  0  0  6  3  2  0  1  1 21  1  2  1  0  0  0  0  0]\n",
      " [ 0  0  0  0  1  0  0  3  1  0  0  0  0  0  6  1  0  0  0  0  0  0]\n",
      " [ 0  2  0  0  0  0  0  1  1  4  0  0  0  1  1  9  0  0  0  0  2  0]\n",
      " [ 0  5  0  0  0  0  0  0  2  0  0  0  0  0  1  0  3  0  0  1  0  0]\n",
      " [ 0  2  1  2  0  0  0  2  0  0  0  0  0  2  0  0  0 11  0  0  0  0]\n",
      " [ 0  1  0  0  0  0  0  0  0  0  0  1  0  0  0  0  0  0 23  3  0  3]\n",
      " [ 0  0  1  0  0  0  0  0  0  0  0  0  1  0  0  0  0  0  2 31  0  2]\n",
      " [ 0  0  0  0  0  0  1  2  1  0  0  0  0  1  0  0  0  0  0  0  9  0]\n",
      " [ 0  0  1  1  0  0  0  1  1  0  0  0  0  0  0  0  0  0  2  2  0 43]]\n"
     ]
    }
   ],
   "source": [
    "y_pred = clf_svc.best_estimator_.predict(X_test)\n",
    "#predictions = clf_svc.best_estimator_.predict_proba(X_test)\n",
    "\n",
    "print('accuracy %s' % accuracy_score(y_pred, y_test))\n",
    "print('f1 score %s' % f1_score(y_pred, y_test,average='weighted')) \n",
    "#print (\"logloss: %0.3f \" % multiclass_logloss(y_test,predictions))\n",
    "\n",
    "print(classification_report(y_test, y_pred))\n",
    "\n",
    "print(confusion_matrix(y_test,y_pred))\n",
    "\n",
    "log_entry = pd.DataFrame([[\"LinearSVC_best_estimator\",accuracy_score(y_pred, y_test),f1_score(y_pred, y_test,average='weighted')]], columns=log_cols,index=['LinearSVC_best_estimator'])\n",
    "log = log.append(log_entry)"
   ]
  },
  {
   "cell_type": "markdown",
   "metadata": {},
   "source": [
    "### SGD Classifier"
   ]
  },
  {
   "cell_type": "code",
   "execution_count": 35,
   "metadata": {},
   "outputs": [
    {
     "name": "stdout",
     "output_type": "stream",
     "text": [
      "Fitting 5 folds for each of 48 candidates, totalling 240 fits\n"
     ]
    },
    {
     "name": "stderr",
     "output_type": "stream",
     "text": [
      "[Parallel(n_jobs=1)]: Using backend SequentialBackend with 1 concurrent workers.\n",
      "[Parallel(n_jobs=1)]: Done 240 out of 240 | elapsed:  7.6min finished\n"
     ]
    },
    {
     "name": "stdout",
     "output_type": "stream",
     "text": [
      "Best Score:  0.6731476997187076\n",
      "Best Params:  {'clf__alpha': 0.001, 'clf__loss': 'modified_huber', 'clf__penalty': 'l2'}\n"
     ]
    }
   ],
   "source": [
    "\n",
    "params = {\n",
    "    \"clf__loss\" : [\"hinge\", \"log\", \"squared_hinge\", \"modified_huber\"],\n",
    "    \"clf__alpha\" : [0.0001, 0.001, 0.01, 0.1],\n",
    "    \"clf__penalty\" : [\"l2\", \"l1\", \"none\"],\n",
    "}\n",
    "\n",
    "clf_sgd = GridSearchCV(sgd, param_grid=params,refit = True, verbose = 1,scoring='f1_weighted')\n",
    "clf_sgd.fit(X_train, y_train)\n",
    "\n",
    "print(\"Best Score: \", clf_sgd.best_score_)\n",
    "print(\"Best Params: \", clf_sgd.best_params_)"
   ]
  },
  {
   "cell_type": "code",
   "execution_count": 36,
   "metadata": {},
   "outputs": [
    {
     "name": "stdout",
     "output_type": "stream",
     "text": [
      "accuracy 0.6886035313001605\n",
      "f1 score 0.6883759728396966\n",
      "              precision    recall  f1-score   support\n",
      "\n",
      "           0       0.93      0.86      0.89        29\n",
      "           1       0.73      0.60      0.66        50\n",
      "           2       0.59      0.69      0.63        29\n",
      "           3       0.48      0.52      0.50        23\n",
      "           4       0.74      0.82      0.78        17\n",
      "           5       0.80      1.00      0.89        16\n",
      "           6       0.59      0.76      0.67        17\n",
      "           7       0.62      0.57      0.60        44\n",
      "           8       0.75      0.80      0.77        49\n",
      "           9       0.79      0.76      0.77        58\n",
      "          10       0.82      0.61      0.70        23\n",
      "          11       0.44      0.73      0.55        11\n",
      "          12       0.70      0.84      0.76        19\n",
      "          13       0.64      0.45      0.53        40\n",
      "          14       0.40      0.50      0.44        12\n",
      "          15       0.50      0.48      0.49        21\n",
      "          16       0.40      0.50      0.44        12\n",
      "          17       0.57      0.60      0.59        20\n",
      "          18       0.79      0.74      0.77        31\n",
      "          19       0.68      0.70      0.69        37\n",
      "          20       0.67      0.71      0.69        14\n",
      "          21       0.88      0.82      0.85        51\n",
      "\n",
      "    accuracy                           0.69       623\n",
      "   macro avg       0.66      0.69      0.67       623\n",
      "weighted avg       0.70      0.69      0.69       623\n",
      "\n",
      "[[25  0  3  0  0  0  1  0  0  0  0  0  0  0  0  0  0  0  0  0  0  0]\n",
      " [ 0 30  0  4  1  1  0  0  1  2  1  0  1  1  0  2  4  2  0  0  0  0]\n",
      " [ 2  0 20  0  0  0  3  0  0  0  0  1  1  0  0  0  0  0  0  1  1  0]\n",
      " [ 0  2  0 12  0  0  1  2  1  0  0  1  2  0  0  0  0  1  0  1  0  0]\n",
      " [ 0  0  1  1 14  0  0  0  0  0  0  0  0  0  0  0  0  1  0  0  0  0]\n",
      " [ 0  0  0  0  0 16  0  0  0  0  0  0  0  0  0  0  0  0  0  0  0  0]\n",
      " [ 0  0  1  0  0  0 13  0  0  0  0  1  1  0  0  0  0  0  0  1  0  0]\n",
      " [ 0  0  0  0  1  1  1 25  2  3  0  1  0  3  1  2  1  3  0  0  0  0]\n",
      " [ 0  1  0  0  1  2  0  2 39  0  0  1  0  0  2  0  0  1  0  0  0  0]\n",
      " [ 0  1  0  1  0  0  0  1  0 44  2  0  0  3  2  3  0  1  0  0  0  0]\n",
      " [ 0  1  3  2  1  0  1  0  0  0 14  0  0  0  0  0  1  0  0  0  0  0]\n",
      " [ 0  0  0  1  0  0  0  0  0  0  0  8  0  0  0  0  1  0  0  1  0  0]\n",
      " [ 0  0  2  0  0  0  0  0  0  0  0  0 16  0  0  0  0  0  0  1  0  0]\n",
      " [ 0  1  0  0  0  0  0  4  3  3  0  3  1 18  2  2  1  0  0  0  2  0]\n",
      " [ 0  0  0  0  1  0  0  3  1  0  0  0  0  0  6  1  0  0  0  0  0  0]\n",
      " [ 0  1  0  0  0  0  0  1  1  4  0  0  0  0  1 10  1  0  0  0  2  0]\n",
      " [ 0  1  0  1  0  0  0  0  1  0  0  0  0  0  1  0  6  0  0  2  0  0]\n",
      " [ 0  2  1  2  0  0  0  1  0  0  0  0  0  2  0  0  0 12  0  0  0  0]\n",
      " [ 0  1  0  0  0  0  0  0  0  0  0  1  0  0  0  0  0  0 23  3  0  3]\n",
      " [ 0  0  1  0  0  0  2  0  0  0  0  0  1  0  0  0  0  0  4 26  0  3]\n",
      " [ 0  0  0  0  0  0  0  1  1  0  0  1  0  1  0  0  0  0  0  0 10  0]\n",
      " [ 0  0  2  1  0  0  0  0  2  0  0  0  0  0  0  0  0  0  2  2  0 42]]\n"
     ]
    }
   ],
   "source": [
    "y_pred = clf_sgd.best_estimator_.predict(X_test)\n",
    "#predictions = clf_svc.best_estimator_.predict_proba(X_test)\n",
    "\n",
    "print('accuracy %s' % accuracy_score(y_pred, y_test))\n",
    "print('f1 score %s' % f1_score(y_pred, y_test,average='weighted')) \n",
    "#print (\"logloss: %0.3f \" % multiclass_logloss(y_test,predictions))\n",
    "\n",
    "print(classification_report(y_test, y_pred))\n",
    "\n",
    "print(confusion_matrix(y_test,y_pred))\n",
    "\n",
    "log_entry = pd.DataFrame([[\"SGD_best_estimator\",accuracy_score(y_pred, y_test),f1_score(y_pred, y_test,average='weighted')]], columns=log_cols,index=['SGD_best_estimator'])\n",
    "log = log.append(log_entry)"
   ]
  },
  {
   "cell_type": "markdown",
   "metadata": {},
   "source": [
    "### Logistic Regression"
   ]
  },
  {
   "cell_type": "code",
   "execution_count": 37,
   "metadata": {},
   "outputs": [
    {
     "name": "stdout",
     "output_type": "stream",
     "text": [
      "Fitting 5 folds for each of 30 candidates, totalling 150 fits\n"
     ]
    },
    {
     "name": "stderr",
     "output_type": "stream",
     "text": [
      "[Parallel(n_jobs=1)]: Using backend SequentialBackend with 1 concurrent workers.\n",
      "[Parallel(n_jobs=1)]: Done 150 out of 150 | elapsed: 14.0min finished\n"
     ]
    },
    {
     "name": "stdout",
     "output_type": "stream",
     "text": [
      "Best Score:  0.671752309610414\n",
      "Best Params:  {'clf__C': 100.0, 'clf__max_iter': 4000, 'clf__penalty': 'l2'}\n"
     ]
    }
   ],
   "source": [
    "params = {\n",
    "  'clf__penalty': ['l2'],\n",
    "  'clf__C': [1e-6, 1e-5, 1e-4, 1e-3, 1e-2, 1e-1, 1e0,1e2,1e4,1e5],\n",
    "  'clf__max_iter': [100,4000,5000],\n",
    "}\n",
    "\n",
    "clf_lr = GridSearchCV(logreg_1, param_grid=params,refit = True,verbose = 1,scoring='f1_weighted')\n",
    "clf_lr.fit(X_train, y_train)\n",
    "\n",
    "print(\"Best Score: \", clf_lr.best_score_)\n",
    "print(\"Best Params: \", clf_lr.best_params_)"
   ]
  },
  {
   "cell_type": "code",
   "execution_count": 38,
   "metadata": {},
   "outputs": [
    {
     "name": "stdout",
     "output_type": "stream",
     "text": [
      "accuracy 0.7062600321027287\n",
      "f1 score 0.7053918749872033\n",
      "              precision    recall  f1-score   support\n",
      "\n",
      "           0       0.96      0.90      0.93        29\n",
      "           1       0.66      0.66      0.66        50\n",
      "           2       0.58      0.66      0.61        29\n",
      "           3       0.62      0.57      0.59        23\n",
      "           4       0.82      0.82      0.82        17\n",
      "           5       1.00      1.00      1.00        16\n",
      "           6       0.63      0.71      0.67        17\n",
      "           7       0.55      0.61      0.58        44\n",
      "           8       0.74      0.86      0.79        49\n",
      "           9       0.84      0.79      0.81        58\n",
      "          10       0.81      0.57      0.67        23\n",
      "          11       0.55      0.55      0.55        11\n",
      "          12       0.76      0.84      0.80        19\n",
      "          13       0.52      0.55      0.54        40\n",
      "          14       0.35      0.50      0.41        12\n",
      "          15       0.56      0.43      0.49        21\n",
      "          16       0.36      0.33      0.35        12\n",
      "          17       0.69      0.55      0.61        20\n",
      "          18       0.79      0.74      0.77        31\n",
      "          19       0.76      0.84      0.79        37\n",
      "          20       0.71      0.71      0.71        14\n",
      "          21       0.91      0.80      0.85        51\n",
      "\n",
      "    accuracy                           0.71       623\n",
      "   macro avg       0.69      0.68      0.68       623\n",
      "weighted avg       0.71      0.71      0.71       623\n",
      "\n",
      "[[26  0  2  0  0  0  1  0  0  0  0  0  0  0  0  0  0  0  0  0  0  0]\n",
      " [ 0 33  0  2  0  0  0  0  1  2  1  0  0  2  1  2  4  2  0  0  0  0]\n",
      " [ 1  0 19  0  0  0  3  0  0  0  0  1  1  1  0  0  0  0  0  1  1  1]\n",
      " [ 0  2  1 13  0  0  0  2  1  0  0  0  2  1  0  0  0  0  0  1  0  0]\n",
      " [ 0  1  1  0 14  0  0  1  0  0  0  0  0  0  0  0  0  0  0  0  0  0]\n",
      " [ 0  0  0  0  0 16  0  0  0  0  0  0  0  0  0  0  0  0  0  0  0  0]\n",
      " [ 0  0  1  0  0  0 12  0  0  0  0  1  1  1  0  0  0  0  0  1  0  0]\n",
      " [ 0  1  0  0  0  0  1 27  1  1  0  1  0  7  2  1  0  2  0  0  0  0]\n",
      " [ 0  1  0  0  1  0  0  2 42  0  0  0  0  0  2  0  0  0  0  0  1  0]\n",
      " [ 0  1  0  1  0  0  0  2  0 46  2  0  0  1  2  2  0  1  0  0  0  0]\n",
      " [ 0  1  3  1  1  0  1  0  2  0 13  0  0  1  0  0  0  0  0  0  0  0]\n",
      " [ 0  0  1  1  0  0  0  0  2  0  0  6  0  0  0  0  1  0  0  0  0  0]\n",
      " [ 0  0  2  0  0  0  0  0  0  0  0  0 16  0  0  0  0  0  0  1  0  0]\n",
      " [ 0  2  0  0  0  0  0  8  2  2  0  1  0 22  1  1  1  0  0  0  0  0]\n",
      " [ 0  0  0  0  1  0  0  2  2  0  0  0  0  0  6  1  0  0  0  0  0  0]\n",
      " [ 0  1  0  0  0  0  0  1  0  4  0  0  0  1  2  9  1  0  0  0  2  0]\n",
      " [ 0  4  0  0  0  0  0  0  2  0  0  0  0  0  1  0  4  0  0  1  0  0]\n",
      " [ 0  2  1  2  0  0  0  2  0  0  0  0  0  2  0  0  0 11  0  0  0  0]\n",
      " [ 0  1  0  0  0  0  0  0  0  0  0  1  0  0  0  0  0  0 23  3  0  3]\n",
      " [ 0  0  1  0  0  0  1  0  0  0  0  0  1  0  0  0  0  0  3 31  0  0]\n",
      " [ 0  0  0  0  0  0  0  1  1  0  0  0  0  2  0  0  0  0  0  0 10  0]\n",
      " [ 0  0  1  1  0  0  0  1  1  0  0  0  0  1  0  0  0  0  3  2  0 41]]\n"
     ]
    }
   ],
   "source": [
    "y_pred = clf_lr.best_estimator_.predict(X_test)\n",
    "#predictions = clf_svc.best_estimator_.predict_proba(X_test)\n",
    "\n",
    "print('accuracy %s' % accuracy_score(y_pred, y_test))\n",
    "print('f1 score %s' % f1_score(y_pred, y_test,average='weighted')) \n",
    "#print (\"logloss: %0.3f \" % multiclass_logloss(y_test,predictions))\n",
    "\n",
    "print(classification_report(y_test, y_pred))\n",
    "\n",
    "print(confusion_matrix(y_test,y_pred))\n",
    "\n",
    "log_entry = pd.DataFrame([[\"LogisticRegression_best_estimator\",accuracy_score(y_pred, y_test),f1_score(y_pred, y_test,average='weighted')]], columns=log_cols,index=['LogisticRegression_best_estimator'])\n",
    "log = log.append(log_entry)"
   ]
  },
  {
   "cell_type": "code",
   "execution_count": 39,
   "metadata": {},
   "outputs": [
    {
     "data": {
      "text/html": [
       "<div>\n",
       "<style scoped>\n",
       "    .dataframe tbody tr th:only-of-type {\n",
       "        vertical-align: middle;\n",
       "    }\n",
       "\n",
       "    .dataframe tbody tr th {\n",
       "        vertical-align: top;\n",
       "    }\n",
       "\n",
       "    .dataframe thead th {\n",
       "        text-align: right;\n",
       "    }\n",
       "</style>\n",
       "<table border=\"1\" class=\"dataframe\">\n",
       "  <thead>\n",
       "    <tr style=\"text-align: right;\">\n",
       "      <th></th>\n",
       "      <th>Classifier</th>\n",
       "      <th>accuracy</th>\n",
       "      <th>f1_score</th>\n",
       "    </tr>\n",
       "  </thead>\n",
       "  <tbody>\n",
       "    <tr>\n",
       "      <th>MultinomialNB</th>\n",
       "      <td>NaN</td>\n",
       "      <td>0.512039</td>\n",
       "      <td>0.572078</td>\n",
       "    </tr>\n",
       "    <tr>\n",
       "      <th>SGDClassifier</th>\n",
       "      <td>NaN</td>\n",
       "      <td>0.654896</td>\n",
       "      <td>0.655273</td>\n",
       "    </tr>\n",
       "    <tr>\n",
       "      <th>SGD_best_estimator</th>\n",
       "      <td>SGD_best_estimator</td>\n",
       "      <td>0.688604</td>\n",
       "      <td>0.688376</td>\n",
       "    </tr>\n",
       "    <tr>\n",
       "      <th>LogisticRegression</th>\n",
       "      <td>NaN</td>\n",
       "      <td>0.690209</td>\n",
       "      <td>0.692030</td>\n",
       "    </tr>\n",
       "    <tr>\n",
       "      <th>LogisticRegression_best_estimator</th>\n",
       "      <td>LogisticRegression_best_estimator</td>\n",
       "      <td>0.706260</td>\n",
       "      <td>0.705392</td>\n",
       "    </tr>\n",
       "    <tr>\n",
       "      <th>LinearSVC_best_estimator</th>\n",
       "      <td>LinearSVC_best_estimator</td>\n",
       "      <td>0.704655</td>\n",
       "      <td>0.706799</td>\n",
       "    </tr>\n",
       "    <tr>\n",
       "      <th>LinearSVC</th>\n",
       "      <td>NaN</td>\n",
       "      <td>0.709470</td>\n",
       "      <td>0.712074</td>\n",
       "    </tr>\n",
       "  </tbody>\n",
       "</table>\n",
       "</div>"
      ],
      "text/plain": [
       "                                                          Classifier  \\\n",
       "MultinomialNB                                                    NaN   \n",
       "SGDClassifier                                                    NaN   \n",
       "SGD_best_estimator                                SGD_best_estimator   \n",
       "LogisticRegression                                               NaN   \n",
       "LogisticRegression_best_estimator  LogisticRegression_best_estimator   \n",
       "LinearSVC_best_estimator                    LinearSVC_best_estimator   \n",
       "LinearSVC                                                        NaN   \n",
       "\n",
       "                                   accuracy  f1_score  \n",
       "MultinomialNB                      0.512039  0.572078  \n",
       "SGDClassifier                      0.654896  0.655273  \n",
       "SGD_best_estimator                 0.688604  0.688376  \n",
       "LogisticRegression                 0.690209  0.692030  \n",
       "LogisticRegression_best_estimator  0.706260  0.705392  \n",
       "LinearSVC_best_estimator           0.704655  0.706799  \n",
       "LinearSVC                          0.709470  0.712074  "
      ]
     },
     "execution_count": 39,
     "metadata": {},
     "output_type": "execute_result"
    }
   ],
   "source": [
    "log.sort_values(by=['f1_score'])"
   ]
  },
  {
   "cell_type": "code",
   "execution_count": 40,
   "metadata": {},
   "outputs": [
    {
     "data": {
      "text/plain": [
       "<matplotlib.axes._subplots.AxesSubplot at 0x222317d7be0>"
      ]
     },
     "execution_count": 40,
     "metadata": {},
     "output_type": "execute_result"
    },
    {
     "data": {
      "image/png": "[encoded data removed]",
      "text/plain": [
       "<Figure size 504x432 with 1 Axes>"
      ]
     },
     "metadata": {
      "needs_background": "light"
     },
     "output_type": "display_data"
    }
   ],
   "source": [
    "log.sort_values(by=['f1_score']).plot(kind='barh',figsize=[7,6])"
   ]
  },
  {
   "cell_type": "markdown",
   "metadata": {},
   "source": [
    "## Keras implementation"
   ]
  },
  {
   "cell_type": "code",
   "execution_count": 41,
   "metadata": {},
   "outputs": [],
   "source": [
    "from tensorflow import keras\n",
    "\n",
    "\n",
    "class FocalLoss(keras.losses.Loss):\n",
    "    def __init__(self, gamma=2., alpha=4.,\n",
    "                 reduction=keras.losses.Reduction.AUTO, name='focal_loss'):\n",
    "        \"\"\"Focal loss for multi-classification\n",
    "        FL(p_t)=-alpha(1-p_t)^{gamma}ln(p_t)\n",
    "        Notice: y_pred is probability after softmax\n",
    "        gradient is d(Fl)/d(p_t) not d(Fl)/d(x) as described in paper\n",
    "        d(Fl)/d(p_t) * [p_t(1-p_t)] = d(Fl)/d(x)\n",
    "        Focal Loss for Dense Object Detection\n",
    "        https://arxiv.org/abs/1708.02002\n",
    "\n",
    "        Keyword Arguments:\n",
    "            gamma {float} -- (default: {2.0})\n",
    "            alpha {float} -- (default: {4.0})\n",
    "        \"\"\"\n",
    "        super(FocalLoss, self).__init__(reduction=reduction,\n",
    "                                        name=name)\n",
    "        self.gamma = float(gamma)\n",
    "        self.alpha = float(alpha)\n",
    "\n",
    "    def call(self, y_true, y_pred):\n",
    "        \"\"\"\n",
    "        Arguments:\n",
    "            y_true {tensor} -- ground truth labels, shape of [batch_size, num_cls]\n",
    "            y_pred {tensor} -- model's output, shape of [batch_size, num_cls]\n",
    "\n",
    "        Returns:\n",
    "            [tensor] -- loss.\n",
    "        \"\"\"\n",
    "        epsilon = 1.e-9\n",
    "        y_true = tf.convert_to_tensor(y_true, tf.float32)\n",
    "        y_pred = tf.convert_to_tensor(y_pred, tf.float32)\n",
    "\n",
    "        model_out = tf.add(y_pred, epsilon)\n",
    "        ce = tf.multiply(y_true, -tf.math.log(model_out))\n",
    "        weight = tf.multiply(y_true, tf.pow(\n",
    "            tf.subtract(1., model_out), self.gamma))\n",
    "        fl = tf.multiply(self.alpha, tf.multiply(weight, ce))\n",
    "        reduced_fl = tf.reduce_max(fl, axis=1)\n",
    "        return reduced_fl"
   ]
  },
  {
   "cell_type": "code",
   "execution_count": 42,
   "metadata": {},
   "outputs": [
    {
     "name": "stderr",
     "output_type": "stream",
     "text": [
      "Using TensorFlow backend.\n"
     ]
    }
   ],
   "source": [
    "from keras.preprocessing.text import Tokenizer\n",
    "from keras.models import Sequential\n",
    "from keras.layers import Activation, Dense, Dropout\n",
    "from sklearn.preprocessing import LabelBinarizer\n",
    "import sklearn.datasets as skds\n",
    "from pathlib import Path\n",
    "import tensorflow as tf\n",
    "\n",
    "x = df_incidents_l3['token_desc']\n",
    "y = df_incidents_l3['Assignment_group']\n",
    "\n",
    "from sklearn.model_selection import train_test_split\n",
    "X_train, X_test, y_train, y_test = train_test_split(x, y, test_size= 0.3, random_state=13,stratify=y)\n",
    "\n",
    "num_labels = 22\n",
    "vocab_size = 50000\n",
    "batch_size = 64\n",
    " \n",
    "# define Tokenizer with Vocab Size\n",
    "tokenizer = Tokenizer(num_words=vocab_size)\n",
    "tokenizer.fit_on_texts(X_train)\n",
    " \n",
    "x_train = tokenizer.texts_to_matrix(X_train, mode='tfidf')\n",
    "x_test = tokenizer.texts_to_matrix(X_test, mode='tfidf')\n",
    "\n",
    "encoder = LabelBinarizer()\n",
    "encoder.fit(y_train)\n",
    "y_train = encoder.transform(y_train)\n",
    "y_test = encoder.transform(y_test)"
   ]
  },
  {
   "cell_type": "code",
   "execution_count": 43,
   "metadata": {},
   "outputs": [
    {
     "name": "stdout",
     "output_type": "stream",
     "text": [
      "Model: \"sequential_1\"\n",
      "_________________________________________________________________\n",
      "Layer (type)                 Output Shape              Param #   \n",
      "=================================================================\n",
      "dense_1 (Dense)              (None, 50)                2500050   \n",
      "_________________________________________________________________\n",
      "activation_1 (Activation)    (None, 50)                0         \n",
      "_________________________________________________________________\n",
      "dropout_1 (Dropout)          (None, 50)                0         \n",
      "_________________________________________________________________\n",
      "dense_2 (Dense)              (None, 30)                1530      \n",
      "_________________________________________________________________\n",
      "activation_2 (Activation)    (None, 30)                0         \n",
      "_________________________________________________________________\n",
      "dropout_2 (Dropout)          (None, 30)                0         \n",
      "_________________________________________________________________\n",
      "dense_3 (Dense)              (None, 22)                682       \n",
      "_________________________________________________________________\n",
      "activation_3 (Activation)    (None, 22)                0         \n",
      "=================================================================\n",
      "Total params: 2,502,262\n",
      "Trainable params: 2,502,262\n",
      "Non-trainable params: 0\n",
      "_________________________________________________________________\n",
      "Train on 1744 samples, validate on 436 samples\n",
      "Epoch 1/30\n"
     ]
    },
    {
     "ename": "InternalError",
     "evalue": "2 root error(s) found.\n  (0) Internal:  Blas GEMM launch failed : a.shape=(64, 50000), b.shape=(50000, 50), m=64, n=50, k=50000\n\t [[node dense_1/MatMul (defined at C:\\Users\\divya\\Anaconda3\\envs\\nlp\\lib\\site-packages\\tensorflow_core\\python\\framework\\ops.py:1751) ]]\n\t [[loss/activation_3_loss/focal_loss/weighted_loss/broadcast_weights/assert_broadcastable/is_valid_shape/else/_23/has_valid_nonscalar_shape/then/_159/has_invalid_dims/concat/_32]]\n  (1) Internal:  Blas GEMM launch failed : a.shape=(64, 50000), b.shape=(50000, 50), m=64, n=50, k=50000\n\t [[node dense_1/MatMul (defined at C:\\Users\\divya\\Anaconda3\\envs\\nlp\\lib\\site-packages\\tensorflow_core\\python\\framework\\ops.py:1751) ]]\n0 successful operations.\n0 derived errors ignored. [Op:__inference_keras_scratch_graph_1598]\n\nFunction call stack:\nkeras_scratch_graph -> keras_scratch_graph\n",
     "output_type": "error",
     "traceback": [
      "\u001b[1;31m---------------------------------------------------------------------------\u001b[0m",
      "\u001b[1;31mInternalError\u001b[0m                             Traceback (most recent call last)",
      "\u001b[1;32m<ipython-input-43-c3e3f75d4444>\u001b[0m in \u001b[0;36m<module>\u001b[1;34m\u001b[0m\n\u001b[0;32m     18\u001b[0m                     \u001b[0mbatch_size\u001b[0m\u001b[1;33m=\u001b[0m\u001b[0mbatch_size\u001b[0m\u001b[1;33m,\u001b[0m\u001b[1;33m\u001b[0m\u001b[1;33m\u001b[0m\u001b[0m\n\u001b[0;32m     19\u001b[0m                     \u001b[0mepochs\u001b[0m\u001b[1;33m=\u001b[0m\u001b[1;36m30\u001b[0m\u001b[1;33m,\u001b[0m\u001b[1;33m\u001b[0m\u001b[1;33m\u001b[0m\u001b[0m\n\u001b[1;32m---> 20\u001b[1;33m                     verbose=1,validation_split=0.2,callbacks=[es_callback])\n\u001b[0m",
      "\u001b[1;32m~\\Anaconda3\\envs\\nlp\\lib\\site-packages\\keras\\engine\\training.py\u001b[0m in \u001b[0;36mfit\u001b[1;34m(self, x, y, batch_size, epochs, verbose, callbacks, validation_split, validation_data, shuffle, class_weight, sample_weight, initial_epoch, steps_per_epoch, validation_steps, validation_freq, max_queue_size, workers, use_multiprocessing, **kwargs)\u001b[0m\n\u001b[0;32m   1237\u001b[0m                                         \u001b[0msteps_per_epoch\u001b[0m\u001b[1;33m=\u001b[0m\u001b[0msteps_per_epoch\u001b[0m\u001b[1;33m,\u001b[0m\u001b[1;33m\u001b[0m\u001b[1;33m\u001b[0m\u001b[0m\n\u001b[0;32m   1238\u001b[0m                                         \u001b[0mvalidation_steps\u001b[0m\u001b[1;33m=\u001b[0m\u001b[0mvalidation_steps\u001b[0m\u001b[1;33m,\u001b[0m\u001b[1;33m\u001b[0m\u001b[1;33m\u001b[0m\u001b[0m\n\u001b[1;32m-> 1239\u001b[1;33m                                         validation_freq=validation_freq)\n\u001b[0m\u001b[0;32m   1240\u001b[0m \u001b[1;33m\u001b[0m\u001b[0m\n\u001b[0;32m   1241\u001b[0m     def evaluate(self,\n",
      "\u001b[1;32m~\\Anaconda3\\envs\\nlp\\lib\\site-packages\\keras\\engine\\training_arrays.py\u001b[0m in \u001b[0;36mfit_loop\u001b[1;34m(model, fit_function, fit_inputs, out_labels, batch_size, epochs, verbose, callbacks, val_function, val_inputs, shuffle, initial_epoch, steps_per_epoch, validation_steps, validation_freq)\u001b[0m\n\u001b[0;32m    194\u001b[0m                     \u001b[0mins_batch\u001b[0m\u001b[1;33m[\u001b[0m\u001b[0mi\u001b[0m\u001b[1;33m]\u001b[0m \u001b[1;33m=\u001b[0m \u001b[0mins_batch\u001b[0m\u001b[1;33m[\u001b[0m\u001b[0mi\u001b[0m\u001b[1;33m]\u001b[0m\u001b[1;33m.\u001b[0m\u001b[0mtoarray\u001b[0m\u001b[1;33m(\u001b[0m\u001b[1;33m)\u001b[0m\u001b[1;33m\u001b[0m\u001b[1;33m\u001b[0m\u001b[0m\n\u001b[0;32m    195\u001b[0m \u001b[1;33m\u001b[0m\u001b[0m\n\u001b[1;32m--> 196\u001b[1;33m                 \u001b[0mouts\u001b[0m \u001b[1;33m=\u001b[0m \u001b[0mfit_function\u001b[0m\u001b[1;33m(\u001b[0m\u001b[0mins_batch\u001b[0m\u001b[1;33m)\u001b[0m\u001b[1;33m\u001b[0m\u001b[1;33m\u001b[0m\u001b[0m\n\u001b[0m\u001b[0;32m    197\u001b[0m                 \u001b[0mouts\u001b[0m \u001b[1;33m=\u001b[0m \u001b[0mto_list\u001b[0m\u001b[1;33m(\u001b[0m\u001b[0mouts\u001b[0m\u001b[1;33m)\u001b[0m\u001b[1;33m\u001b[0m\u001b[1;33m\u001b[0m\u001b[0m\n\u001b[0;32m    198\u001b[0m                 \u001b[1;32mfor\u001b[0m \u001b[0ml\u001b[0m\u001b[1;33m,\u001b[0m \u001b[0mo\u001b[0m \u001b[1;32min\u001b[0m \u001b[0mzip\u001b[0m\u001b[1;33m(\u001b[0m\u001b[0mout_labels\u001b[0m\u001b[1;33m,\u001b[0m \u001b[0mouts\u001b[0m\u001b[1;33m)\u001b[0m\u001b[1;33m:\u001b[0m\u001b[1;33m\u001b[0m\u001b[1;33m\u001b[0m\u001b[0m\n",
      "\u001b[1;32m~\\Anaconda3\\envs\\nlp\\lib\\site-packages\\tensorflow_core\\python\\keras\\backend.py\u001b[0m in \u001b[0;36m__call__\u001b[1;34m(self, inputs)\u001b[0m\n\u001b[0;32m   3738\u001b[0m         \u001b[0mvalue\u001b[0m \u001b[1;33m=\u001b[0m \u001b[0mmath_ops\u001b[0m\u001b[1;33m.\u001b[0m\u001b[0mcast\u001b[0m\u001b[1;33m(\u001b[0m\u001b[0mvalue\u001b[0m\u001b[1;33m,\u001b[0m \u001b[0mtensor\u001b[0m\u001b[1;33m.\u001b[0m\u001b[0mdtype\u001b[0m\u001b[1;33m)\u001b[0m\u001b[1;33m\u001b[0m\u001b[1;33m\u001b[0m\u001b[0m\n\u001b[0;32m   3739\u001b[0m       \u001b[0mconverted_inputs\u001b[0m\u001b[1;33m.\u001b[0m\u001b[0mappend\u001b[0m\u001b[1;33m(\u001b[0m\u001b[0mvalue\u001b[0m\u001b[1;33m)\u001b[0m\u001b[1;33m\u001b[0m\u001b[1;33m\u001b[0m\u001b[0m\n\u001b[1;32m-> 3740\u001b[1;33m     \u001b[0moutputs\u001b[0m \u001b[1;33m=\u001b[0m \u001b[0mself\u001b[0m\u001b[1;33m.\u001b[0m\u001b[0m_graph_fn\u001b[0m\u001b[1;33m(\u001b[0m\u001b[1;33m*\u001b[0m\u001b[0mconverted_inputs\u001b[0m\u001b[1;33m)\u001b[0m\u001b[1;33m\u001b[0m\u001b[1;33m\u001b[0m\u001b[0m\n\u001b[0m\u001b[0;32m   3741\u001b[0m \u001b[1;33m\u001b[0m\u001b[0m\n\u001b[0;32m   3742\u001b[0m     \u001b[1;31m# EagerTensor.numpy() will often make a copy to ensure memory safety.\u001b[0m\u001b[1;33m\u001b[0m\u001b[1;33m\u001b[0m\u001b[1;33m\u001b[0m\u001b[0m\n",
      "\u001b[1;32m~\\Anaconda3\\envs\\nlp\\lib\\site-packages\\tensorflow_core\\python\\eager\\function.py\u001b[0m in \u001b[0;36m__call__\u001b[1;34m(self, *args, **kwargs)\u001b[0m\n\u001b[0;32m   1079\u001b[0m       \u001b[0mTypeError\u001b[0m\u001b[1;33m:\u001b[0m \u001b[0mFor\u001b[0m \u001b[0minvalid\u001b[0m \u001b[0mpositional\u001b[0m\u001b[1;33m/\u001b[0m\u001b[0mkeyword\u001b[0m \u001b[0margument\u001b[0m \u001b[0mcombinations\u001b[0m\u001b[1;33m.\u001b[0m\u001b[1;33m\u001b[0m\u001b[1;33m\u001b[0m\u001b[0m\n\u001b[0;32m   1080\u001b[0m     \"\"\"\n\u001b[1;32m-> 1081\u001b[1;33m     \u001b[1;32mreturn\u001b[0m \u001b[0mself\u001b[0m\u001b[1;33m.\u001b[0m\u001b[0m_call_impl\u001b[0m\u001b[1;33m(\u001b[0m\u001b[0margs\u001b[0m\u001b[1;33m,\u001b[0m \u001b[0mkwargs\u001b[0m\u001b[1;33m)\u001b[0m\u001b[1;33m\u001b[0m\u001b[1;33m\u001b[0m\u001b[0m\n\u001b[0m\u001b[0;32m   1082\u001b[0m \u001b[1;33m\u001b[0m\u001b[0m\n\u001b[0;32m   1083\u001b[0m   \u001b[1;32mdef\u001b[0m \u001b[0m_call_impl\u001b[0m\u001b[1;33m(\u001b[0m\u001b[0mself\u001b[0m\u001b[1;33m,\u001b[0m \u001b[0margs\u001b[0m\u001b[1;33m,\u001b[0m \u001b[0mkwargs\u001b[0m\u001b[1;33m,\u001b[0m \u001b[0mcancellation_manager\u001b[0m\u001b[1;33m=\u001b[0m\u001b[1;32mNone\u001b[0m\u001b[1;33m)\u001b[0m\u001b[1;33m:\u001b[0m\u001b[1;33m\u001b[0m\u001b[1;33m\u001b[0m\u001b[0m\n",
      "\u001b[1;32m~\\Anaconda3\\envs\\nlp\\lib\\site-packages\\tensorflow_core\\python\\eager\\function.py\u001b[0m in \u001b[0;36m_call_impl\u001b[1;34m(self, args, kwargs, cancellation_manager)\u001b[0m\n\u001b[0;32m   1119\u001b[0m       raise TypeError(\"Keyword arguments {} unknown. Expected {}.\".format(\n\u001b[0;32m   1120\u001b[0m           list(kwargs.keys()), list(self._arg_keywords)))\n\u001b[1;32m-> 1121\u001b[1;33m     \u001b[1;32mreturn\u001b[0m \u001b[0mself\u001b[0m\u001b[1;33m.\u001b[0m\u001b[0m_call_flat\u001b[0m\u001b[1;33m(\u001b[0m\u001b[0margs\u001b[0m\u001b[1;33m,\u001b[0m \u001b[0mself\u001b[0m\u001b[1;33m.\u001b[0m\u001b[0mcaptured_inputs\u001b[0m\u001b[1;33m,\u001b[0m \u001b[0mcancellation_manager\u001b[0m\u001b[1;33m)\u001b[0m\u001b[1;33m\u001b[0m\u001b[1;33m\u001b[0m\u001b[0m\n\u001b[0m\u001b[0;32m   1122\u001b[0m \u001b[1;33m\u001b[0m\u001b[0m\n\u001b[0;32m   1123\u001b[0m   \u001b[1;32mdef\u001b[0m \u001b[0m_filtered_call\u001b[0m\u001b[1;33m(\u001b[0m\u001b[0mself\u001b[0m\u001b[1;33m,\u001b[0m \u001b[0margs\u001b[0m\u001b[1;33m,\u001b[0m \u001b[0mkwargs\u001b[0m\u001b[1;33m)\u001b[0m\u001b[1;33m:\u001b[0m\u001b[1;33m\u001b[0m\u001b[1;33m\u001b[0m\u001b[0m\n",
      "\u001b[1;32m~\\Anaconda3\\envs\\nlp\\lib\\site-packages\\tensorflow_core\\python\\eager\\function.py\u001b[0m in \u001b[0;36m_call_flat\u001b[1;34m(self, args, captured_inputs, cancellation_manager)\u001b[0m\n\u001b[0;32m   1222\u001b[0m     \u001b[1;32mif\u001b[0m \u001b[0mexecuting_eagerly\u001b[0m\u001b[1;33m:\u001b[0m\u001b[1;33m\u001b[0m\u001b[1;33m\u001b[0m\u001b[0m\n\u001b[0;32m   1223\u001b[0m       flat_outputs = forward_function.call(\n\u001b[1;32m-> 1224\u001b[1;33m           ctx, args, cancellation_manager=cancellation_manager)\n\u001b[0m\u001b[0;32m   1225\u001b[0m     \u001b[1;32melse\u001b[0m\u001b[1;33m:\u001b[0m\u001b[1;33m\u001b[0m\u001b[1;33m\u001b[0m\u001b[0m\n\u001b[0;32m   1226\u001b[0m       \u001b[0mgradient_name\u001b[0m \u001b[1;33m=\u001b[0m \u001b[0mself\u001b[0m\u001b[1;33m.\u001b[0m\u001b[0m_delayed_rewrite_functions\u001b[0m\u001b[1;33m.\u001b[0m\u001b[0mregister\u001b[0m\u001b[1;33m(\u001b[0m\u001b[1;33m)\u001b[0m\u001b[1;33m\u001b[0m\u001b[1;33m\u001b[0m\u001b[0m\n",
      "\u001b[1;32m~\\Anaconda3\\envs\\nlp\\lib\\site-packages\\tensorflow_core\\python\\eager\\function.py\u001b[0m in \u001b[0;36mcall\u001b[1;34m(self, ctx, args, cancellation_manager)\u001b[0m\n\u001b[0;32m    509\u001b[0m               \u001b[0minputs\u001b[0m\u001b[1;33m=\u001b[0m\u001b[0margs\u001b[0m\u001b[1;33m,\u001b[0m\u001b[1;33m\u001b[0m\u001b[1;33m\u001b[0m\u001b[0m\n\u001b[0;32m    510\u001b[0m               \u001b[0mattrs\u001b[0m\u001b[1;33m=\u001b[0m\u001b[1;33m(\u001b[0m\u001b[1;34m\"executor_type\"\u001b[0m\u001b[1;33m,\u001b[0m \u001b[0mexecutor_type\u001b[0m\u001b[1;33m,\u001b[0m \u001b[1;34m\"config_proto\"\u001b[0m\u001b[1;33m,\u001b[0m \u001b[0mconfig\u001b[0m\u001b[1;33m)\u001b[0m\u001b[1;33m,\u001b[0m\u001b[1;33m\u001b[0m\u001b[1;33m\u001b[0m\u001b[0m\n\u001b[1;32m--> 511\u001b[1;33m               ctx=ctx)\n\u001b[0m\u001b[0;32m    512\u001b[0m         \u001b[1;32melse\u001b[0m\u001b[1;33m:\u001b[0m\u001b[1;33m\u001b[0m\u001b[1;33m\u001b[0m\u001b[0m\n\u001b[0;32m    513\u001b[0m           outputs = execute.execute_with_cancellation(\n",
      "\u001b[1;32m~\\Anaconda3\\envs\\nlp\\lib\\site-packages\\tensorflow_core\\python\\eager\\execute.py\u001b[0m in \u001b[0;36mquick_execute\u001b[1;34m(op_name, num_outputs, inputs, attrs, ctx, name)\u001b[0m\n\u001b[0;32m     65\u001b[0m     \u001b[1;32melse\u001b[0m\u001b[1;33m:\u001b[0m\u001b[1;33m\u001b[0m\u001b[1;33m\u001b[0m\u001b[0m\n\u001b[0;32m     66\u001b[0m       \u001b[0mmessage\u001b[0m \u001b[1;33m=\u001b[0m \u001b[0me\u001b[0m\u001b[1;33m.\u001b[0m\u001b[0mmessage\u001b[0m\u001b[1;33m\u001b[0m\u001b[1;33m\u001b[0m\u001b[0m\n\u001b[1;32m---> 67\u001b[1;33m     \u001b[0msix\u001b[0m\u001b[1;33m.\u001b[0m\u001b[0mraise_from\u001b[0m\u001b[1;33m(\u001b[0m\u001b[0mcore\u001b[0m\u001b[1;33m.\u001b[0m\u001b[0m_status_to_exception\u001b[0m\u001b[1;33m(\u001b[0m\u001b[0me\u001b[0m\u001b[1;33m.\u001b[0m\u001b[0mcode\u001b[0m\u001b[1;33m,\u001b[0m \u001b[0mmessage\u001b[0m\u001b[1;33m)\u001b[0m\u001b[1;33m,\u001b[0m \u001b[1;32mNone\u001b[0m\u001b[1;33m)\u001b[0m\u001b[1;33m\u001b[0m\u001b[1;33m\u001b[0m\u001b[0m\n\u001b[0m\u001b[0;32m     68\u001b[0m   \u001b[1;32mexcept\u001b[0m \u001b[0mTypeError\u001b[0m \u001b[1;32mas\u001b[0m \u001b[0me\u001b[0m\u001b[1;33m:\u001b[0m\u001b[1;33m\u001b[0m\u001b[1;33m\u001b[0m\u001b[0m\n\u001b[0;32m     69\u001b[0m     keras_symbolic_tensors = [\n",
      "\u001b[1;32m~\\Anaconda3\\envs\\nlp\\lib\\site-packages\\six.py\u001b[0m in \u001b[0;36mraise_from\u001b[1;34m(value, from_value)\u001b[0m\n",
      "\u001b[1;31mInternalError\u001b[0m: 2 root error(s) found.\n  (0) Internal:  Blas GEMM launch failed : a.shape=(64, 50000), b.shape=(50000, 50), m=64, n=50, k=50000\n\t [[node dense_1/MatMul (defined at C:\\Users\\divya\\Anaconda3\\envs\\nlp\\lib\\site-packages\\tensorflow_core\\python\\framework\\ops.py:1751) ]]\n\t [[loss/activation_3_loss/focal_loss/weighted_loss/broadcast_weights/assert_broadcastable/is_valid_shape/else/_23/has_valid_nonscalar_shape/then/_159/has_invalid_dims/concat/_32]]\n  (1) Internal:  Blas GEMM launch failed : a.shape=(64, 50000), b.shape=(50000, 50), m=64, n=50, k=50000\n\t [[node dense_1/MatMul (defined at C:\\Users\\divya\\Anaconda3\\envs\\nlp\\lib\\site-packages\\tensorflow_core\\python\\framework\\ops.py:1751) ]]\n0 successful operations.\n0 derived errors ignored. [Op:__inference_keras_scratch_graph_1598]\n\nFunction call stack:\nkeras_scratch_graph -> keras_scratch_graph\n"
     ]
    }
   ],
   "source": [
    "\n",
    "es_callback = keras.callbacks.EarlyStopping(monitor='val_loss', patience=3)\n",
    "model = Sequential()\n",
    "model.add(Dense(50, input_shape=(vocab_size,)))\n",
    "model.add(Activation('relu'))\n",
    "model.add(Dropout(0.3))\n",
    "model.add(Dense(30))\n",
    "model.add(Activation('relu'))\n",
    "model.add(Dropout(0.3))\n",
    "model.add(Dense(num_labels))\n",
    "model.add(Activation('softmax'))\n",
    "model.summary()\n",
    " \n",
    "model.compile(loss=FocalLoss(alpha=1),\n",
    "              optimizer='nadam',\n",
    "              metrics=['accuracy'])\n",
    " \n",
    "history = model.fit(x_train, y_train,\n",
    "                    batch_size=batch_size,\n",
    "                    epochs=30,\n",
    "                    verbose=1,validation_split=0.2,callbacks=[es_callback])"
   ]
  },
  {
   "cell_type": "code",
   "execution_count": null,
   "metadata": {},
   "outputs": [],
   "source": [
    "score = model.evaluate(x_test, y_test,\n",
    "                       batch_size=batch_size, verbose=1)\n",
    " \n",
    "print('Test accuracy:', score[1])"
   ]
  },
  {
   "cell_type": "code",
   "execution_count": null,
   "metadata": {},
   "outputs": [],
   "source": [
    "\n",
    "### Save the model\n",
    "from sklearn.externals import joblib\n",
    "joblib.dump(clf_lr.best_estimator_, 'model_l3.pkl', compress=1)"
   ]
  },
  {
   "cell_type": "markdown",
   "metadata": {},
   "source": [
    "# Finals Conclusions fo Approach2\n",
    "\n",
    "- We first analysed the dataset provided to us, undestood the structure of the data provided - number of columns, field , datatypes etc.\n",
    "- We did Exploratory Data Analysis to derive further insights from this data set and we found that\n",
    "    - Data is very much imbalanced, there are around ~45% of the Groups with less than 20 tickets.\n",
    "    - Few of the tickets are in foreign language like German\n",
    "    - The data has lot of noise in it, for eg- few tickets related to account setup are spread across multiple assignment groups.\n",
    "    \n",
    "- We performed the data cleaning and preprocessing\n",
    "    - Translation: A small number of tickets were written in German. Hence, we used the Google translate python api  to convert German to English to generate the input data for the next steps. However, the google translator rest api can only process a limited number of texts on a daily basis, so we translated the text in batches and saved the file for further processing.\n",
    "    - Make text all lowercase so that the algorithm does not treat the same words in different cases as different\n",
    "    - Removing Noise i.e everything that isn’t in a standard number or letter i.e Punctuation, Numerical values\n",
    "    - Removing extract spaces\n",
    "    - Removed punctuations\n",
    "    - Removed words containing numbers\n",
    "    - Stopword Removal: Sometimes, some extremely common words which would appear to be of little value in helping select documents matching a user need are excluded from the vocabulary entirely. These words are called stop words\n",
    "    - Lemmatization\n",
    "    - Tokenization: Tokenization is just the term used to describe the process of converting the normal text strings into a list of tokens i.e words that we actually want. Sentence tokenizer can be used to find the list of sentences and Word tokenizer can be used to find the list of words in strings.\n",
    "    \n",
    "\n",
    "- We then ran a basic benchmarck model using the cleaned and preprocessed dataset\n",
    "    - Since the dataset is very imbalanced, We considered a subset of groups for predictions.  In 74 groups, 46% of tickets belong to group 1 and 16 groups just have more than 100 tickets, rest of the Assignment groups have very less ticket counts which might not add much value to the model prediction. If we conducted random sampling towards all the subcategories, then we would face a problem that we might miss all the tickets in some categories. Hence, we considered the groups that have more than 100 tickets. \n",
    "    - We trained the data using below models:\n",
    "        - Multinomial NB\n",
    "        - Linear Support vector Machine\n",
    "        - Logistic regression\n",
    "        - Xgboost\n",
    "        \n",
    "-  LinearSVC gives better performance with \n",
    "    accuracy 0.833642\n",
    "    f1 score 0.818053\n",
    "\n",
    "<b> Although, it seems like the call is biased towards GRP_0 which has a majority of samples. </b>\n",
    "\n",
    "\n",
    "\n",
    "\n",
    "\n",
    "- Even after downsampling the data we see that the predictions are biased towards GRP_0 which has a majority of samples.\n",
    "- Imbalance causes two problems:\n",
    "    - Training is inefficient as most samples are easy examples that contribute no useful learning signal;\n",
    "    - The easy examples can overwhelm training and lead to degenerate models.\n",
    "    A common solution is to perform some form of hard negative mining that samples hard examples during training or more complex sampling/re weighing schemes.In order to handle the imbalance problem  we used class_weight=balanced hyperparameter while training the model, which tells the model to \"pay more attention\" to samples from an under-represented class.  \n",
    "- Although, the accuracy and f1_score went down. This ensured that the classes were being correctly classified with lesser number of missclassification and good precision/recall scores for all the classes\n",
    "\n",
    "- Next, we used Approach 2 where the ticket would be classified into L1/L2 or L3 classes and then it would be further classified into one of the given assignment groups. \n",
    "\n",
    "- We first created a model to classify the given tickets as l1/l2 or l3 ticket, we found that Linear SVC was giving a better score.\n",
    "- Next, another model was trained considering only l1/l2 level of incidents consisting of GRP_0 and GRP_8.\n",
    "- Finally, a third model was trained considering l3 level of tickets.\n",
    "\n",
    "- We also used hyperparameter tuning, to identify the best classifier with best parameters. We found that LinearSVC was performing the best among all the other classifiers.\n",
    "- We also tried keras implementation with focal loss as a loss function to handle the class imbalance problem, which helps in giving more weightage to groups will less samples, but the results were not satifactory.\n",
    "  \n",
    " - Finally, Logistic Regression gave better performance with hyperparameter tuning and this model would be used for classifying the L3 tickets into one of the groups.\n",
    "    - accuracy 0.706260\n",
    "    - f1 score 0.705392\n",
    "\n",
    "\n",
    "The performance can be further improved by collecting more data for tickets and by running deep learning models like RNN and LSTM's."
   ]
  }
 ],
 "metadata": {
  "kernelspec": {
   "display_name": "Python [conda env:nlp] *",
   "language": "python",
   "name": "conda-env-nlp-py"
  },
  "language_info": {
   "codemirror_mode": {
    "name": "ipython",
    "version": 3
   },
   "file_extension": ".py",
   "mimetype": "text/x-python",
   "name": "python",
   "nbconvert_exporter": "python",
   "pygments_lexer": "ipython3",
   "version": "3.6.9"
  },
  "toc": {
   "base_numbering": 1,
   "nav_menu": {},
   "number_sections": true,
   "sideBar": true,
   "skip_h1_title": false,
   "title_cell": "Table of Contents",
   "title_sidebar": "Contents",
   "toc_cell": false,
   "toc_position": {},
   "toc_section_display": true,
   "toc_window_display": false
  }
 },
 "nbformat": 4,
 "nbformat_minor": 2
}
