{
 "cells": [
  {
   "cell_type": "markdown",
   "metadata": {
    "colab_type": "text",
    "id": "oQVtDpX9jMaN"
   },
   "source": [
    "# Automatic Ticket Assignment - Capstone Project - Approach1\n",
    "\n",
    "## Problem Statement - \n",
    "\n",
    "In most of the IT organizations, the assignment of incidents to appropriate IT groups is still a manual process. Manual assignment of incidents is time consuming and requires human efforts. There may be mistakes due to human errors and resource consumption is carried out ineffectively because of the misaddressing. On the other hand, manual assignment increases the response and resolution times which result in user satisfaction deterioration / poor customer service. \n",
    "\n",
    "_<font color=blue>This capstone project intends to reduce the manual intervention of IT operations or Service desk teams by automating the ticket assignment process.The goal here is to create a text classification based ML model that can automatically  classify any new tickets by analysing ticket description to one of the relevant Assignment groups, which could be later integrated to any ITSM tool like Service Now. Based on the ticket description our model will output the probability of assigning it to one of the 74 Groups.</font>_\n",
    "\n",
    "The solution would be implemented using below approach:\n",
    "- Approach 1 - Using a traditional machine learning algorithm we would be classifying the tickets into one of the groups having more than 100 tickets.\n"
   ]
  },
  {
   "cell_type": "markdown",
   "metadata": {
    "colab_type": "text",
    "id": "WJpHvcvhjMaR"
   },
   "source": [
    "### Import necessary libraries"
   ]
  },
  {
   "cell_type": "code",
   "execution_count": 1,
   "metadata": {
    "colab": {},
    "colab_type": "code",
    "id": "WVB7bQ4ijMaT"
   },
   "outputs": [],
   "source": [
    "import pandas as pd\n",
    "import matplotlib.pyplot as plt\n",
    "import seaborn as sns\n",
    "import numpy as np\n",
    "\n",
    "from IPython.display import display\n",
    "pd.options.display.max_columns = None\n",
    "pd.options.display.max_rows = None\n",
    "\n",
    "import warnings \n",
    "warnings.filterwarnings('ignore')"
   ]
  },
  {
   "cell_type": "code",
   "execution_count": 2,
   "metadata": {},
   "outputs": [
    {
     "data": {
      "text/html": [
       "<div>\n",
       "<style scoped>\n",
       "    .dataframe tbody tr th:only-of-type {\n",
       "        vertical-align: middle;\n",
       "    }\n",
       "\n",
       "    .dataframe tbody tr th {\n",
       "        vertical-align: top;\n",
       "    }\n",
       "\n",
       "    .dataframe thead th {\n",
       "        text-align: right;\n",
       "    }\n",
       "</style>\n",
       "<table border=\"1\" class=\"dataframe\">\n",
       "  <thead>\n",
       "    <tr style=\"text-align: right;\">\n",
       "      <th></th>\n",
       "      <th>Assignment_group</th>\n",
       "      <th>Target</th>\n",
       "      <th>cleaned_description</th>\n",
       "      <th>num_wds</th>\n",
       "      <th>avg_word</th>\n",
       "      <th>uniq_wds</th>\n",
       "      <th>token_desc</th>\n",
       "    </tr>\n",
       "  </thead>\n",
       "  <tbody>\n",
       "    <tr>\n",
       "      <th>0</th>\n",
       "      <td>GRP_0</td>\n",
       "      <td>L1/L2</td>\n",
       "      <td>login issue verified user detailsemployee mana...</td>\n",
       "      <td>20</td>\n",
       "      <td>6.900000</td>\n",
       "      <td>17</td>\n",
       "      <td>login issue verified user detailsemployee mana...</td>\n",
       "    </tr>\n",
       "    <tr>\n",
       "      <th>1</th>\n",
       "      <td>GRP_0</td>\n",
       "      <td>L1/L2</td>\n",
       "      <td>outlook hmjdrvpbkomuaywn teammy meetingsskype ...</td>\n",
       "      <td>12</td>\n",
       "      <td>8.083333</td>\n",
       "      <td>11</td>\n",
       "      <td>outlook hmjdrvpbkomuaywn teammy meetingsskype ...</td>\n",
       "    </tr>\n",
       "    <tr>\n",
       "      <th>2</th>\n",
       "      <td>GRP_0</td>\n",
       "      <td>L1/L2</td>\n",
       "      <td>cant log vpn eylqgodmybqkwiami cannot log vpn</td>\n",
       "      <td>7</td>\n",
       "      <td>5.571429</td>\n",
       "      <td>5</td>\n",
       "      <td>cant log vpn eylqgodmybqkwiami cannot log vpn</td>\n",
       "    </tr>\n",
       "    <tr>\n",
       "      <th>3</th>\n",
       "      <td>GRP_0</td>\n",
       "      <td>L1/L2</td>\n",
       "      <td>unable access hrtool page unable access hrtool...</td>\n",
       "      <td>8</td>\n",
       "      <td>5.500000</td>\n",
       "      <td>4</td>\n",
       "      <td>unable access hrtool page unable access hrtool...</td>\n",
       "    </tr>\n",
       "    <tr>\n",
       "      <th>4</th>\n",
       "      <td>GRP_0</td>\n",
       "      <td>L1/L2</td>\n",
       "      <td>skype error skype error</td>\n",
       "      <td>4</td>\n",
       "      <td>5.000000</td>\n",
       "      <td>2</td>\n",
       "      <td>skype error skype error</td>\n",
       "    </tr>\n",
       "  </tbody>\n",
       "</table>\n",
       "</div>"
      ],
      "text/plain": [
       "  Assignment_group Target                                cleaned_description  \\\n",
       "0            GRP_0  L1/L2  login issue verified user detailsemployee mana...   \n",
       "1            GRP_0  L1/L2  outlook hmjdrvpbkomuaywn teammy meetingsskype ...   \n",
       "2            GRP_0  L1/L2      cant log vpn eylqgodmybqkwiami cannot log vpn   \n",
       "3            GRP_0  L1/L2  unable access hrtool page unable access hrtool...   \n",
       "4            GRP_0  L1/L2                            skype error skype error   \n",
       "\n",
       "   num_wds  avg_word  uniq_wds  \\\n",
       "0       20  6.900000        17   \n",
       "1       12  8.083333        11   \n",
       "2        7  5.571429         5   \n",
       "3        8  5.500000         4   \n",
       "4        4  5.000000         2   \n",
       "\n",
       "                                          token_desc  \n",
       "0  login issue verified user detailsemployee mana...  \n",
       "1  outlook hmjdrvpbkomuaywn teammy meetingsskype ...  \n",
       "2      cant log vpn eylqgodmybqkwiami cannot log vpn  \n",
       "3  unable access hrtool page unable access hrtool...  \n",
       "4                            skype error skype error  "
      ]
     },
     "execution_count": 2,
     "metadata": {},
     "output_type": "execute_result"
    }
   ],
   "source": [
    "df_tranlated_inc = pd.read_csv('dataset/processed_file_modellling.csv',encoding='utf-8')\n",
    "df_tranlated_inc.head()"
   ]
  },
  {
   "cell_type": "markdown",
   "metadata": {},
   "source": [
    "## Modeling"
   ]
  },
  {
   "cell_type": "code",
   "execution_count": 3,
   "metadata": {},
   "outputs": [],
   "source": [
    "from sklearn.linear_model import LogisticRegression \n",
    "from sklearn.naive_bayes import MultinomialNB\n",
    "from sklearn.multiclass import OneVsRestClassifier\n",
    "from sklearn.feature_extraction.text import CountVectorizer\n",
    "\n",
    "from sklearn.model_selection import cross_val_score\n",
    "\n",
    "from sklearn import metrics\n",
    "from sklearn.metrics import classification_report\n",
    "from sklearn.metrics import confusion_matrix\n",
    "from sklearn.model_selection import GridSearchCV\n",
    "from sklearn.pipeline import make_pipeline"
   ]
  },
  {
   "cell_type": "code",
   "execution_count": 4,
   "metadata": {},
   "outputs": [],
   "source": [
    "df_inc_sample = df_tranlated_inc[df_tranlated_inc['Assignment_group'].map(df_tranlated_inc['Assignment_group'].value_counts()) > 100]\n",
    "x = df_inc_sample['token_desc']\n",
    "y = df_inc_sample['Assignment_group']\n",
    "\n",
    "from sklearn import preprocessing\n",
    "encoder = preprocessing.LabelEncoder()\n",
    "# encoding train labels \n",
    "encoder.fit(y)\n",
    "y = encoder.transform(y)\n",
    "\n",
    "\n",
    "from sklearn.model_selection import train_test_split\n",
    "X_train, X_test, y_train, y_test = train_test_split(x, y, test_size= 0.2, random_state=13,stratify=y)\n",
    "\n",
    "from sklearn.utils.class_weight import compute_class_weight\n",
    "class_weights = compute_class_weight('balanced', np.unique(y_train), y_train)\n",
    "class_weights\n",
    "\n",
    "w_array = np.ones(y_train.shape[0], dtype = 'float')\n",
    "for i, val in enumerate(y_train):\n",
    "    w_array[i] = class_weights[val]\n",
    "    \n",
    "log_cols=[\"Classifier\", \"accuracy\",\"f1_score\"]\n",
    "log = pd.DataFrame(columns=log_cols)"
   ]
  },
  {
   "cell_type": "code",
   "execution_count": 5,
   "metadata": {},
   "outputs": [],
   "source": [
    "def multiclass_logloss(actual, predicted, eps=1e-15):\n",
    "    \"\"\"Multi class version of Logarithmic Loss metric.\n",
    "    :param actual: Array containing the actual target classes\n",
    "    :param predicted: Matrix with class predictions, one probability per class\n",
    "    \"\"\"\n",
    "    # Convert 'actual' to a binary array if it's not already:\n",
    "    if len(actual.shape) == 1:\n",
    "        actual2 = np.zeros((actual.shape[0], predicted.shape[1]))\n",
    "        for i, val in enumerate(actual):\n",
    "            actual2[i, val] = 1\n",
    "        actual = actual2\n",
    "\n",
    "    clip = np.clip(predicted, eps, 1 - eps)\n",
    "    rows = actual.shape[0]\n",
    "    vsota = np.sum(actual * np.log(clip))\n",
    "    return -1.0 / rows * vsota"
   ]
  },
  {
   "cell_type": "markdown",
   "metadata": {},
   "source": [
    "### Naive Bayes classifier for multinomial models"
   ]
  },
  {
   "cell_type": "code",
   "execution_count": 6,
   "metadata": {},
   "outputs": [
    {
     "data": {
      "text/plain": [
       "Pipeline(memory=None,\n",
       "         steps=[('vect',\n",
       "                 CountVectorizer(analyzer='word', binary=False,\n",
       "                                 decode_error='strict',\n",
       "                                 dtype=<class 'numpy.int64'>, encoding='utf-8',\n",
       "                                 input='content', lowercase=True, max_df=1.0,\n",
       "                                 max_features=None, min_df=1,\n",
       "                                 ngram_range=(1, 1), preprocessor=None,\n",
       "                                 stop_words=None, strip_accents=None,\n",
       "                                 token_pattern='(?u)\\\\b\\\\w\\\\w+\\\\b',\n",
       "                                 tokenizer=None, vocabulary=None)),\n",
       "                ('tfidf',\n",
       "                 TfidfTransformer(norm='l2', smooth_idf=True,\n",
       "                                  sublinear_tf=False, use_idf=True)),\n",
       "                ('clf',\n",
       "                 MultinomialNB(alpha=1.0, class_prior=None, fit_prior=True))],\n",
       "         verbose=False)"
      ]
     },
     "execution_count": 6,
     "metadata": {},
     "output_type": "execute_result"
    }
   ],
   "source": [
    "from sklearn.naive_bayes import MultinomialNB\n",
    "from sklearn.pipeline import Pipeline\n",
    "from sklearn.feature_extraction.text import TfidfTransformer\n",
    "\n",
    "nb = Pipeline([('vect', CountVectorizer()),\n",
    "               ('tfidf', TfidfTransformer()),\n",
    "               ('clf', MultinomialNB()),\n",
    "              ])\n",
    "nb.fit(X_train, y_train)"
   ]
  },
  {
   "cell_type": "code",
   "execution_count": 7,
   "metadata": {},
   "outputs": [
    {
     "name": "stdout",
     "output_type": "stream",
     "text": [
      "accuracy 0.6588486140724946\n",
      "f1 score 0.7755462017592144\n",
      "logloss: 1.328 \n",
      "              precision    recall  f1-score   support\n",
      "\n",
      "           0       0.68      1.00      0.81       794\n",
      "           1       0.00      0.00      0.00        28\n",
      "           2       0.82      0.18      0.30        50\n",
      "           3       0.00      0.00      0.00        29\n",
      "           4       0.00      0.00      0.00        23\n",
      "           5       0.00      0.00      0.00        44\n",
      "           6       0.75      0.06      0.11        49\n",
      "           7       1.00      0.14      0.24        58\n",
      "           8       0.00      0.00      0.00        23\n",
      "           9       0.00      0.00      0.00        40\n",
      "          10       0.00      0.00      0.00        21\n",
      "          11       0.00      0.00      0.00        31\n",
      "          12       0.00      0.00      0.00        37\n",
      "          13       0.53      0.87      0.65       129\n",
      "          14       1.00      0.02      0.04        51\n",
      "\n",
      "    accuracy                           0.66      1407\n",
      "   macro avg       0.32      0.15      0.14      1407\n",
      "weighted avg       0.56      0.66      0.54      1407\n",
      "\n",
      "[[794   0   0   0   0   0   0   0   0   0   0   0   0   0   0]\n",
      " [ 14   0   0   0   0   0   0   0   0   0   0   0   0  14   0]\n",
      " [ 40   0   9   0   0   0   0   0   0   0   0   0   0   1   0]\n",
      " [ 28   0   0   0   0   0   0   0   0   0   0   0   0   1   0]\n",
      " [ 22   0   1   0   0   0   0   0   0   0   0   0   0   0   0]\n",
      " [ 44   0   0   0   0   0   0   0   0   0   0   0   0   0   0]\n",
      " [ 46   0   0   0   0   0   3   0   0   0   0   0   0   0   0]\n",
      " [ 50   0   0   0   0   0   0   8   0   0   0   0   0   0   0]\n",
      " [ 23   0   0   0   0   0   0   0   0   0   0   0   0   0   0]\n",
      " [ 39   0   0   0   0   0   1   0   0   0   0   0   0   0   0]\n",
      " [ 21   0   0   0   0   0   0   0   0   0   0   0   0   0   0]\n",
      " [  3   0   0   0   0   0   0   0   0   0   0   0   0  28   0]\n",
      " [ 15   0   0   0   0   0   0   0   0   0   0   0   0  22   0]\n",
      " [ 17   0   0   0   0   0   0   0   0   0   0   0   0 112   0]\n",
      " [ 14   0   1   0   0   0   0   0   0   0   0   0   0  35   1]]\n"
     ]
    }
   ],
   "source": [
    "from sklearn.metrics import accuracy_score, confusion_matrix, f1_score\n",
    "from sklearn.metrics import classification_report\n",
    "y_pred = nb.predict(X_test)\n",
    "\n",
    "predictions = nb.predict_proba(X_test)\n",
    "\n",
    "print('accuracy %s' % accuracy_score(y_pred, y_test)) \n",
    "print('f1 score %s' % f1_score(y_pred, y_test,average='weighted')) \n",
    "print (\"logloss: %0.3f \" % multiclass_logloss(y_test,predictions))\n",
    "\n",
    "print(classification_report(y_test, y_pred))\n",
    "\n",
    "print(confusion_matrix(y_test,y_pred))\n",
    "\n",
    "log_entry = pd.DataFrame([[\"MultinomialNB\",accuracy_score(y_pred, y_test),f1_score(y_pred, y_test,average='weighted')]], columns=log_cols)\n",
    "log = log.append(log_entry)"
   ]
  },
  {
   "cell_type": "markdown",
   "metadata": {},
   "source": [
    "### Linear support vector machine\n"
   ]
  },
  {
   "cell_type": "code",
   "execution_count": 8,
   "metadata": {},
   "outputs": [
    {
     "data": {
      "text/plain": [
       "Pipeline(memory=None,\n",
       "         steps=[('vect',\n",
       "                 CountVectorizer(analyzer='word', binary=False,\n",
       "                                 decode_error='strict',\n",
       "                                 dtype=<class 'numpy.int64'>, encoding='utf-8',\n",
       "                                 input='content', lowercase=True, max_df=1.0,\n",
       "                                 max_features=None, min_df=1,\n",
       "                                 ngram_range=(1, 1), preprocessor=None,\n",
       "                                 stop_words=None, strip_accents=None,\n",
       "                                 token_pattern='(?u)\\\\b\\\\w\\\\w+\\\\b',\n",
       "                                 tokenizer=None, vocabulary=None)),\n",
       "                ('tfidf',\n",
       "                 TfidfTransformer(norm='l2', smooth_idf=True,\n",
       "                                  sublinear_tf=False, use_idf=True)),\n",
       "                ('clf',\n",
       "                 OneVsRestClassifier(estimator=LinearSVC(C=1.0,\n",
       "                                                         class_weight='balanced',\n",
       "                                                         dual=True,\n",
       "                                                         fit_intercept=True,\n",
       "                                                         intercept_scaling=1,\n",
       "                                                         loss='hinge',\n",
       "                                                         max_iter=1000,\n",
       "                                                         multi_class='ovr',\n",
       "                                                         penalty='l2',\n",
       "                                                         random_state=42,\n",
       "                                                         tol=0.0001,\n",
       "                                                         verbose=0),\n",
       "                                     n_jobs=None))],\n",
       "         verbose=False)"
      ]
     },
     "execution_count": 8,
     "metadata": {},
     "output_type": "execute_result"
    }
   ],
   "source": [
    "from sklearn.svm import LinearSVC\n",
    "\n",
    "svc = Pipeline([('vect', CountVectorizer()),\n",
    "                ('tfidf', TfidfTransformer()),\n",
    "                ('clf', OneVsRestClassifier(LinearSVC(loss='hinge',random_state=42,class_weight='balanced'))),\n",
    "               ])\n",
    "svc.fit(X_train, y_train)"
   ]
  },
  {
   "cell_type": "code",
   "execution_count": 9,
   "metadata": {},
   "outputs": [
    {
     "name": "stdout",
     "output_type": "stream",
     "text": [
      "accuracy 0.7974413646055437\n",
      "f1 score 0.7971002817664733\n",
      "              precision    recall  f1-score   support\n",
      "\n",
      "           0       0.89      0.89      0.89       794\n",
      "           1       0.80      0.71      0.75        28\n",
      "           2       0.52      0.70      0.60        50\n",
      "           3       0.78      0.62      0.69        29\n",
      "           4       0.43      0.39      0.41        23\n",
      "           5       0.36      0.36      0.36        44\n",
      "           6       0.54      0.61      0.57        49\n",
      "           7       0.87      0.79      0.83        58\n",
      "           8       0.61      0.61      0.61        23\n",
      "           9       0.45      0.47      0.46        40\n",
      "          10       0.64      0.43      0.51        21\n",
      "          11       0.82      0.58      0.68        31\n",
      "          12       0.81      0.78      0.79        37\n",
      "          13       0.80      0.89      0.84       129\n",
      "          14       0.93      0.73      0.81        51\n",
      "\n",
      "    accuracy                           0.80      1407\n",
      "   macro avg       0.68      0.64      0.65      1407\n",
      "weighted avg       0.80      0.80      0.80      1407\n",
      "\n",
      "[[707   1  19   1   5  17  17   2   6  13   1   0   2   1   2]\n",
      " [  3  20   0   2   0   0   0   0   0   0   0   0   0   3   0]\n",
      " [  2   0  35   0   5   0   1   1   1   1   2   0   0   2   0]\n",
      " [  5   3   0  18   0   0   1   0   0   0   0   0   2   0   0]\n",
      " [ 10   0   3   0   9   0   1   0   0   0   0   0   0   0   0]\n",
      " [ 15   0   1   0   0  16   2   2   1   6   0   0   0   0   1]\n",
      " [ 18   0   1   0   0   0  30   0   0   0   0   0   0   0   0]\n",
      " [  7   0   1   0   0   1   0  46   0   2   1   0   0   0   0]\n",
      " [  4   1   0   0   0   0   2   1  14   0   1   0   0   0   0]\n",
      " [ 12   0   0   0   0   8   1   0   0  19   0   0   0   0   0]\n",
      " [  5   0   1   0   0   3   0   1   0   1   9   1   0   0   0]\n",
      " [  2   0   0   0   1   0   0   0   0   0   0  18   0  10   0]\n",
      " [  1   0   0   2   0   0   0   0   0   0   0   0  29   5   0]\n",
      " [  3   0   5   0   1   0   0   0   0   0   0   3   2 115   0]\n",
      " [  2   0   1   0   0   0   1   0   1   0   0   0   1   8  37]]\n"
     ]
    }
   ],
   "source": [
    "y_pred = svc.predict(X_test)\n",
    "print('accuracy %s' % accuracy_score(y_pred, y_test))\n",
    "print('f1 score %s' % f1_score(y_pred, y_test,average='weighted')) \n",
    "#print (focal_loss(alpha=.25, gamma=2))\n",
    "\n",
    "print(classification_report(y_test, y_pred))\n",
    "\n",
    "print(confusion_matrix(y_test,y_pred))\n",
    "\n",
    "log_entry = pd.DataFrame([[\"LinearSVC\",accuracy_score(y_pred, y_test),f1_score(y_pred, y_test,average='weighted')]], columns=log_cols)\n",
    "log = log.append(log_entry)"
   ]
  },
  {
   "cell_type": "code",
   "execution_count": 10,
   "metadata": {},
   "outputs": [
    {
     "data": {
      "text/plain": [
       "Pipeline(memory=None,\n",
       "         steps=[('vect',\n",
       "                 CountVectorizer(analyzer='word', binary=False,\n",
       "                                 decode_error='strict',\n",
       "                                 dtype=<class 'numpy.int64'>, encoding='utf-8',\n",
       "                                 input='content', lowercase=True, max_df=1.0,\n",
       "                                 max_features=None, min_df=1,\n",
       "                                 ngram_range=(1, 1), preprocessor=None,\n",
       "                                 stop_words=None, strip_accents=None,\n",
       "                                 token_pattern='(?u)\\\\b\\\\w\\\\w+\\\\b',\n",
       "                                 tokenizer=None, vocabulary=Non...\n",
       "                 SGDClassifier(alpha=0.001, average=False,\n",
       "                               class_weight='balanced', early_stopping=False,\n",
       "                               epsilon=0.1, eta0=0.0, fit_intercept=True,\n",
       "                               l1_ratio=0.15, learning_rate='optimal',\n",
       "                               loss='hinge', max_iter=100, n_iter_no_change=5,\n",
       "                               n_jobs=None, penalty='l2', power_t=0.5,\n",
       "                               random_state=42, shuffle=True, tol=None,\n",
       "                               validation_fraction=0.1, verbose=0,\n",
       "                               warm_start=False))],\n",
       "         verbose=False)"
      ]
     },
     "execution_count": 10,
     "metadata": {},
     "output_type": "execute_result"
    }
   ],
   "source": [
    "from sklearn.linear_model import SGDClassifier\n",
    "\n",
    "sgd = Pipeline([('vect', CountVectorizer()),\n",
    "                ('tfidf', TfidfTransformer()),\n",
    "                ('clf', SGDClassifier(loss='hinge', penalty='l2',alpha=1e-3, random_state=42, max_iter=100, tol=None,class_weight='balanced')),\n",
    "               ])\n",
    "sgd.fit(X_train, y_train)"
   ]
  },
  {
   "cell_type": "code",
   "execution_count": 11,
   "metadata": {},
   "outputs": [
    {
     "name": "stdout",
     "output_type": "stream",
     "text": [
      "accuracy 0.728500355366027\n",
      "f1 score 0.7088474757055361\n",
      "              precision    recall  f1-score   support\n",
      "\n",
      "           0       0.94      0.77      0.85       794\n",
      "           1       0.67      0.86      0.75        28\n",
      "           2       0.45      0.66      0.53        50\n",
      "           3       0.37      0.72      0.49        29\n",
      "           4       0.38      0.74      0.50        23\n",
      "           5       0.34      0.34      0.34        44\n",
      "           6       0.48      0.61      0.54        49\n",
      "           7       0.65      0.74      0.69        58\n",
      "           8       0.40      0.74      0.52        23\n",
      "           9       0.42      0.50      0.45        40\n",
      "          10       0.27      0.62      0.38        21\n",
      "          11       0.62      0.68      0.65        31\n",
      "          12       0.59      0.78      0.67        37\n",
      "          13       0.94      0.73      0.82       129\n",
      "          14       0.74      0.73      0.73        51\n",
      "\n",
      "    accuracy                           0.73      1407\n",
      "   macro avg       0.55      0.68      0.59      1407\n",
      "weighted avg       0.79      0.73      0.75      1407\n",
      "\n",
      "[[611   4  28  19  12  21  26   9  18  16  21   0   5   0   4]\n",
      " [  0  24   0   4   0   0   0   0   0   0   0   0   0   0   0]\n",
      " [  1   0  33   1   7   0   1   2   1   1   2   0   0   1   0]\n",
      " [  1   3   0  21   1   0   1   0   0   0   0   0   2   0   0]\n",
      " [  3   0   1   0  17   0   1   1   0   0   0   0   0   0   0]\n",
      " [  8   0   1   0   2  15   1   5   2   6   3   0   0   0   1]\n",
      " [ 17   0   2   0   0   0  30   0   0   0   0   0   0   0   0]\n",
      " [  1   0   1   0   0   1   0  43   3   3   6   0   0   0   0]\n",
      " [  0   0   0   3   0   0   1   2  17   0   0   0   0   0   0]\n",
      " [  8   0   1   0   0   4   1   2   0  20   2   0   1   1   0]\n",
      " [  1   0   1   0   1   2   0   2   0   1  13   0   0   0   0]\n",
      " [  0   1   0   0   1   0   0   0   0   0   1  21   2   3   2]\n",
      " [  0   0   0   4   0   0   0   0   0   0   0   1  29   1   2]\n",
      " [  0   3   5   1   4   1   0   0   1   0   0  10   6  94   4]\n",
      " [  0   1   1   4   0   0   0   0   1   1   0   2   4   0  37]]\n"
     ]
    }
   ],
   "source": [
    "y_pred = sgd.predict(X_test)\n",
    "print('accuracy %s' % accuracy_score(y_pred, y_test))\n",
    "print('f1 score %s' % f1_score(y_pred, y_test,average='weighted')) \n",
    "\n",
    "\n",
    "print(classification_report(y_test, y_pred))\n",
    "\n",
    "print(confusion_matrix(y_test,y_pred))\n",
    "log_entry = pd.DataFrame([[\"SGDClassifier\",accuracy_score(y_pred, y_test),f1_score(y_pred, y_test,average='weighted')]], columns=log_cols)\n",
    "log = log.append(log_entry)"
   ]
  },
  {
   "cell_type": "markdown",
   "metadata": {},
   "source": [
    "### Logistic regression"
   ]
  },
  {
   "cell_type": "code",
   "execution_count": 12,
   "metadata": {},
   "outputs": [
    {
     "data": {
      "text/plain": [
       "Pipeline(memory=None,\n",
       "         steps=[('vect',\n",
       "                 CountVectorizer(analyzer='word', binary=False,\n",
       "                                 decode_error='strict',\n",
       "                                 dtype=<class 'numpy.int64'>, encoding='utf-8',\n",
       "                                 input='content', lowercase=True, max_df=1.0,\n",
       "                                 max_features=None, min_df=1,\n",
       "                                 ngram_range=(1, 1), preprocessor=None,\n",
       "                                 stop_words=None, strip_accents=None,\n",
       "                                 token_pattern='(?u)\\\\b\\\\w\\\\w+\\\\b',\n",
       "                                 tokenizer=None, vocabulary=Non...\n",
       "                ('tfidf',\n",
       "                 TfidfTransformer(norm='l2', smooth_idf=True,\n",
       "                                  sublinear_tf=False, use_idf=True)),\n",
       "                ('clf',\n",
       "                 LogisticRegression(C=100000.0, class_weight='balanced',\n",
       "                                    dual=False, fit_intercept=True,\n",
       "                                    intercept_scaling=1, l1_ratio=None,\n",
       "                                    max_iter=100, multi_class='auto', n_jobs=1,\n",
       "                                    penalty='l2', random_state=None,\n",
       "                                    solver='lbfgs', tol=0.0001, verbose=0,\n",
       "                                    warm_start=False))],\n",
       "         verbose=False)"
      ]
     },
     "execution_count": 12,
     "metadata": {},
     "output_type": "execute_result"
    }
   ],
   "source": [
    "from sklearn.linear_model import LogisticRegression\n",
    "\n",
    "logreg_1 = Pipeline([('vect', CountVectorizer()),\n",
    "                ('tfidf', TfidfTransformer()),\n",
    "                ('clf', LogisticRegression(n_jobs=1, C=1e5,class_weight='balanced')),\n",
    "               ])\n",
    "logreg_1.fit(X_train, y_train)"
   ]
  },
  {
   "cell_type": "code",
   "execution_count": 13,
   "metadata": {},
   "outputs": [
    {
     "name": "stdout",
     "output_type": "stream",
     "text": [
      "accuracy 0.7882018479033405\n",
      "f1 score 0.7923411421901295\n",
      "logloss: 2.231 \n",
      "              precision    recall  f1-score   support\n",
      "\n",
      "           0       0.86      0.90      0.88       794\n",
      "           1       0.85      0.61      0.71        28\n",
      "           2       0.56      0.62      0.59        50\n",
      "           3       0.73      0.66      0.69        29\n",
      "           4       0.50      0.48      0.49        23\n",
      "           5       0.33      0.30      0.31        44\n",
      "           6       0.56      0.57      0.57        49\n",
      "           7       0.81      0.83      0.82        58\n",
      "           8       0.68      0.57      0.62        23\n",
      "           9       0.47      0.38      0.42        40\n",
      "          10       0.45      0.43      0.44        21\n",
      "          11       0.76      0.52      0.62        31\n",
      "          12       0.72      0.78      0.75        37\n",
      "          13       0.84      0.84      0.84       129\n",
      "          14       0.92      0.71      0.80        51\n",
      "\n",
      "    accuracy                           0.79      1407\n",
      "   macro avg       0.67      0.61      0.64      1407\n",
      "weighted avg       0.78      0.79      0.78      1407\n",
      "\n",
      "[[715   0  13   1   5  19  16   3   4  12   4   0   1   1   0]\n",
      " [  6  17   0   3   0   0   0   0   0   0   0   0   0   2   0]\n",
      " [  5   0  31   0   4   0   1   1   1   1   2   0   0   4   0]\n",
      " [  7   2   0  19   0   0   1   0   0   0   0   0   0   0   0]\n",
      " [ 11   0   1   0  11   0   0   0   0   0   0   0   0   0   0]\n",
      " [ 22   0   1   0   0  13   1   3   0   3   1   0   0   0   0]\n",
      " [ 19   0   2   0   0   0  28   0   0   0   0   0   0   0   0]\n",
      " [  6   0   1   0   0   1   0  48   0   0   2   0   0   0   0]\n",
      " [  6   0   0   0   0   0   1   2  13   0   1   0   0   0   0]\n",
      " [ 18   0   0   0   0   5   1   0   0  15   1   0   0   0   0]\n",
      " [  7   0   1   0   0   1   0   2   0   1   9   0   0   0   0]\n",
      " [  3   0   0   0   0   0   0   0   0   0   0  16   3   8   1]\n",
      " [  3   0   0   2   0   0   0   0   0   0   0   0  29   2   1]\n",
      " [  2   1   4   1   2   0   0   0   0   0   0   5   4 109   1]\n",
      " [  6   0   1   0   0   0   1   0   1   0   0   0   3   3  36]]\n"
     ]
    }
   ],
   "source": [
    "y_pred = logreg_1.predict(X_test)\n",
    "predictions = logreg_1.predict_proba(X_test)\n",
    "\n",
    "print('accuracy %s' % accuracy_score(y_pred, y_test))\n",
    "print('f1 score %s' % f1_score(y_pred, y_test,average='weighted')) \n",
    "print (\"logloss: %0.3f \" % multiclass_logloss(y_test,predictions))\n",
    "\n",
    "print(classification_report(y_test, y_pred))\n",
    "\n",
    "print(confusion_matrix(y_test,y_pred))\n",
    "log_entry = pd.DataFrame([[\"LogisticRegression\",accuracy_score(y_pred, y_test),f1_score(y_pred, y_test,average='weighted')]], columns=log_cols)\n",
    "log = log.append(log_entry)"
   ]
  },
  {
   "cell_type": "markdown",
   "metadata": {},
   "source": [
    "### Xgboost"
   ]
  },
  {
   "cell_type": "code",
   "execution_count": 14,
   "metadata": {},
   "outputs": [
    {
     "data": {
      "text/plain": [
       "Pipeline(memory=None,\n",
       "         steps=[('vect',\n",
       "                 CountVectorizer(analyzer='word', binary=False,\n",
       "                                 decode_error='strict',\n",
       "                                 dtype=<class 'numpy.int64'>, encoding='utf-8',\n",
       "                                 input='content', lowercase=True, max_df=1.0,\n",
       "                                 max_features=None, min_df=1,\n",
       "                                 ngram_range=(1, 1), preprocessor=None,\n",
       "                                 stop_words=None, strip_accents=None,\n",
       "                                 token_pattern='(?u)\\\\b\\\\w\\\\w+\\\\b',\n",
       "                                 tokenizer=None, vocabulary=Non...\n",
       "                               interaction_constraints=None, learning_rate=0.1,\n",
       "                               max_delta_step=0, max_depth=7,\n",
       "                               min_child_weight=1, missing=nan,\n",
       "                               monotone_constraints=None, n_estimators=200,\n",
       "                               n_jobs=10, nthread=10, num_parallel_tree=1,\n",
       "                               objective='multi:softprob', random_state=0,\n",
       "                               reg_alpha=0, reg_lambda=1, scale_pos_weight=None,\n",
       "                               subsample=0.8, tree_method=None,\n",
       "                               validate_parameters=False, verbosity=None))],\n",
       "         verbose=False)"
      ]
     },
     "execution_count": 14,
     "metadata": {},
     "output_type": "execute_result"
    }
   ],
   "source": [
    "import xgboost as xgb\n",
    "\n",
    "xgboost = Pipeline([('vect', CountVectorizer()),\n",
    "                ('tfidf', TfidfTransformer()),\n",
    "                ('clf', xgb.XGBClassifier(max_depth=7, n_estimators=200, colsample_bytree=0.8, \n",
    "                        subsample=0.8, nthread=10, learning_rate=0.1)),\n",
    "               ])\n",
    "xgboost.fit(X_train, y_train,clf__sample_weight=w_array)\n"
   ]
  },
  {
   "cell_type": "code",
   "execution_count": 15,
   "metadata": {},
   "outputs": [
    {
     "name": "stdout",
     "output_type": "stream",
     "text": [
      "accuracy 0.681592039800995\n",
      "f1 score 0.6613709885634036\n",
      "              precision    recall  f1-score   support\n",
      "\n",
      "           0       0.90      0.79      0.84       794\n",
      "           1       0.18      0.64      0.29        28\n",
      "           2       0.36      0.62      0.45        50\n",
      "           3       0.57      0.59      0.58        29\n",
      "           4       0.38      0.52      0.44        23\n",
      "           5       0.30      0.55      0.39        44\n",
      "           6       0.43      0.47      0.45        49\n",
      "           7       0.70      0.78      0.74        58\n",
      "           8       0.64      0.61      0.62        23\n",
      "           9       0.34      0.50      0.41        40\n",
      "          10       0.44      0.38      0.41        21\n",
      "          11       0.56      0.29      0.38        31\n",
      "          12       0.75      0.32      0.45        37\n",
      "          13       0.82      0.60      0.69       129\n",
      "          14       0.57      0.41      0.48        51\n",
      "\n",
      "    accuracy                           0.68      1407\n",
      "   macro avg       0.53      0.54      0.51      1407\n",
      "weighted avg       0.75      0.68      0.70      1407\n",
      "\n",
      "[[628   4  30   6  10  40  20   9   6  26   5   1   3   2   4]\n",
      " [  2  18   0   2   1   0   2   0   0   1   0   0   0   2   0]\n",
      " [  2   0  31   0   6   1   3   2   1   0   2   0   0   1   1]\n",
      " [  4   3   0  17   0   0   1   0   1   1   0   0   1   0   1]\n",
      " [  6   0   5   0  12   0   0   0   0   0   0   0   0   0   0]\n",
      " [ 10   0   3   0   0  24   1   0   0   4   1   0   0   0   1]\n",
      " [ 23   0   2   0   0   0  23   1   0   0   0   0   0   0   0]\n",
      " [  2   0   3   0   0   3   1  45   0   2   2   0   0   0   0]\n",
      " [  2   0   1   1   0   1   1   3  14   0   0   0   0   0   0]\n",
      " [ 11   0   1   0   0   6   1   1   0  20   0   0   0   0   0]\n",
      " [  3   0   1   0   0   3   0   3   0   3   8   0   0   0   0]\n",
      " [  1  14   0   0   1   0   0   0   0   0   0   9   0   4   2]\n",
      " [  2  14   1   2   0   0   0   0   0   1   0   1  12   3   1]\n",
      " [  3  28   8   0   2   1   0   0   0   0   0   4   0  77   6]\n",
      " [  2  17   1   2   0   1   1   0   0   0   0   1   0   5  21]]\n"
     ]
    }
   ],
   "source": [
    "y_pred = xgboost.predict(X_test)\n",
    "\n",
    "print('accuracy %s' % accuracy_score(y_pred, y_test))\n",
    "print('f1 score %s' % f1_score(y_pred, y_test,average='weighted')) \n",
    "print(classification_report(y_test, y_pred))\n",
    "\n",
    "print(confusion_matrix(y_test,y_pred))\n",
    "\n",
    "log_entry = pd.DataFrame([[\"Xgboost\",accuracy_score(y_pred, y_test),f1_score(y_pred, y_test,average='weighted')]], columns=log_cols)\n",
    "log = log.append(log_entry)"
   ]
  },
  {
   "cell_type": "markdown",
   "metadata": {},
   "source": [
    "## Hyperparameter Tune GridSearchCV"
   ]
  },
  {
   "cell_type": "markdown",
   "metadata": {},
   "source": [
    "### LinearSVC"
   ]
  },
  {
   "cell_type": "code",
   "execution_count": 16,
   "metadata": {},
   "outputs": [
    {
     "name": "stdout",
     "output_type": "stream",
     "text": [
      "Fitting 5 folds for each of 10 candidates, totalling 50 fits\n"
     ]
    },
    {
     "name": "stderr",
     "output_type": "stream",
     "text": [
      "[Parallel(n_jobs=1)]: Using backend SequentialBackend with 1 concurrent workers.\n",
      "[Parallel(n_jobs=1)]: Done  50 out of  50 | elapsed:   41.0s finished\n"
     ]
    },
    {
     "name": "stdout",
     "output_type": "stream",
     "text": [
      "Best Score:  0.7943364733949457\n",
      "Best Params:  {'clf__estimator__C': 1, 'clf__estimator__loss': 'hinge'}\n"
     ]
    }
   ],
   "source": [
    "from sklearn.model_selection import GridSearchCV\n",
    "\n",
    "params = {\"clf__estimator__C\": [0.1, 1, 10, 100, 1000],  \n",
    "              'clf__estimator__loss': ['hinge','squared_hinge'],}  \n",
    "  \n",
    "clf_svc = GridSearchCV(svc, param_grid=params, refit = True, verbose = 1,scoring='f1_weighted') \n",
    "# fitting the model for grid search \n",
    "clf_svc.fit(X_train, y_train)\n",
    "\n",
    "print(\"Best Score: \", clf_svc.best_score_)\n",
    "print(\"Best Params: \", clf_svc.best_params_)"
   ]
  },
  {
   "cell_type": "code",
   "execution_count": 17,
   "metadata": {},
   "outputs": [
    {
     "name": "stdout",
     "output_type": "stream",
     "text": [
      "accuracy 0.7974413646055437\n",
      "f1 score 0.7971002817664733\n",
      "              precision    recall  f1-score   support\n",
      "\n",
      "           0       0.89      0.89      0.89       794\n",
      "           1       0.80      0.71      0.75        28\n",
      "           2       0.52      0.70      0.60        50\n",
      "           3       0.78      0.62      0.69        29\n",
      "           4       0.43      0.39      0.41        23\n",
      "           5       0.36      0.36      0.36        44\n",
      "           6       0.54      0.61      0.57        49\n",
      "           7       0.87      0.79      0.83        58\n",
      "           8       0.61      0.61      0.61        23\n",
      "           9       0.45      0.47      0.46        40\n",
      "          10       0.64      0.43      0.51        21\n",
      "          11       0.82      0.58      0.68        31\n",
      "          12       0.81      0.78      0.79        37\n",
      "          13       0.80      0.89      0.84       129\n",
      "          14       0.93      0.73      0.81        51\n",
      "\n",
      "    accuracy                           0.80      1407\n",
      "   macro avg       0.68      0.64      0.65      1407\n",
      "weighted avg       0.80      0.80      0.80      1407\n",
      "\n",
      "[[707   1  19   1   5  17  17   2   6  13   1   0   2   1   2]\n",
      " [  3  20   0   2   0   0   0   0   0   0   0   0   0   3   0]\n",
      " [  2   0  35   0   5   0   1   1   1   1   2   0   0   2   0]\n",
      " [  5   3   0  18   0   0   1   0   0   0   0   0   2   0   0]\n",
      " [ 10   0   3   0   9   0   1   0   0   0   0   0   0   0   0]\n",
      " [ 15   0   1   0   0  16   2   2   1   6   0   0   0   0   1]\n",
      " [ 18   0   1   0   0   0  30   0   0   0   0   0   0   0   0]\n",
      " [  7   0   1   0   0   1   0  46   0   2   1   0   0   0   0]\n",
      " [  4   1   0   0   0   0   2   1  14   0   1   0   0   0   0]\n",
      " [ 12   0   0   0   0   8   1   0   0  19   0   0   0   0   0]\n",
      " [  5   0   1   0   0   3   0   1   0   1   9   1   0   0   0]\n",
      " [  2   0   0   0   1   0   0   0   0   0   0  18   0  10   0]\n",
      " [  1   0   0   2   0   0   0   0   0   0   0   0  29   5   0]\n",
      " [  3   0   5   0   1   0   0   0   0   0   0   3   2 115   0]\n",
      " [  2   0   1   0   0   0   1   0   1   0   0   0   1   8  37]]\n"
     ]
    }
   ],
   "source": [
    "y_pred = clf_svc.best_estimator_.predict(X_test)\n",
    "#predictions = clf_svc.best_estimator_.predict_proba(X_test)\n",
    "\n",
    "print('accuracy %s' % accuracy_score(y_pred, y_test))\n",
    "print('f1 score %s' % f1_score(y_pred, y_test,average='weighted')) \n",
    "#print (\"logloss: %0.3f \" % multiclass_logloss(y_test,predictions))\n",
    "\n",
    "print(classification_report(y_test, y_pred))\n",
    "\n",
    "print(confusion_matrix(y_test,y_pred))\n",
    "\n",
    "log_entry = pd.DataFrame([[\"LinearSVC_best_estimator_gcv\",accuracy_score(y_pred, y_test),f1_score(y_pred, y_test,average='weighted')]], columns=log_cols)\n",
    "log = log.append(log_entry)"
   ]
  },
  {
   "cell_type": "markdown",
   "metadata": {},
   "source": [
    "### SGD Classifier"
   ]
  },
  {
   "cell_type": "code",
   "execution_count": 18,
   "metadata": {},
   "outputs": [
    {
     "name": "stdout",
     "output_type": "stream",
     "text": [
      "Fitting 5 folds for each of 48 candidates, totalling 240 fits\n"
     ]
    },
    {
     "name": "stderr",
     "output_type": "stream",
     "text": [
      "[Parallel(n_jobs=1)]: Using backend SequentialBackend with 1 concurrent workers.\n",
      "[Parallel(n_jobs=1)]: Done 240 out of 240 | elapsed:  3.5min finished\n"
     ]
    },
    {
     "name": "stdout",
     "output_type": "stream",
     "text": [
      "Best Score:  0.7909050333862092\n",
      "Best Params:  {'clf__alpha': 0.0001, 'clf__loss': 'modified_huber', 'clf__penalty': 'l2'}\n"
     ]
    }
   ],
   "source": [
    "params = {\n",
    "    \"clf__loss\" : [\"hinge\", \"log\", \"squared_hinge\", \"modified_huber\"],\n",
    "    \"clf__alpha\" : [0.0001, 0.001, 0.01, 0.1],\n",
    "    \"clf__penalty\" : [\"l2\", \"l1\", \"none\"],\n",
    "}\n",
    "\n",
    "clf_sgd = GridSearchCV(sgd, param_grid=params,refit = True, verbose = 1,scoring='f1_weighted')\n",
    "clf_sgd.fit(X_train, y_train)\n",
    "\n",
    "print(\"Best Score: \", clf_sgd.best_score_)\n",
    "print(\"Best Params: \", clf_sgd.best_params_)"
   ]
  },
  {
   "cell_type": "code",
   "execution_count": 19,
   "metadata": {},
   "outputs": [
    {
     "name": "stdout",
     "output_type": "stream",
     "text": [
      "accuracy 0.7924662402274343\n",
      "f1 score 0.7874501781073971\n",
      "              precision    recall  f1-score   support\n",
      "\n",
      "           0       0.91      0.87      0.89       794\n",
      "           1       0.76      0.79      0.77        28\n",
      "           2       0.51      0.66      0.57        50\n",
      "           3       0.70      0.66      0.68        29\n",
      "           4       0.48      0.61      0.54        23\n",
      "           5       0.36      0.36      0.36        44\n",
      "           6       0.49      0.63      0.55        49\n",
      "           7       0.83      0.84      0.84        58\n",
      "           8       0.58      0.61      0.60        23\n",
      "           9       0.48      0.55      0.51        40\n",
      "          10       0.45      0.48      0.47        21\n",
      "          11       0.57      0.55      0.56        31\n",
      "          12       0.75      0.81      0.78        37\n",
      "          13       0.89      0.84      0.86       129\n",
      "          14       0.87      0.76      0.81        51\n",
      "\n",
      "    accuracy                           0.79      1407\n",
      "   macro avg       0.64      0.67      0.65      1407\n",
      "weighted avg       0.81      0.79      0.80      1407\n",
      "\n",
      "[[691   0  19   4   5  18  22   4   6  14   5   1   2   1   2]\n",
      " [  3  22   0   1   0   0   0   0   1   0   0   0   0   1   0]\n",
      " [  2   0  33   1   6   0   1   1   1   1   2   0   0   2   0]\n",
      " [  2   4   0  19   1   0   1   0   0   0   0   0   2   0   0]\n",
      " [  5   0   2   0  14   0   1   0   1   0   0   0   0   0   0]\n",
      " [ 13   0   1   0   0  16   2   3   1   6   1   0   0   0   1]\n",
      " [ 16   0   2   0   0   0  31   0   0   0   0   0   0   0   0]\n",
      " [  4   0   1   0   0   1   0  49   0   1   2   0   0   0   0]\n",
      " [  3   1   0   0   0   0   2   1  14   1   1   0   0   0   0]\n",
      " [ 10   0   0   0   0   6   1   0   0  22   1   0   0   0   0]\n",
      " [  5   0   1   0   0   3   0   1   0   1  10   0   0   0   0]\n",
      " [  2   0   0   0   1   0   0   0   0   0   0  17   1   9   1]\n",
      " [  1   0   0   2   0   0   0   0   0   0   0   2  30   1   1]\n",
      " [  2   1   4   0   2   1   0   0   0   0   0   7   3 108   1]\n",
      " [  2   1   2   0   0   0   2   0   0   0   0   3   2   0  39]]\n"
     ]
    }
   ],
   "source": [
    "y_pred = clf_sgd.best_estimator_.predict(X_test)\n",
    "#predictions = clf_svc.best_estimator_.predict_proba(X_test)\n",
    "\n",
    "print('accuracy %s' % accuracy_score(y_pred, y_test))\n",
    "print('f1 score %s' % f1_score(y_pred, y_test,average='weighted')) \n",
    "#print (\"logloss: %0.3f \" % multiclass_logloss(y_test,predictions))\n",
    "\n",
    "print(classification_report(y_test, y_pred))\n",
    "\n",
    "print(confusion_matrix(y_test,y_pred))\n",
    "\n",
    "log_entry = pd.DataFrame([[\"SGD_best_estimator_gcv\",accuracy_score(y_pred, y_test),f1_score(y_pred, y_test,average='weighted')]], columns=log_cols)\n",
    "log = log.append(log_entry)"
   ]
  },
  {
   "cell_type": "markdown",
   "metadata": {},
   "source": [
    "### Logistic Regression"
   ]
  },
  {
   "cell_type": "code",
   "execution_count": 20,
   "metadata": {},
   "outputs": [
    {
     "name": "stdout",
     "output_type": "stream",
     "text": [
      "Fitting 5 folds for each of 30 candidates, totalling 150 fits\n"
     ]
    },
    {
     "name": "stderr",
     "output_type": "stream",
     "text": [
      "[Parallel(n_jobs=1)]: Using backend SequentialBackend with 1 concurrent workers.\n",
      "[Parallel(n_jobs=1)]: Done 150 out of 150 | elapsed: 15.5min finished\n"
     ]
    },
    {
     "name": "stdout",
     "output_type": "stream",
     "text": [
      "Best Score:  0.7833517320435001\n",
      "Best Params:  {'clf__C': 100.0, 'clf__max_iter': 4000, 'clf__penalty': 'l2'}\n"
     ]
    }
   ],
   "source": [
    "params = {\n",
    "  'clf__penalty': ['l2'],\n",
    "  'clf__C': [1e-6, 1e-5, 1e-4, 1e-3, 1e-2, 1e-1, 1e0,1e2,1e4,1e5],\n",
    "  'clf__max_iter': [100,4000,5000],\n",
    "}\n",
    "\n",
    "clf_lr = GridSearchCV(logreg_1, param_grid=params,refit = True,verbose = 1,scoring='f1_weighted')\n",
    "clf_lr.fit(X_train, y_train)\n",
    "\n",
    "print(\"Best Score: \", clf_lr.best_score_)\n",
    "print(\"Best Params: \", clf_lr.best_params_)"
   ]
  },
  {
   "cell_type": "code",
   "execution_count": 21,
   "metadata": {},
   "outputs": [
    {
     "name": "stdout",
     "output_type": "stream",
     "text": [
      "accuracy 0.7882018479033405\n",
      "f1 score 0.7843872551896391\n",
      "              precision    recall  f1-score   support\n",
      "\n",
      "           0       0.89      0.87      0.88       794\n",
      "           1       0.81      0.75      0.78        28\n",
      "           2       0.53      0.62      0.57        50\n",
      "           3       0.73      0.66      0.69        29\n",
      "           4       0.42      0.48      0.45        23\n",
      "           5       0.31      0.34      0.33        44\n",
      "           6       0.53      0.65      0.59        49\n",
      "           7       0.84      0.83      0.83        58\n",
      "           8       0.59      0.70      0.64        23\n",
      "           9       0.42      0.47      0.45        40\n",
      "          10       0.45      0.48      0.47        21\n",
      "          11       0.68      0.55      0.61        31\n",
      "          12       0.73      0.81      0.77        37\n",
      "          13       0.87      0.84      0.85       129\n",
      "          14       0.91      0.78      0.84        51\n",
      "\n",
      "    accuracy                           0.79      1407\n",
      "   macro avg       0.65      0.66      0.65      1407\n",
      "weighted avg       0.80      0.79      0.79      1407\n",
      "\n",
      "[[691   0  16   2   5  24  21   2   7  17   5   0   2   1   1]\n",
      " [  3  21   0   2   0   0   0   0   0   0   0   0   0   2   0]\n",
      " [  4   0  31   0   7   0   1   1   1   1   2   0   0   2   0]\n",
      " [  3   3   0  19   1   0   1   0   0   0   0   0   2   0   0]\n",
      " [  8   0   2   0  11   0   1   0   1   0   0   0   0   0   0]\n",
      " [ 16   0   1   0   0  15   1   3   1   6   1   0   0   0   0]\n",
      " [ 16   0   1   0   0   0  32   0   0   0   0   0   0   0   0]\n",
      " [  5   0   1   0   0   1   0  48   0   1   2   0   0   0   0]\n",
      " [  3   1   0   0   0   0   1   1  16   0   1   0   0   0   0]\n",
      " [ 12   0   0   0   0   7   1   0   0  19   1   0   0   0   0]\n",
      " [  5   0   1   0   0   1   0   2   0   1  10   1   0   0   0]\n",
      " [  2   0   0   0   1   0   0   0   0   0   0  17   1   9   1]\n",
      " [  2   0   0   2   0   0   0   0   0   0   0   0  30   2   1]\n",
      " [  2   1   5   1   1   0   0   0   0   0   0   6   3 109   1]\n",
      " [  3   0   1   0   0   0   1   0   1   0   0   1   3   1  40]]\n"
     ]
    }
   ],
   "source": [
    "y_pred = clf_lr.best_estimator_.predict(X_test)\n",
    "#predictions = clf_svc.best_estimator_.predict_proba(X_test)\n",
    "\n",
    "print('accuracy %s' % accuracy_score(y_pred, y_test))\n",
    "print('f1 score %s' % f1_score(y_pred, y_test,average='weighted')) \n",
    "#print (\"logloss: %0.3f \" % multiclass_logloss(y_test,predictions))\n",
    "\n",
    "print(classification_report(y_test, y_pred))\n",
    "\n",
    "print(confusion_matrix(y_test,y_pred))\n",
    "\n",
    "log_entry = pd.DataFrame([[\"LogisticRegression_best_estimator_gcv\",accuracy_score(y_pred, y_test),f1_score(y_pred, y_test,average='weighted')]], columns=log_cols)\n",
    "log = log.append(log_entry)"
   ]
  },
  {
   "cell_type": "markdown",
   "metadata": {},
   "source": [
    "### Word2vec embedding and Logistic Regression\n"
   ]
  },
  {
   "cell_type": "markdown",
   "metadata": {},
   "source": [
    "Let's use pretrined glove embeddings to train the model "
   ]
  },
  {
   "cell_type": "code",
   "execution_count": 22,
   "metadata": {},
   "outputs": [],
   "source": [
    "import logging\n",
    "import nltk\n",
    "from gensim.models import Word2Vec\n",
    "import gensim"
   ]
  },
  {
   "cell_type": "code",
   "execution_count": 23,
   "metadata": {},
   "outputs": [],
   "source": [
    "wv = gensim.models.KeyedVectors.load_word2vec_format(\"dataset/glove.6B/glove.6B.100d.w2vformat.txt\")\n",
    "wv.init_sims(replace=True)"
   ]
  },
  {
   "cell_type": "code",
   "execution_count": 24,
   "metadata": {},
   "outputs": [],
   "source": [
    "def word_averaging(wv, words):\n",
    "    all_words, mean = set(), []\n",
    "    \n",
    "    for word in words:\n",
    "        if isinstance(word, np.ndarray):\n",
    "            mean.append(word)\n",
    "        elif word in wv.vocab:\n",
    "            mean.append(wv.syn0norm[wv.vocab[word].index])\n",
    "            all_words.add(wv.vocab[word].index)\n",
    "\n",
    "    if not mean:\n",
    "        logging.warning(\"cannot compute similarity with no input %s\", words)\n",
    "        # FIXME: remove these examples in pre-processing\n",
    "        return np.zeros(wv.vector_size,)\n",
    "\n",
    "    mean = gensim.matutils.unitvec(np.array(mean).mean(axis=0)).astype(np.float32)\n",
    "    return mean\n",
    "\n",
    "def  word_averaging_list(wv, text_list):\n",
    "    return np.vstack([word_averaging(wv, post) for post in text_list ])"
   ]
  },
  {
   "cell_type": "code",
   "execution_count": 25,
   "metadata": {},
   "outputs": [],
   "source": [
    "def w2v_tokenize_text(text):\n",
    "    tokens = []\n",
    "    for sent in nltk.sent_tokenize(text, language='english'):\n",
    "        for word in nltk.word_tokenize(sent, language='english'):\n",
    "            if len(word) < 2:\n",
    "                continue\n",
    "            tokens.append(word)\n",
    "    return tokens"
   ]
  },
  {
   "cell_type": "code",
   "execution_count": 26,
   "metadata": {},
   "outputs": [
    {
     "data": {
      "text/html": [
       "<div>\n",
       "<style scoped>\n",
       "    .dataframe tbody tr th:only-of-type {\n",
       "        vertical-align: middle;\n",
       "    }\n",
       "\n",
       "    .dataframe tbody tr th {\n",
       "        vertical-align: top;\n",
       "    }\n",
       "\n",
       "    .dataframe thead th {\n",
       "        text-align: right;\n",
       "    }\n",
       "</style>\n",
       "<table border=\"1\" class=\"dataframe\">\n",
       "  <thead>\n",
       "    <tr style=\"text-align: right;\">\n",
       "      <th></th>\n",
       "      <th>Assignment_group</th>\n",
       "      <th>Target</th>\n",
       "      <th>cleaned_description</th>\n",
       "      <th>num_wds</th>\n",
       "      <th>avg_word</th>\n",
       "      <th>uniq_wds</th>\n",
       "      <th>token_desc</th>\n",
       "    </tr>\n",
       "  </thead>\n",
       "  <tbody>\n",
       "    <tr>\n",
       "      <th>0</th>\n",
       "      <td>GRP_0</td>\n",
       "      <td>L1/L2</td>\n",
       "      <td>login issue verified user detailsemployee mana...</td>\n",
       "      <td>20</td>\n",
       "      <td>6.900000</td>\n",
       "      <td>17</td>\n",
       "      <td>login issue verified user detailsemployee mana...</td>\n",
       "    </tr>\n",
       "    <tr>\n",
       "      <th>1</th>\n",
       "      <td>GRP_0</td>\n",
       "      <td>L1/L2</td>\n",
       "      <td>outlook hmjdrvpbkomuaywn teammy meetingsskype ...</td>\n",
       "      <td>12</td>\n",
       "      <td>8.083333</td>\n",
       "      <td>11</td>\n",
       "      <td>outlook hmjdrvpbkomuaywn teammy meetingsskype ...</td>\n",
       "    </tr>\n",
       "    <tr>\n",
       "      <th>2</th>\n",
       "      <td>GRP_0</td>\n",
       "      <td>L1/L2</td>\n",
       "      <td>cant log vpn eylqgodmybqkwiami cannot log vpn</td>\n",
       "      <td>7</td>\n",
       "      <td>5.571429</td>\n",
       "      <td>5</td>\n",
       "      <td>cant log vpn eylqgodmybqkwiami cannot log vpn</td>\n",
       "    </tr>\n",
       "    <tr>\n",
       "      <th>3</th>\n",
       "      <td>GRP_0</td>\n",
       "      <td>L1/L2</td>\n",
       "      <td>unable access hrtool page unable access hrtool...</td>\n",
       "      <td>8</td>\n",
       "      <td>5.500000</td>\n",
       "      <td>4</td>\n",
       "      <td>unable access hrtool page unable access hrtool...</td>\n",
       "    </tr>\n",
       "    <tr>\n",
       "      <th>4</th>\n",
       "      <td>GRP_0</td>\n",
       "      <td>L1/L2</td>\n",
       "      <td>skype error skype error</td>\n",
       "      <td>4</td>\n",
       "      <td>5.000000</td>\n",
       "      <td>2</td>\n",
       "      <td>skype error skype error</td>\n",
       "    </tr>\n",
       "  </tbody>\n",
       "</table>\n",
       "</div>"
      ],
      "text/plain": [
       "  Assignment_group Target                                cleaned_description  \\\n",
       "0            GRP_0  L1/L2  login issue verified user detailsemployee mana...   \n",
       "1            GRP_0  L1/L2  outlook hmjdrvpbkomuaywn teammy meetingsskype ...   \n",
       "2            GRP_0  L1/L2      cant log vpn eylqgodmybqkwiami cannot log vpn   \n",
       "3            GRP_0  L1/L2  unable access hrtool page unable access hrtool...   \n",
       "4            GRP_0  L1/L2                            skype error skype error   \n",
       "\n",
       "   num_wds  avg_word  uniq_wds  \\\n",
       "0       20  6.900000        17   \n",
       "1       12  8.083333        11   \n",
       "2        7  5.571429         5   \n",
       "3        8  5.500000         4   \n",
       "4        4  5.000000         2   \n",
       "\n",
       "                                          token_desc  \n",
       "0  login issue verified user detailsemployee mana...  \n",
       "1  outlook hmjdrvpbkomuaywn teammy meetingsskype ...  \n",
       "2      cant log vpn eylqgodmybqkwiami cannot log vpn  \n",
       "3  unable access hrtool page unable access hrtool...  \n",
       "4                            skype error skype error  "
      ]
     },
     "execution_count": 26,
     "metadata": {},
     "output_type": "execute_result"
    }
   ],
   "source": [
    "df_inc_sample.head()"
   ]
  },
  {
   "cell_type": "code",
   "execution_count": 27,
   "metadata": {},
   "outputs": [],
   "source": [
    "# df_tranlated_inc = pd.read_csv(\"dataset/cleaned_data.csv\",encoding='utf-8')\n",
    "# df_tranlated_inc = df_tranlated_inc.drop(['Unnamed: 0','cleaned_description','language'],axis=1)\n",
    "\n",
    "#df_inc_sample = df_tranlated_inc[df_tranlated_inc['Assignment group'].map(df_tranlated_inc['Assignment group'].value_counts()) > 100]\n",
    "#df_inc_sample.rename(columns = {'Assignment group':'Assignment_group'}, inplace = True)\n",
    "\n",
    "\n",
    "# df_inc_sample = df_inc_sample.sample(frac=1).reset_index(drop=True)\n",
    "\n",
    "# grp0_sample = df_inc_sample[df_inc_sample['Assignment_group']=='GRP_0'].sample(n=1500)\n",
    "# other_rows = df_inc_sample[df_inc_sample['Assignment_group']!='GRP_0']\n",
    "# df_inc_sample = pd.concat([other_rows,grp0_sample]).reset_index(drop=True)\n",
    "\n",
    "train, test = train_test_split(df_inc_sample, test_size=0.2, random_state = 13,stratify=df_inc_sample['Assignment_group'])\n",
    "\n",
    "test_tokenized = test.apply(lambda r: w2v_tokenize_text(r['token_desc']), axis=1).values\n",
    "train_tokenized = train.apply(lambda r: w2v_tokenize_text(r['token_desc']), axis=1).values"
   ]
  },
  {
   "cell_type": "code",
   "execution_count": 28,
   "metadata": {},
   "outputs": [
    {
     "name": "stderr",
     "output_type": "stream",
     "text": [
      "WARNING:root:cannot compute similarity with no input ['collaborationplatform', 'syncng', 'collaborationplatform', 'syncng']\n",
      "WARNING:root:cannot compute similarity with no input ['zurcksetzen', '09122016received']\n",
      "WARNING:root:cannot compute similarity with no input ['lfter', 'defekt', 'industriekontrollmonitor', 'niptbwdq', 'csenjruz', 'lfter', 'defekt', 'industriekontrollmonitor', 'niptbwdq', 'csenjruz']\n",
      "WARNING:root:cannot compute similarity with no input ['collaborationplatform', 'collaborationplatform']\n",
      "WARNING:root:cannot compute similarity with no input ['tastatur', 'defekt', 'wcupoaty', 'fqnzwphj', 'tastatur', 'defekt', 'wcupoaty', 'fqnzwphj']\n",
      "WARNING:root:cannot compute similarity with no input ['uacyltoe', 'hxgaycze', 'uacyltoe', 'hxgaycze']\n",
      "WARNING:root:cannot compute similarity with no input ['uacyltoe', 'hxgaycze', 'uacyltoe', 'hxgaycze']\n",
      "WARNING:root:cannot compute similarity with no input ['arcving', 'emailsreceived']\n"
     ]
    }
   ],
   "source": [
    "X_train_word_average = word_averaging_list(wv,train_tokenized)\n",
    "X_test_word_average = word_averaging_list(wv,test_tokenized)"
   ]
  },
  {
   "cell_type": "markdown",
   "metadata": {},
   "source": [
    "### Logistic Regression "
   ]
  },
  {
   "cell_type": "code",
   "execution_count": 29,
   "metadata": {},
   "outputs": [],
   "source": [
    "from sklearn.linear_model import LogisticRegression\n",
    "logreg = LogisticRegression(n_jobs=1, C=1e5,class_weight='balanced')\n",
    "logreg = logreg.fit(X_train_word_average, train['Assignment_group'])\n",
    "y_pred = logreg.predict(X_test_word_average)"
   ]
  },
  {
   "cell_type": "code",
   "execution_count": 30,
   "metadata": {},
   "outputs": [
    {
     "name": "stdout",
     "output_type": "stream",
     "text": [
      "accuracy 0.46766169154228854\n",
      "f1 score 0.4156525934808569\n",
      "              precision    recall  f1-score   support\n",
      "\n",
      "       GRP_0       0.96      0.49      0.65       794\n",
      "      GRP_10       0.20      0.36      0.25        28\n",
      "      GRP_12       0.31      0.52      0.39        50\n",
      "      GRP_13       0.19      0.34      0.25        29\n",
      "      GRP_14       0.17      0.39      0.23        23\n",
      "      GRP_19       0.21      0.50      0.30        44\n",
      "       GRP_2       0.24      0.69      0.36        49\n",
      "      GRP_24       0.53      0.72      0.61        58\n",
      "      GRP_25       0.10      0.22      0.14        23\n",
      "       GRP_3       0.17      0.35      0.23        40\n",
      "      GRP_33       0.14      0.33      0.19        21\n",
      "       GRP_5       0.16      0.77      0.27        31\n",
      "       GRP_6       0.32      0.38      0.35        37\n",
      "       GRP_8       0.88      0.34      0.49       129\n",
      "       GRP_9       0.33      0.08      0.13        51\n",
      "\n",
      "    accuracy                           0.47      1407\n",
      "   macro avg       0.33      0.43      0.32      1407\n",
      "weighted avg       0.71      0.47      0.52      1407\n",
      "\n",
      "[[393  26  34  25  24  62  86  26  27  45  34   0   4   3   5]\n",
      " [  1  10   0   1   0   0   0   0   2   0   0  14   0   0   0]\n",
      " [  1   3  26   0   5   1   5   2   0   4   1   0   0   2   0]\n",
      " [  0   5   1  10   3   0   2   0   2   1   0   2   1   0   2]\n",
      " [  1   0   3   2   9   1   1   1   5   0   0   0   0   0   0]\n",
      " [  5   0   3   0   0  22   2   2   1   6   2   0   1   0   0]\n",
      " [  4   1   1   2   3   1  34   0   1   0   1   0   0   0   1]\n",
      " [  2   2   2   2   0   1   1  42   0   4   2   0   0   0   0]\n",
      " [  2   0   1   2   3   1   4   2   5   2   0   0   0   1   0]\n",
      " [  0   0   2   1   2   9   4   2   2  14   4   0   0   0   0]\n",
      " [  0   0   1   0   1   3   0   3   2   4   7   0   0   0   0]\n",
      " [  1   1   0   0   0   0   0   0   0   0   0  24   5   0   0]\n",
      " [  0   0   1   2   1   1   0   0   0   0   0  18  14   0   0]\n",
      " [  0   1   7   2   2   0   0   0   0   0   0  64   9  44   0]\n",
      " [  0   2   2   3   1   1   0   0   1   0   0  27  10   0   4]]\n"
     ]
    }
   ],
   "source": [
    "from sklearn.metrics import accuracy_score, confusion_matrix,classification_report,f1_score\n",
    "print('accuracy %s' % accuracy_score(y_pred, test.Assignment_group))\n",
    "print('f1 score %s' % f1_score(y_pred, test.Assignment_group,average='weighted'))\n",
    "print(classification_report(test.Assignment_group, y_pred))\n",
    "\n",
    "\n",
    "print(confusion_matrix(test.Assignment_group,y_pred))\n",
    "log_entry = pd.DataFrame([[\"Word2Vec - LogisticRegression\",accuracy_score(y_pred, test.Assignment_group),f1_score(y_pred, test.Assignment_group,average='weighted')]], columns=log_cols)\n",
    "log = log.append(log_entry)"
   ]
  },
  {
   "cell_type": "markdown",
   "metadata": {},
   "source": [
    "<b> We see that the performance is very poor than the benchmark model, as the pretrained embedding used is not specific to ITSM data and more related to generic english texts </b>"
   ]
  },
  {
   "cell_type": "markdown",
   "metadata": {},
   "source": [
    "### Xgboost"
   ]
  },
  {
   "cell_type": "code",
   "execution_count": 31,
   "metadata": {},
   "outputs": [],
   "source": [
    "xgb_clf = xgb.XGBClassifier(max_depth=7, n_estimators=200, colsample_bytree=0.8, \n",
    "                        subsample=0.8, nthread=10, learning_rate=0.1)\n",
    "xgb_clf = xgb_clf.fit(X_train_word_average, train['Assignment_group'],sample_weight=w_array)\n",
    "y_pred = xgb_clf.predict(X_test_word_average)"
   ]
  },
  {
   "cell_type": "code",
   "execution_count": 32,
   "metadata": {},
   "outputs": [
    {
     "name": "stdout",
     "output_type": "stream",
     "text": [
      "accuracy 0.6609808102345416\n",
      "f1 score 0.6897078287081292\n",
      "              precision    recall  f1-score   support\n",
      "\n",
      "       GRP_0       0.78      0.92      0.85       794\n",
      "      GRP_10       0.00      0.00      0.00        28\n",
      "      GRP_12       0.49      0.36      0.41        50\n",
      "      GRP_13       0.33      0.24      0.28        29\n",
      "      GRP_14       0.35      0.26      0.30        23\n",
      "      GRP_19       0.24      0.14      0.17        44\n",
      "       GRP_2       0.60      0.51      0.55        49\n",
      "      GRP_24       0.75      0.71      0.73        58\n",
      "      GRP_25       0.50      0.22      0.30        23\n",
      "       GRP_3       0.19      0.10      0.13        40\n",
      "      GRP_33       0.38      0.14      0.21        21\n",
      "       GRP_5       0.16      0.74      0.26        31\n",
      "       GRP_6       0.32      0.30      0.31        37\n",
      "       GRP_8       0.89      0.36      0.52       129\n",
      "       GRP_9       1.00      0.02      0.04        51\n",
      "\n",
      "    accuracy                           0.66      1407\n",
      "   macro avg       0.46      0.33      0.34      1407\n",
      "weighted avg       0.68      0.66      0.63      1407\n",
      "\n",
      "[[733   1   9   3   3  10  13   7   2   9   4   0   0   0   0]\n",
      " [ 12   0   0   2   0   0   0   0   0   0   0  14   0   0   0]\n",
      " [ 18   0  18   0   4   0   0   2   1   2   0   0   0   5   0]\n",
      " [ 18   1   0   7   0   0   1   0   1   0   0   1   0   0   0]\n",
      " [ 12   0   2   1   6   0   1   0   1   0   0   0   0   0   0]\n",
      " [ 30   0   3   0   0   6   1   1   0   3   0   0   0   0   0]\n",
      " [ 23   0   0   1   0   0  25   0   0   0   0   0   0   0   0]\n",
      " [ 14   0   0   0   0   0   0  41   0   2   1   0   0   0   0]\n",
      " [ 16   0   0   0   1   0   0   1   5   0   0   0   0   0   0]\n",
      " [ 28   0   0   0   0   7   1   0   0   4   0   0   0   0   0]\n",
      " [ 10   0   1   0   0   2   0   3   0   1   3   0   0   1   0]\n",
      " [  3   0   0   0   0   0   0   0   0   0   0  23   5   0   0]\n",
      " [  4   0   1   3   0   0   0   0   0   0   0  18  11   0   0]\n",
      " [  6   0   2   1   3   0   0   0   0   0   0  61   9  47   0]\n",
      " [ 10   0   1   3   0   0   0   0   0   0   0  27   9   0   1]]\n"
     ]
    }
   ],
   "source": [
    "from sklearn.metrics import accuracy_score, confusion_matrix,classification_report,f1_score\n",
    "print('accuracy %s' % accuracy_score(y_pred, test.Assignment_group))\n",
    "print('f1 score %s' % f1_score(y_pred, test.Assignment_group,average='weighted'))\n",
    "print(classification_report(test.Assignment_group, y_pred))\n",
    "\n",
    "print(confusion_matrix(test.Assignment_group,y_pred))\n"
   ]
  },
  {
   "cell_type": "markdown",
   "metadata": {},
   "source": [
    "### Doc2vec and Logistic Regression\n",
    "\n",
    "Let's try using Doc2vec, doc2vec is an extension to the word2vec-approach towards documents. Its intention is encode (whole) docs, consisting of lists of sentences, rather than lists of ungrouped sentences. \n",
    "\n",
    "There are two approaches in Doc2vec:\n",
    "    - Distributed Memory\n",
    "    - Distributed BOW"
   ]
  },
  {
   "cell_type": "code",
   "execution_count": 33,
   "metadata": {},
   "outputs": [],
   "source": [
    "from tqdm import tqdm\n",
    "tqdm.pandas(desc=\"progress-bar\")\n",
    "from gensim.models import Doc2Vec\n",
    "from sklearn import utils\n",
    "import gensim\n",
    "from gensim.models.doc2vec import TaggedDocument\n",
    "import re"
   ]
  },
  {
   "cell_type": "code",
   "execution_count": 34,
   "metadata": {},
   "outputs": [],
   "source": [
    "\n",
    "def label_sentences(corpus, label_type):\n",
    "    \"\"\"\n",
    "    Gensim's Doc2Vec implementation requires each document/paragraph to have a label associated with it.\n",
    "    We do this by using the TaggedDocument method. The format will be \"TRAIN_i\" or \"TEST_i\" where \"i\" is\n",
    "    a dummy index of the post.\n",
    "    \"\"\"\n",
    "    labeled = []\n",
    "    for i, v in enumerate(corpus):\n",
    "        label = label_type + '_' + str(i)\n",
    "        labeled.append(TaggedDocument(v.split(), tags=[label]))\n",
    "    return labeled"
   ]
  },
  {
   "cell_type": "code",
   "execution_count": 35,
   "metadata": {},
   "outputs": [],
   "source": [
    "\n",
    "X_train, X_test, y_train, y_test  = train_test_split(df_inc_sample.token_desc, df_inc_sample.Assignment_group, test_size=0.2, random_state = 13,stratify=df_inc_sample['Assignment_group'])\n",
    "X_train = label_sentences(X_train, 'Train')\n",
    "X_test = label_sentences(X_test, 'Test')\n",
    "all_data = X_train + X_test\n",
    "\n",
    "\n",
    "\n",
    "from sklearn import preprocessing\n",
    "encoder = preprocessing.LabelEncoder()\n",
    "# encoding train labels \n",
    "encoder.fit(y_train)\n",
    "y_train = encoder.transform(y_train)\n",
    "y_test = encoder.transform(y_test)\n",
    "\n",
    "\n",
    "class_weights = compute_class_weight('balanced', np.unique(y_train), y_train)\n",
    "class_weights\n",
    "\n",
    "w_array = np.ones(y_train.shape[0], dtype = 'float')\n",
    "for i, val in enumerate(y_train):\n",
    "    w_array[i] = class_weights[val]"
   ]
  },
  {
   "cell_type": "code",
   "execution_count": 36,
   "metadata": {},
   "outputs": [
    {
     "data": {
      "text/plain": [
       "[TaggedDocument(words=['unable', 'login', 'collaborationplatform', 'unable', 'login', 'collaborationplatform'], tags=['Train_0']),\n",
       " TaggedDocument(words=['hostname66volume', 'f', 'labeldat1hostname66', '9a625d75', 'server', '85', 'space', 'consumed', 'space', 'available', '648', 'k', 'volume', 'f', 'labeldat1hostname66', '9a625d75', 'server', '85', 'space', 'consumed', 'space', 'available', '648', 'k'], tags=['Train_1'])]"
      ]
     },
     "execution_count": 36,
     "metadata": {},
     "output_type": "execute_result"
    }
   ],
   "source": [
    "X_train[:2]"
   ]
  },
  {
   "cell_type": "markdown",
   "metadata": {},
   "source": [
    "### Distributed BOW\n",
    "DBOW is the doc2vec model analogous to Skip-gram model in word2vec. The paragraph vectors are obtained by training a neural network on the task of predicting a probability distribution of words in a paragraph given a randomly-sampled word from the paragraph."
   ]
  },
  {
   "cell_type": "code",
   "execution_count": 37,
   "metadata": {},
   "outputs": [],
   "source": [
    "def train_doc2vec(corpus):\n",
    "    logging.info('Building Doc2Vec model')\n",
    "    model_dbow = Doc2Vec(dm=0, vector_size=300, negative=5, min_count=1, alpha=0.065, min_alpha=0.065)\n",
    "    model_dbow.build_vocab(corpus)\n",
    "    return model_dbow\n",
    "    "
   ]
  },
  {
   "cell_type": "markdown",
   "metadata": {},
   "source": [
    "#### Building a Vocabulary"
   ]
  },
  {
   "cell_type": "code",
   "execution_count": 38,
   "metadata": {},
   "outputs": [
    {
     "name": "stderr",
     "output_type": "stream",
     "text": [
      "100%|█████████████████████████████████████████████████████████████████████████| 7033/7033 [00:00<00:00, 2349170.98it/s]\n"
     ]
    }
   ],
   "source": [
    "model_dbow = Doc2Vec(dm=0, vector_size=300, negative=5, min_count=1, alpha=0.065, min_alpha=0.065)\n",
    "model_dbow.build_vocab([x for x in tqdm(all_data)])"
   ]
  },
  {
   "cell_type": "code",
   "execution_count": 39,
   "metadata": {},
   "outputs": [],
   "source": [
    "#### Training DBOW model for 30 epochs"
   ]
  },
  {
   "cell_type": "code",
   "execution_count": 40,
   "metadata": {},
   "outputs": [
    {
     "name": "stderr",
     "output_type": "stream",
     "text": [
      "WARNING:gensim.models.base_any2vec:under 10 jobs per worker: consider setting a smaller `batch_words' for smoother alpha decay\n",
      "WARNING:gensim.models.base_any2vec:under 10 jobs per worker: consider setting a smaller `batch_words' for smoother alpha decay\n",
      "WARNING:gensim.models.base_any2vec:under 10 jobs per worker: consider setting a smaller `batch_words' for smoother alpha decay\n",
      "WARNING:gensim.models.base_any2vec:under 10 jobs per worker: consider setting a smaller `batch_words' for smoother alpha decay\n",
      "WARNING:gensim.models.base_any2vec:under 10 jobs per worker: consider setting a smaller `batch_words' for smoother alpha decay\n",
      "WARNING:gensim.models.base_any2vec:under 10 jobs per worker: consider setting a smaller `batch_words' for smoother alpha decay\n",
      "WARNING:gensim.models.base_any2vec:under 10 jobs per worker: consider setting a smaller `batch_words' for smoother alpha decay\n",
      "WARNING:gensim.models.base_any2vec:under 10 jobs per worker: consider setting a smaller `batch_words' for smoother alpha decay\n",
      "WARNING:gensim.models.base_any2vec:under 10 jobs per worker: consider setting a smaller `batch_words' for smoother alpha decay\n",
      "WARNING:gensim.models.base_any2vec:under 10 jobs per worker: consider setting a smaller `batch_words' for smoother alpha decay\n",
      "WARNING:gensim.models.base_any2vec:under 10 jobs per worker: consider setting a smaller `batch_words' for smoother alpha decay\n",
      "WARNING:gensim.models.base_any2vec:under 10 jobs per worker: consider setting a smaller `batch_words' for smoother alpha decay\n",
      "WARNING:gensim.models.base_any2vec:under 10 jobs per worker: consider setting a smaller `batch_words' for smoother alpha decay\n",
      "WARNING:gensim.models.base_any2vec:under 10 jobs per worker: consider setting a smaller `batch_words' for smoother alpha decay\n",
      "WARNING:gensim.models.base_any2vec:under 10 jobs per worker: consider setting a smaller `batch_words' for smoother alpha decay\n",
      "WARNING:gensim.models.base_any2vec:under 10 jobs per worker: consider setting a smaller `batch_words' for smoother alpha decay\n",
      "WARNING:gensim.models.base_any2vec:under 10 jobs per worker: consider setting a smaller `batch_words' for smoother alpha decay\n",
      "WARNING:gensim.models.base_any2vec:under 10 jobs per worker: consider setting a smaller `batch_words' for smoother alpha decay\n",
      "WARNING:gensim.models.base_any2vec:under 10 jobs per worker: consider setting a smaller `batch_words' for smoother alpha decay\n",
      "WARNING:gensim.models.base_any2vec:under 10 jobs per worker: consider setting a smaller `batch_words' for smoother alpha decay\n",
      "WARNING:gensim.models.base_any2vec:under 10 jobs per worker: consider setting a smaller `batch_words' for smoother alpha decay\n",
      "WARNING:gensim.models.base_any2vec:under 10 jobs per worker: consider setting a smaller `batch_words' for smoother alpha decay\n",
      "WARNING:gensim.models.base_any2vec:under 10 jobs per worker: consider setting a smaller `batch_words' for smoother alpha decay\n",
      "WARNING:gensim.models.base_any2vec:under 10 jobs per worker: consider setting a smaller `batch_words' for smoother alpha decay\n",
      "WARNING:gensim.models.base_any2vec:under 10 jobs per worker: consider setting a smaller `batch_words' for smoother alpha decay\n",
      "WARNING:gensim.models.base_any2vec:under 10 jobs per worker: consider setting a smaller `batch_words' for smoother alpha decay\n",
      "WARNING:gensim.models.base_any2vec:under 10 jobs per worker: consider setting a smaller `batch_words' for smoother alpha decay\n",
      "WARNING:gensim.models.base_any2vec:under 10 jobs per worker: consider setting a smaller `batch_words' for smoother alpha decay\n",
      "WARNING:gensim.models.base_any2vec:under 10 jobs per worker: consider setting a smaller `batch_words' for smoother alpha decay\n",
      "WARNING:gensim.models.base_any2vec:under 10 jobs per worker: consider setting a smaller `batch_words' for smoother alpha decay\n",
      "WARNING:gensim.models.base_any2vec:under 10 jobs per worker: consider setting a smaller `batch_words' for smoother alpha decay\n",
      "WARNING:gensim.models.base_any2vec:under 10 jobs per worker: consider setting a smaller `batch_words' for smoother alpha decay\n",
      "WARNING:gensim.models.base_any2vec:under 10 jobs per worker: consider setting a smaller `batch_words' for smoother alpha decay\n",
      "WARNING:gensim.models.base_any2vec:under 10 jobs per worker: consider setting a smaller `batch_words' for smoother alpha decay\n",
      "WARNING:gensim.models.base_any2vec:under 10 jobs per worker: consider setting a smaller `batch_words' for smoother alpha decay\n",
      "WARNING:gensim.models.base_any2vec:under 10 jobs per worker: consider setting a smaller `batch_words' for smoother alpha decay\n",
      "WARNING:gensim.models.base_any2vec:under 10 jobs per worker: consider setting a smaller `batch_words' for smoother alpha decay\n",
      "WARNING:gensim.models.base_any2vec:under 10 jobs per worker: consider setting a smaller `batch_words' for smoother alpha decay\n",
      "WARNING:gensim.models.base_any2vec:under 10 jobs per worker: consider setting a smaller `batch_words' for smoother alpha decay\n",
      "WARNING:gensim.models.base_any2vec:under 10 jobs per worker: consider setting a smaller `batch_words' for smoother alpha decay\n"
     ]
    }
   ],
   "source": [
    "\n",
    "for epoch in range(40):\n",
    "    model_dbow.train(utils.shuffle([x for x in all_data]), total_examples=len(all_data), epochs=1)\n",
    "    model_dbow.alpha -= 0.002\n",
    "    model_dbow.min_alpha = model_dbow.alpha"
   ]
  },
  {
   "cell_type": "markdown",
   "metadata": {},
   "source": [
    "#### Building the Final Vector Feature for the Classifier"
   ]
  },
  {
   "cell_type": "code",
   "execution_count": 41,
   "metadata": {},
   "outputs": [],
   "source": [
    "\n",
    "def get_vectors(model, corpus_size, vectors_size, vectors_type):\n",
    "    \"\"\"\n",
    "    Get vectors from trained doc2vec model\n",
    "    :param doc2vec_model: Trained Doc2Vec model\n",
    "    :param corpus_size: Size of the data\n",
    "    :param vectors_size: Size of the embedding vectors\n",
    "    :param vectors_type: Training or Testing vectors\n",
    "    :return: list of vectors\n",
    "    \"\"\"\n",
    "    vectors = np.zeros((corpus_size, vectors_size))\n",
    "    for i in range(0, corpus_size):\n",
    "        prefix = vectors_type + '_' + str(i)\n",
    "        vectors[i] = model.docvecs[prefix]\n",
    "    return vectors"
   ]
  },
  {
   "cell_type": "code",
   "execution_count": 42,
   "metadata": {},
   "outputs": [],
   "source": [
    "\n",
    "train_vectors_dbow = get_vectors(model_dbow, len(X_train), 300, 'Train')\n",
    "test_vectors_dbow = get_vectors(model_dbow, len(X_test), 300, 'Test')"
   ]
  },
  {
   "cell_type": "markdown",
   "metadata": {},
   "source": [
    "#### Train the Logistic Regression Classifier."
   ]
  },
  {
   "cell_type": "code",
   "execution_count": 43,
   "metadata": {},
   "outputs": [],
   "source": [
    "\n",
    "logreg = LogisticRegression(n_jobs=1, C=1e5,class_weight='balanced')\n",
    "logreg.fit(train_vectors_dbow, y_train)\n",
    "y_pred = logreg.predict(test_vectors_dbow)"
   ]
  },
  {
   "cell_type": "code",
   "execution_count": 44,
   "metadata": {},
   "outputs": [
    {
     "name": "stdout",
     "output_type": "stream",
     "text": [
      "accuracy 0.5678749111584932\n",
      "f1 score 0.5209679345597619\n",
      "              precision    recall  f1-score   support\n",
      "\n",
      "           0       0.95      0.58      0.72       794\n",
      "           1       0.50      0.61      0.55        28\n",
      "           2       0.33      0.52      0.40        50\n",
      "           3       0.48      0.55      0.52        29\n",
      "           4       0.22      0.48      0.30        23\n",
      "           5       0.17      0.45      0.25        44\n",
      "           6       0.29      0.61      0.40        49\n",
      "           7       0.73      0.79      0.76        58\n",
      "           8       0.28      0.61      0.38        23\n",
      "           9       0.17      0.38      0.24        40\n",
      "          10       0.19      0.52      0.28        21\n",
      "          11       0.38      0.55      0.45        31\n",
      "          12       0.36      0.54      0.43        37\n",
      "          13       0.82      0.54      0.65       129\n",
      "          14       0.38      0.49      0.43        51\n",
      "\n",
      "    accuracy                           0.57      1407\n",
      "   macro avg       0.42      0.55      0.45      1407\n",
      "weighted avg       0.74      0.57      0.61      1407\n",
      "\n",
      "[[461   9  32  10  25  70  64   6  22  56  30   1   3   1   4]\n",
      " [  0  17   0   0   1   0   0   0   2   0   0   0   1   2   5]\n",
      " [  2   0  26   0   5   0   1   4   3   3   2   0   1   2   1]\n",
      " [  0   4   1  16   0   0   1   0   3   0   0   0   3   0   1]\n",
      " [  2   2   3   0  11   3   0   0   1   0   0   0   0   0   1]\n",
      " [  6   0   2   0   0  20   1   1   1   9   4   0   0   0   0]\n",
      " [  8   0   4   2   1   2  30   1   0   0   0   0   0   0   1]\n",
      " [  1   0   2   1   0   2   0  46   0   1   5   0   0   0   0]\n",
      " [  1   0   0   0   1   1   0   3  14   2   1   0   0   0   0]\n",
      " [  1   0   2   0   0  14   3   0   1  15   4   0   0   0   0]\n",
      " [  1   1   1   0   0   3   0   2   1   1  11   0   0   0   0]\n",
      " [  0   0   0   0   1   1   0   0   0   0   0  17   4   6   2]\n",
      " [  0   1   0   1   0   0   1   0   0   0   0   5  20   3   6]\n",
      " [  0   0   5   1   5   0   0   0   1   0   0  14  14  70  19]\n",
      " [  1   0   2   2   0   0   1   0   1   0   0   8  10   1  25]]\n"
     ]
    }
   ],
   "source": [
    "\n",
    "print('accuracy %s' % accuracy_score(y_pred, y_test))\n",
    "print('f1 score %s' % f1_score(y_pred,y_test,average='weighted'))\n",
    "print(classification_report(y_test, y_pred))\n",
    "print(confusion_matrix(y_test, y_pred))\n",
    "\n",
    "log_entry = pd.DataFrame([[\"Doc2Vec (dbow) - LogisticRegression\",accuracy_score(y_pred, y_test),f1_score(y_pred,y_test,average='weighted')]], columns=log_cols)\n",
    "log = log.append(log_entry)"
   ]
  },
  {
   "cell_type": "code",
   "execution_count": 45,
   "metadata": {},
   "outputs": [
    {
     "name": "stdout",
     "output_type": "stream",
     "text": [
      "accuracy 0.7484008528784648\n",
      "              precision    recall  f1-score   support\n",
      "\n",
      "           0       0.86      0.93      0.89       794\n",
      "           1       0.63      0.43      0.51        28\n",
      "           2       0.47      0.54      0.50        50\n",
      "           3       0.53      0.55      0.54        29\n",
      "           4       0.39      0.39      0.39        23\n",
      "           5       0.47      0.32      0.38        44\n",
      "           6       0.61      0.47      0.53        49\n",
      "           7       0.80      0.81      0.80        58\n",
      "           8       0.50      0.39      0.44        23\n",
      "           9       0.62      0.38      0.47        40\n",
      "          10       0.55      0.29      0.37        21\n",
      "          11       0.27      0.13      0.17        31\n",
      "          12       0.41      0.32      0.36        37\n",
      "          13       0.68      0.79      0.73       129\n",
      "          14       0.42      0.31      0.36        51\n",
      "\n",
      "    accuracy                           0.75      1407\n",
      "   macro avg       0.55      0.47      0.50      1407\n",
      "weighted avg       0.73      0.75      0.73      1407\n",
      "\n",
      "[[741   1  12   1   5   7  10   3   4   3   2   0   2   0   3]\n",
      " [  3  12   1   4   1   0   0   0   0   0   0   0   0   5   2]\n",
      " [ 11   0  27   0   5   0   1   3   1   1   0   0   0   1   0]\n",
      " [  4   3   0  16   0   0   1   0   2   0   0   0   2   0   1]\n",
      " [ 10   1   2   0   9   0   0   0   1   0   0   0   0   0   0]\n",
      " [ 24   0   2   0   0  14   1   0   0   3   0   0   0   0   0]\n",
      " [ 24   0   2   0   0   0  23   0   0   0   0   0   0   0   0]\n",
      " [  6   0   1   0   0   1   0  47   0   1   2   0   0   0   0]\n",
      " [ 10   0   0   0   0   0   1   2   9   0   1   0   0   0   0]\n",
      " [ 15   0   3   0   0   5   1   1   0  15   0   0   0   0   0]\n",
      " [  5   0   1   0   1   3   0   3   1   1   6   0   0   0   0]\n",
      " [  3   0   0   0   0   0   0   0   0   0   0   4   3  16   5]\n",
      " [  2   0   0   6   0   0   0   0   0   0   0   2  12  13   2]\n",
      " [  1   1   6   0   2   0   0   0   0   0   0   4   4 102   9]\n",
      " [  5   1   1   3   0   0   0   0   0   0   0   5   6  14  16]]\n"
     ]
    }
   ],
   "source": [
    "xgb_clf = xgb.XGBClassifier(max_depth=7, n_estimators=200, colsample_bytree=0.8, \n",
    "                        subsample=0.8, nthread=10, learning_rate=0.1)\n",
    "xgb_clf = xgb_clf.fit(train_vectors_dbow, y_train,sample_weight=w_array)\n",
    "y_pred = xgb_clf.predict(test_vectors_dbow)\n",
    "\n",
    "print('accuracy %s' % accuracy_score(y_pred, y_test))\n",
    "#print('f1 score %s' % f1_score(y_pred,y_test,average='weighted'))\n",
    "print(classification_report(y_test, y_pred))\n",
    "print(confusion_matrix(y_test, y_pred))"
   ]
  },
  {
   "cell_type": "markdown",
   "metadata": {},
   "source": [
    "### Distributed Memory\n",
    "\n",
    "Distributed Memory (DM) acts as a memory that remembers what is missing from the current context — or as the topic of the paragraph. While the word vectors represent the concept of a word, the document vector intends to represent the concept of a document. We again instantiate a Doc2Vec model with a vector size with 300 words and iterating over the training corpus 30 times."
   ]
  },
  {
   "cell_type": "code",
   "execution_count": 46,
   "metadata": {},
   "outputs": [],
   "source": [
    "\n",
    "model_dm = Doc2Vec(dm=1, dm_mean=1, vector_size=300, window=3, negative=5, min_count=1, workers=5, alpha=0.065, min_alpha=0.065)\n",
    "model_dm.build_vocab([x for x in all_data])"
   ]
  },
  {
   "cell_type": "code",
   "execution_count": 47,
   "metadata": {},
   "outputs": [
    {
     "name": "stderr",
     "output_type": "stream",
     "text": [
      "WARNING:gensim.models.base_any2vec:under 10 jobs per worker: consider setting a smaller `batch_words' for smoother alpha decay\n",
      "WARNING:gensim.models.base_any2vec:under 10 jobs per worker: consider setting a smaller `batch_words' for smoother alpha decay\n",
      "WARNING:gensim.models.base_any2vec:under 10 jobs per worker: consider setting a smaller `batch_words' for smoother alpha decay\n",
      "WARNING:gensim.models.base_any2vec:under 10 jobs per worker: consider setting a smaller `batch_words' for smoother alpha decay\n",
      "WARNING:gensim.models.base_any2vec:under 10 jobs per worker: consider setting a smaller `batch_words' for smoother alpha decay\n",
      "WARNING:gensim.models.base_any2vec:under 10 jobs per worker: consider setting a smaller `batch_words' for smoother alpha decay\n",
      "WARNING:gensim.models.base_any2vec:under 10 jobs per worker: consider setting a smaller `batch_words' for smoother alpha decay\n",
      "WARNING:gensim.models.base_any2vec:under 10 jobs per worker: consider setting a smaller `batch_words' for smoother alpha decay\n",
      "WARNING:gensim.models.base_any2vec:under 10 jobs per worker: consider setting a smaller `batch_words' for smoother alpha decay\n",
      "WARNING:gensim.models.base_any2vec:under 10 jobs per worker: consider setting a smaller `batch_words' for smoother alpha decay\n",
      "WARNING:gensim.models.base_any2vec:under 10 jobs per worker: consider setting a smaller `batch_words' for smoother alpha decay\n",
      "WARNING:gensim.models.base_any2vec:under 10 jobs per worker: consider setting a smaller `batch_words' for smoother alpha decay\n",
      "WARNING:gensim.models.base_any2vec:under 10 jobs per worker: consider setting a smaller `batch_words' for smoother alpha decay\n",
      "WARNING:gensim.models.base_any2vec:under 10 jobs per worker: consider setting a smaller `batch_words' for smoother alpha decay\n",
      "WARNING:gensim.models.base_any2vec:under 10 jobs per worker: consider setting a smaller `batch_words' for smoother alpha decay\n",
      "WARNING:gensim.models.base_any2vec:under 10 jobs per worker: consider setting a smaller `batch_words' for smoother alpha decay\n",
      "WARNING:gensim.models.base_any2vec:under 10 jobs per worker: consider setting a smaller `batch_words' for smoother alpha decay\n",
      "WARNING:gensim.models.base_any2vec:under 10 jobs per worker: consider setting a smaller `batch_words' for smoother alpha decay\n",
      "WARNING:gensim.models.base_any2vec:under 10 jobs per worker: consider setting a smaller `batch_words' for smoother alpha decay\n",
      "WARNING:gensim.models.base_any2vec:under 10 jobs per worker: consider setting a smaller `batch_words' for smoother alpha decay\n",
      "WARNING:gensim.models.base_any2vec:under 10 jobs per worker: consider setting a smaller `batch_words' for smoother alpha decay\n",
      "WARNING:gensim.models.base_any2vec:under 10 jobs per worker: consider setting a smaller `batch_words' for smoother alpha decay\n",
      "WARNING:gensim.models.base_any2vec:under 10 jobs per worker: consider setting a smaller `batch_words' for smoother alpha decay\n",
      "WARNING:gensim.models.base_any2vec:under 10 jobs per worker: consider setting a smaller `batch_words' for smoother alpha decay\n",
      "WARNING:gensim.models.base_any2vec:under 10 jobs per worker: consider setting a smaller `batch_words' for smoother alpha decay\n",
      "WARNING:gensim.models.base_any2vec:under 10 jobs per worker: consider setting a smaller `batch_words' for smoother alpha decay\n",
      "WARNING:gensim.models.base_any2vec:under 10 jobs per worker: consider setting a smaller `batch_words' for smoother alpha decay\n",
      "WARNING:gensim.models.base_any2vec:under 10 jobs per worker: consider setting a smaller `batch_words' for smoother alpha decay\n",
      "WARNING:gensim.models.base_any2vec:under 10 jobs per worker: consider setting a smaller `batch_words' for smoother alpha decay\n",
      "WARNING:gensim.models.base_any2vec:under 10 jobs per worker: consider setting a smaller `batch_words' for smoother alpha decay\n",
      "WARNING:gensim.models.base_any2vec:under 10 jobs per worker: consider setting a smaller `batch_words' for smoother alpha decay\n",
      "WARNING:gensim.models.base_any2vec:under 10 jobs per worker: consider setting a smaller `batch_words' for smoother alpha decay\n",
      "WARNING:gensim.models.base_any2vec:under 10 jobs per worker: consider setting a smaller `batch_words' for smoother alpha decay\n",
      "WARNING:gensim.models.base_any2vec:under 10 jobs per worker: consider setting a smaller `batch_words' for smoother alpha decay\n",
      "WARNING:gensim.models.base_any2vec:under 10 jobs per worker: consider setting a smaller `batch_words' for smoother alpha decay\n",
      "WARNING:gensim.models.base_any2vec:under 10 jobs per worker: consider setting a smaller `batch_words' for smoother alpha decay\n",
      "WARNING:gensim.models.base_any2vec:under 10 jobs per worker: consider setting a smaller `batch_words' for smoother alpha decay\n",
      "WARNING:gensim.models.base_any2vec:under 10 jobs per worker: consider setting a smaller `batch_words' for smoother alpha decay\n",
      "WARNING:gensim.models.base_any2vec:under 10 jobs per worker: consider setting a smaller `batch_words' for smoother alpha decay\n",
      "WARNING:gensim.models.base_any2vec:under 10 jobs per worker: consider setting a smaller `batch_words' for smoother alpha decay\n"
     ]
    }
   ],
   "source": [
    "for epoch in range(40):\n",
    "    model_dm.train(utils.shuffle([x for x in all_data]), total_examples=len(all_data), epochs=1)\n",
    "    model_dm.alpha -= 0.002\n",
    "    model_dm.min_alpha = model_dm.alpha"
   ]
  },
  {
   "cell_type": "code",
   "execution_count": 48,
   "metadata": {},
   "outputs": [],
   "source": [
    "\n",
    "train_vectors_dm = get_vectors(model_dm, len(X_train), 300, 'Train')\n",
    "test_vectors_dm = get_vectors(model_dm, len(X_test), 300, 'Test')"
   ]
  },
  {
   "cell_type": "code",
   "execution_count": 49,
   "metadata": {},
   "outputs": [
    {
     "name": "stdout",
     "output_type": "stream",
     "text": [
      "accuracy 0.4214641080312722\n",
      "f1 score 0.38158314075327643\n",
      "              precision    recall  f1-score   support\n",
      "\n",
      "           0       0.88      0.41      0.56       794\n",
      "           1       0.16      0.46      0.23        28\n",
      "           2       0.25      0.44      0.32        50\n",
      "           3       0.40      0.59      0.47        29\n",
      "           4       0.20      0.43      0.27        23\n",
      "           5       0.19      0.30      0.23        44\n",
      "           6       0.25      0.45      0.32        49\n",
      "           7       0.52      0.74      0.61        58\n",
      "           8       0.16      0.26      0.20        23\n",
      "           9       0.24      0.57      0.34        40\n",
      "          10       0.15      0.43      0.22        21\n",
      "          11       0.16      0.42      0.23        31\n",
      "          12       0.16      0.19      0.18        37\n",
      "          13       0.39      0.43      0.41       129\n",
      "          14       0.18      0.27      0.22        51\n",
      "\n",
      "    accuracy                           0.42      1407\n",
      "   macro avg       0.29      0.43      0.32      1407\n",
      "weighted avg       0.62      0.42      0.46      1407\n",
      "\n",
      "[[326  45  40  15  25  46  55  19  16  47  37  22  13  54  34]\n",
      " [  0  13   1   0   1   0   1   1   1   0   0   1   5   1   3]\n",
      " [  2   0  22   1   7   0   2   3   4   4   1   0   0   4   0]\n",
      " [  1   3   0  17   0   0   2   1   0   0   0   0   3   1   1]\n",
      " [  0   0   0   2  10   0   1   2   1   1   1   0   1   3   1]\n",
      " [  8   0   2   0   1  13   1   4   0   9   0   2   1   3   0]\n",
      " [ 11   1   5   1   1   1  22   1   2   1   1   1   0   1   0]\n",
      " [  2   0   2   0   0   0   0  43   3   3   3   0   1   1   0]\n",
      " [  4   1   2   1   0   1   1   4   6   1   1   0   1   0   0]\n",
      " [  2   0   2   0   0   3   1   3   2  23   4   0   0   0   0]\n",
      " [  0   0   3   0   0   3   0   1   2   1   9   2   0   0   0]\n",
      " [  1   1   0   1   1   0   0   0   0   0   0  13   1  10   3]\n",
      " [  2   3   1   3   1   0   1   0   0   1   0  11   7   5   2]\n",
      " [  6  10   7   0   4   0   0   0   0   3   3  17   6  55  18]\n",
      " [  5   6   2   2   0   1   2   0   0   0   0  13   4   2  14]]\n"
     ]
    }
   ],
   "source": [
    "logreg = logreg.fit(train_vectors_dm, y_train)\n",
    "y_pred = logreg.predict(test_vectors_dm)\n",
    "\n",
    "print('accuracy %s' % accuracy_score(y_pred, y_test))\n",
    "print('f1 score %s' % f1_score(y_pred,y_test,average='weighted'))\n",
    "print(classification_report(y_test, y_pred))\n",
    "print(confusion_matrix(y_test, y_pred))\n",
    "\n",
    "log_entry = pd.DataFrame([[\"Doc2Vec (dm) - LogisticRegression\",accuracy_score(y_pred, y_test),f1_score(y_pred,y_test,average='weighted')]], columns=log_cols)\n",
    "log = log.append(log_entry)"
   ]
  },
  {
   "cell_type": "code",
   "execution_count": 50,
   "metadata": {},
   "outputs": [
    {
     "name": "stdout",
     "output_type": "stream",
     "text": [
      "accuracy 0.7242359630419332\n",
      "f1 score 0.75293351364001\n",
      "              precision    recall  f1-score   support\n",
      "\n",
      "           0       0.81      0.95      0.88       794\n",
      "           1       0.60      0.32      0.42        28\n",
      "           2       0.54      0.52      0.53        50\n",
      "           3       0.67      0.55      0.60        29\n",
      "           4       0.32      0.26      0.29        23\n",
      "           5       0.53      0.20      0.30        44\n",
      "           6       0.61      0.45      0.52        49\n",
      "           7       0.81      0.74      0.77        58\n",
      "           8       0.50      0.22      0.30        23\n",
      "           9       0.65      0.33      0.43        40\n",
      "          10       0.50      0.29      0.36        21\n",
      "          11       0.32      0.19      0.24        31\n",
      "          12       0.29      0.16      0.21        37\n",
      "          13       0.59      0.68      0.63       129\n",
      "          14       0.24      0.14      0.18        51\n",
      "\n",
      "    accuracy                           0.72      1407\n",
      "   macro avg       0.53      0.40      0.44      1407\n",
      "weighted avg       0.69      0.72      0.70      1407\n",
      "\n",
      "[[757   0   9   1   5   3   4   3   3   4   1   0   0   2   2]\n",
      " [  6   9   0   4   1   0   1   0   0   0   0   0   1   3   3]\n",
      " [ 17   0  26   0   2   0   2   2   0   0   0   0   0   1   0]\n",
      " [  6   2   0  16   0   0   2   0   1   0   0   0   1   1   0]\n",
      " [ 13   0   2   0   6   0   0   0   1   0   0   0   0   1   0]\n",
      " [ 30   0   1   0   0   9   2   1   0   0   1   0   0   0   0]\n",
      " [ 25   0   1   0   0   0  22   0   0   0   0   0   0   0   1]\n",
      " [ 11   0   1   0   0   1   0  43   0   0   2   0   0   0   0]\n",
      " [ 15   0   0   0   0   0   1   1   5   0   0   0   0   1   0]\n",
      " [ 22   0   0   0   0   3   1   0   0  13   1   0   0   0   0]\n",
      " [  5   0   2   1   0   1   0   3   0   3   6   0   0   0   0]\n",
      " [  3   0   0   0   1   0   0   0   0   0   0   6   3  16   2]\n",
      " [  9   1   0   1   0   0   0   0   0   0   0   3   6  15   2]\n",
      " [  5   2   5   0   4   0   0   0   0   0   0   7   6  88  12]\n",
      " [ 10   1   1   1   0   0   1   0   0   0   1   3   4  22   7]]\n"
     ]
    }
   ],
   "source": [
    "xgb_clf = xgb.XGBClassifier(max_depth=7, n_estimators=200, colsample_bytree=0.8, \n",
    "                        subsample=0.8, nthread=10, learning_rate=0.1)\n",
    "xgb_clf = xgb_clf.fit(train_vectors_dm, y_train,sample_weight=w_array)\n",
    "y_pred = xgb_clf.predict(test_vectors_dm)\n",
    "\n",
    "print('accuracy %s' % accuracy_score(y_pred, y_test))\n",
    "print('f1 score %s' % f1_score(y_pred,y_test,average='weighted'))\n",
    "print(classification_report(y_test, y_pred))\n",
    "print(confusion_matrix(y_test, y_pred))"
   ]
  },
  {
   "cell_type": "markdown",
   "metadata": {},
   "source": [
    "### Model Pairing\n",
    "We also tried combining a paragraph vector from Distributed Bag of Words (DBOW) and Distributed Memory (DM) together for evaluation to check if it improves performance. "
   ]
  },
  {
   "cell_type": "code",
   "execution_count": 51,
   "metadata": {},
   "outputs": [],
   "source": [
    "model_dbow.delete_temporary_training_data(keep_doctags_vectors=True, keep_inference=True)\n",
    "model_dm.delete_temporary_training_data(keep_doctags_vectors=True, keep_inference=True)"
   ]
  },
  {
   "cell_type": "markdown",
   "metadata": {},
   "source": [
    "#### Concatenate two models with feature vectors"
   ]
  },
  {
   "cell_type": "code",
   "execution_count": 52,
   "metadata": {},
   "outputs": [],
   "source": [
    "def get_concat_vectors(model1,model2, corpus_size, vectors_size, vectors_type):\n",
    "    vectors = np.zeros((corpus_size, vectors_size))\n",
    "    for i in range(0, corpus_size):\n",
    "        prefix = vectors_type + '_' + str(i)\n",
    "        vectors[i] = np.append(model1.docvecs[prefix],model2.docvecs[prefix])\n",
    "    return vectors"
   ]
  },
  {
   "cell_type": "code",
   "execution_count": 53,
   "metadata": {},
   "outputs": [],
   "source": [
    "train_vecs_dbow_dm = get_concat_vectors(model_dbow,model_dm, len(X_train), 600, 'Train')\n",
    "test_vecs_dbow_dm = get_concat_vectors(model_dbow,model_dm, len(X_test), 600, 'Test')"
   ]
  },
  {
   "cell_type": "markdown",
   "metadata": {},
   "source": [
    "#### Train Logistic Regression Models"
   ]
  },
  {
   "cell_type": "code",
   "execution_count": 54,
   "metadata": {},
   "outputs": [
    {
     "name": "stdout",
     "output_type": "stream",
     "text": [
      "accuracy 0.566453447050462\n",
      "              precision    recall  f1-score   support\n",
      "\n",
      "           0       0.95      0.60      0.74       794\n",
      "           1       0.52      0.61      0.56        28\n",
      "           2       0.33      0.54      0.41        50\n",
      "           3       0.41      0.62      0.49        29\n",
      "           4       0.28      0.48      0.35        23\n",
      "           5       0.16      0.41      0.23        44\n",
      "           6       0.25      0.57      0.35        49\n",
      "           7       0.69      0.84      0.76        58\n",
      "           8       0.26      0.43      0.33        23\n",
      "           9       0.19      0.40      0.26        40\n",
      "          10       0.23      0.43      0.30        21\n",
      "          11       0.30      0.45      0.36        31\n",
      "          12       0.28      0.41      0.33        37\n",
      "          13       0.77      0.51      0.61       129\n",
      "          14       0.33      0.43      0.38        51\n",
      "\n",
      "    accuracy                           0.57      1407\n",
      "   macro avg       0.40      0.52      0.43      1407\n",
      "weighted avg       0.72      0.57      0.61      1407\n",
      "\n"
     ]
    }
   ],
   "source": [
    "logreg = logreg.fit(train_vecs_dbow_dm, y_train)\n",
    "y_pred = logreg.predict(test_vecs_dbow_dm)\n",
    "\n",
    "print('accuracy %s' % accuracy_score(y_pred, y_test))\n",
    "print(classification_report(y_test, y_pred))\n",
    "\n",
    "log_entry = pd.DataFrame([[\"Doc2Vec (dbow + dm) - LogisticRegression\",accuracy_score(y_pred, y_test),f1_score(y_pred,y_test,average='weighted')]], columns=log_cols)\n",
    "log = log.append(log_entry)"
   ]
  },
  {
   "cell_type": "code",
   "execution_count": 55,
   "metadata": {},
   "outputs": [
    {
     "name": "stdout",
     "output_type": "stream",
     "text": [
      "accuracy 0.7448471926083866\n",
      "              precision    recall  f1-score   support\n",
      "\n",
      "           0       0.81      0.97      0.88       794\n",
      "           1       0.64      0.32      0.43        28\n",
      "           2       0.52      0.48      0.50        50\n",
      "           3       0.57      0.45      0.50        29\n",
      "           4       0.41      0.30      0.35        23\n",
      "           5       0.33      0.07      0.11        44\n",
      "           6       0.68      0.43      0.53        49\n",
      "           7       0.85      0.78      0.81        58\n",
      "           8       0.71      0.22      0.33        23\n",
      "           9       0.58      0.28      0.37        40\n",
      "          10       0.80      0.19      0.31        21\n",
      "          11       0.57      0.13      0.21        31\n",
      "          12       0.45      0.27      0.34        37\n",
      "          13       0.62      0.82      0.71       129\n",
      "          14       0.50      0.27      0.35        51\n",
      "\n",
      "    accuracy                           0.74      1407\n",
      "   macro avg       0.60      0.40      0.45      1407\n",
      "weighted avg       0.71      0.74      0.71      1407\n",
      "\n"
     ]
    }
   ],
   "source": [
    "xgb_clf = xgb.XGBClassifier(max_depth=7, n_estimators=200, colsample_bytree=0.8, \n",
    "                        subsample=0.8, nthread=10, learning_rate=0.1)\n",
    "xgb_clf = xgb_clf.fit(train_vecs_dbow_dm, y_train)\n",
    "y_pred = xgb_clf.predict(test_vecs_dbow_dm)\n",
    "\n",
    "print('accuracy %s' % accuracy_score(y_pred, y_test))\n",
    "print(classification_report(y_test, y_pred))"
   ]
  },
  {
   "cell_type": "markdown",
   "metadata": {},
   "source": [
    "<b> We dont see much improvement in the performance using these word embeddings compared to the benchmark model using TFID approach <\\b>"
   ]
  },
  {
   "cell_type": "code",
   "execution_count": 56,
   "metadata": {},
   "outputs": [
    {
     "data": {
      "text/html": [
       "<div>\n",
       "<style scoped>\n",
       "    .dataframe tbody tr th:only-of-type {\n",
       "        vertical-align: middle;\n",
       "    }\n",
       "\n",
       "    .dataframe tbody tr th {\n",
       "        vertical-align: top;\n",
       "    }\n",
       "\n",
       "    .dataframe thead th {\n",
       "        text-align: right;\n",
       "    }\n",
       "</style>\n",
       "<table border=\"1\" class=\"dataframe\">\n",
       "  <thead>\n",
       "    <tr style=\"text-align: right;\">\n",
       "      <th></th>\n",
       "      <th>accuracy</th>\n",
       "      <th>f1_score</th>\n",
       "    </tr>\n",
       "    <tr>\n",
       "      <th>Classifier</th>\n",
       "      <th></th>\n",
       "      <th></th>\n",
       "    </tr>\n",
       "  </thead>\n",
       "  <tbody>\n",
       "    <tr>\n",
       "      <th>Doc2Vec (dm) - LogisticRegression</th>\n",
       "      <td>0.421464</td>\n",
       "      <td>0.381583</td>\n",
       "    </tr>\n",
       "    <tr>\n",
       "      <th>Word2Vec - LogisticRegression</th>\n",
       "      <td>0.467662</td>\n",
       "      <td>0.415653</td>\n",
       "    </tr>\n",
       "    <tr>\n",
       "      <th>Doc2Vec (dbow) - LogisticRegression</th>\n",
       "      <td>0.567875</td>\n",
       "      <td>0.520968</td>\n",
       "    </tr>\n",
       "    <tr>\n",
       "      <th>Doc2Vec (dbow + dm) - LogisticRegression</th>\n",
       "      <td>0.566453</td>\n",
       "      <td>0.521671</td>\n",
       "    </tr>\n",
       "    <tr>\n",
       "      <th>Xgboost</th>\n",
       "      <td>0.681592</td>\n",
       "      <td>0.661371</td>\n",
       "    </tr>\n",
       "    <tr>\n",
       "      <th>SGDClassifier</th>\n",
       "      <td>0.728500</td>\n",
       "      <td>0.708847</td>\n",
       "    </tr>\n",
       "    <tr>\n",
       "      <th>MultinomialNB</th>\n",
       "      <td>0.658849</td>\n",
       "      <td>0.775546</td>\n",
       "    </tr>\n",
       "    <tr>\n",
       "      <th>LogisticRegression_best_estimator_gcv</th>\n",
       "      <td>0.788202</td>\n",
       "      <td>0.784387</td>\n",
       "    </tr>\n",
       "    <tr>\n",
       "      <th>SGD_best_estimator_gcv</th>\n",
       "      <td>0.792466</td>\n",
       "      <td>0.787450</td>\n",
       "    </tr>\n",
       "    <tr>\n",
       "      <th>LogisticRegression</th>\n",
       "      <td>0.788202</td>\n",
       "      <td>0.792341</td>\n",
       "    </tr>\n",
       "    <tr>\n",
       "      <th>LinearSVC</th>\n",
       "      <td>0.797441</td>\n",
       "      <td>0.797100</td>\n",
       "    </tr>\n",
       "    <tr>\n",
       "      <th>LinearSVC_best_estimator_gcv</th>\n",
       "      <td>0.797441</td>\n",
       "      <td>0.797100</td>\n",
       "    </tr>\n",
       "  </tbody>\n",
       "</table>\n",
       "</div>"
      ],
      "text/plain": [
       "                                          accuracy  f1_score\n",
       "Classifier                                                  \n",
       "Doc2Vec (dm) - LogisticRegression         0.421464  0.381583\n",
       "Word2Vec - LogisticRegression             0.467662  0.415653\n",
       "Doc2Vec (dbow) - LogisticRegression       0.567875  0.520968\n",
       "Doc2Vec (dbow + dm) - LogisticRegression  0.566453  0.521671\n",
       "Xgboost                                   0.681592  0.661371\n",
       "SGDClassifier                             0.728500  0.708847\n",
       "MultinomialNB                             0.658849  0.775546\n",
       "LogisticRegression_best_estimator_gcv     0.788202  0.784387\n",
       "SGD_best_estimator_gcv                    0.792466  0.787450\n",
       "LogisticRegression                        0.788202  0.792341\n",
       "LinearSVC                                 0.797441  0.797100\n",
       "LinearSVC_best_estimator_gcv              0.797441  0.797100"
      ]
     },
     "execution_count": 56,
     "metadata": {},
     "output_type": "execute_result"
    }
   ],
   "source": [
    "log.set_index([\"Classifier\"],inplace=True)\n",
    "log.sort_values(by=['f1_score'])"
   ]
  },
  {
   "cell_type": "code",
   "execution_count": 57,
   "metadata": {},
   "outputs": [
    {
     "data": {
      "text/plain": [
       "<matplotlib.axes._subplots.AxesSubplot at 0x23d838f2278>"
      ]
     },
     "execution_count": 57,
     "metadata": {},
     "output_type": "execute_result"
    },
    {
     "data": {
      "image/png": "[encoded data removed]",
      "text/plain": [
       "<Figure size 504x432 with 1 Axes>"
      ]
     },
     "metadata": {
      "needs_background": "light"
     },
     "output_type": "display_data"
    }
   ],
   "source": [
    "log.sort_values(by=['f1_score']).plot(kind='barh',figsize=[7,6])"
   ]
  },
  {
   "cell_type": "code",
   "execution_count": 58,
   "metadata": {},
   "outputs": [
    {
     "name": "stdout",
     "output_type": "stream",
     "text": [
      "['GRP_8']\n",
      "['GRP_8']\n"
     ]
    }
   ],
   "source": [
    "from scipy import spatial\n",
    "sentence = ['The job did not start this morning on time']\n",
    "#get_concat_vectors(model_dbow,model_dm, len(X_train), 1200, 'Train')\n",
    "#mod1 = model_dm.infer_vector(sentence.split())\n",
    "#mod2 =  model_dbow.infer_vector(sentence.split())\n",
    "\n",
    "#ind_vec = np.append(mod1,mod2)\n",
    "\n",
    "\n",
    "#inferred_vector=model_dm.infer_vector(sentence.split())\n",
    "print(encoder.inverse_transform(xgboost.predict(sentence)))\n",
    "print(encoder.inverse_transform(logreg_1.predict(sentence)))\n",
    "\n",
    "#enc.inverse_transform(encoded)"
   ]
  },
  {
   "cell_type": "code",
   "execution_count": 59,
   "metadata": {},
   "outputs": [
    {
     "data": {
      "text/plain": [
       "['auto_ticket_assignment.pkl']"
      ]
     },
     "execution_count": 59,
     "metadata": {},
     "output_type": "execute_result"
    }
   ],
   "source": [
    "\n",
    "### Save the model\n",
    "from sklearn.externals import joblib\n",
    "joblib.dump(logreg_1, 'auto_ticket_assignment.pkl', compress=1)"
   ]
  },
  {
   "cell_type": "code",
   "execution_count": 60,
   "metadata": {},
   "outputs": [
    {
     "data": {
      "text/plain": [
       "{'GRP_0': 0,\n",
       " 'GRP_10': 1,\n",
       " 'GRP_12': 2,\n",
       " 'GRP_13': 3,\n",
       " 'GRP_14': 4,\n",
       " 'GRP_19': 5,\n",
       " 'GRP_2': 6,\n",
       " 'GRP_24': 7,\n",
       " 'GRP_25': 8,\n",
       " 'GRP_3': 9,\n",
       " 'GRP_33': 10,\n",
       " 'GRP_5': 11,\n",
       " 'GRP_6': 12,\n",
       " 'GRP_8': 13,\n",
       " 'GRP_9': 14}"
      ]
     },
     "execution_count": 60,
     "metadata": {},
     "output_type": "execute_result"
    }
   ],
   "source": [
    "le_name_mapping = dict(zip(encoder.classes_, encoder.transform(encoder.classes_)))\n",
    "le_name_mapping"
   ]
  },
  {
   "cell_type": "code",
   "execution_count": 61,
   "metadata": {},
   "outputs": [
    {
     "data": {
      "text/plain": [
       "array(['GRP_0'], dtype=object)"
      ]
     },
     "execution_count": 61,
     "metadata": {},
     "output_type": "execute_result"
    }
   ],
   "source": [
    "\n",
    "from sklearn.externals import joblib\n",
    "model = joblib.load('auto_ticket_assignment.pkl')\n",
    "\n",
    "sentence = 'not able to connect to my system'\n",
    "encoder.inverse_transform(model.predict([sentence]))"
   ]
  },
  {
   "cell_type": "markdown",
   "metadata": {},
   "source": [
    "# Finals Conclusions fo Approach1\n",
    "\n",
    "- We first analysed the dataset provided to us, undestood the structure of the data provided - number of columns, field , datatypes etc.\n",
    "- We did Exploratory Data Analysis to derive further insights from this data set and we found that\n",
    "    - Data is very much imbalanced, there are around ~45% of the Groups with less than 20 tickets.\n",
    "    - Few of the tickets are in foreign language like German\n",
    "    - The data has lot of noise in it, for eg- few tickets related to account setup are spread across multiple assignment groups.\n",
    "    \n",
    "- We performed the data cleaning and preprocessing\n",
    "    - Translation: A small number of tickets were written in German. Hence, we used the Google translate python api  to convert German to English to generate the input data for the next steps. However, the google translator rest api can only process a limited number of texts on a daily basis, so we translated the text in batches and saved the file for further processing.\n",
    "    - Make text all lowercase so that the algorithm does not treat the same words in different cases as different\n",
    "    - Removing Noise i.e everything that isn’t in a standard number or letter i.e Punctuation, Numerical values\n",
    "    - Removing extract spaces\n",
    "    - Removed punctuations\n",
    "    - Removed words containing numbers\n",
    "    - Stopword Removal: Sometimes, some extremely common words which would appear to be of little value in helping select documents matching a user need are excluded from the vocabulary entirely. These words are called stop words\n",
    "    - Lemmatization\n",
    "    - Tokenization: Tokenization is just the term used to describe the process of converting the normal text strings into a list of tokens i.e words that we actually want. Sentence tokenizer can be used to find the list of sentences and Word tokenizer can be used to find the list of words in strings.\n",
    "    \n",
    "\n",
    "- We then ran a basic benchmarck model using the cleaned and preprocessed dataset\n",
    "    - Since the dataset is very imbalanced, We considered a subset of groups for predictions.  In 74 groups, 46% of tickets belong to group 1 and 16 groups just have more than 100 tickets, rest of the Assignment groups have very less ticket counts which might not add much value to the model prediction. If we conducted random sampling towards all the subcategories, then we would face a problem that we might miss all the tickets in some categories. Hence, we considered the groups that have more than 100 tickets. \n",
    "    - We trained the data using below models:\n",
    "        - Multinomial NB\n",
    "        - Linear Support vector Machine\n",
    "        - Logistic regression\n",
    "        - Xgboost\n",
    "        \n",
    "- LinearSVC gives better performance with \n",
    "    - accuracy 0.833642\n",
    "    - f1 score 0.818053\n",
    "\n",
    "<b> Although, it seems like the call is biased towards GRP_0 which has a majority of samples. </b>\n",
    "\n",
    "\n",
    "\n",
    "- Even after downsampling the data we see that the predictions are biased towards GRP_0 which has a majority of samples.\n",
    "- Imbalance causes two problems:\n",
    "    - Training is inefficient as most samples are easy examples that contribute no useful learning signal;\n",
    "    - The easy examples can overwhelm training and lead to degenerate models.\n",
    "    A common solution is to perform some form of hard negative mining that samples hard examples during training or more complex sampling/re weighing schemes.In order to handle the imbalance problem  we used class_weight=balanced hyperparameter while training the model, which tells the model to \"pay more attention\" to samples from an under-represented class.  \n",
    "- Although, the accuracy and f1_score went down. This ensured that the classes were being correctly classified with lesser number of missclassification and good precision/recall scores for all the classes\n",
    "\n",
    "- Next, we also tried using pretrained word embedding, but the only challenge was that we could not find any embeddings trained on ITSM data. We used the glove model with 100d for this, and then used logistic regression and Xgboost to train the model. But, the scores were poorer than the benchmark model.\n",
    " \n",
    "- Then, we also tried vector space modelling using Doc2Vec with DistributedBOW and Distributed Memory approach, though ‘Doc2Vec’ is a more advanced model in NLP rather than ‘Tf-Idf’, but still in our case, it is not giving proper results. We have tried with a linear  & boosting based classifier respectively.\n",
    "  \n",
    "  In our dataset, ‘texts’ are domain-specific. Furthermore, ‘Doc2Vec’ model is more suitable for very well written grammatically correct texts. In our case, texts are quite rough in nature.It is also proven in various examples and Data Sc ientist’s experiments that though ‘Tf-Idf’ model is inferior as compared to ‘Doc2Vec’, but still it gives better result while classifying very domain specific texts.\n",
    " \n",
    " \n",
    " - Linear SVC gave better performance with hyperparameter tuning and this model would be used for classifying the tickets into one of the groups.\n",
    "    - accuracy 0.797441\n",
    "    - f1 score 0.797100\n",
    "\n",
    "The performance can be further improved by collecting more data for tickets and by running deep learning models like RNN and LSTM's."
   ]
  },
  {
   "cell_type": "code",
   "execution_count": null,
   "metadata": {},
   "outputs": [],
   "source": []
  }
 ],
 "metadata": {
  "accelerator": "GPU",
  "colab": {
   "name": "Automated Ticket Assignment - Capstone Project - Divya Kamat.ipynb",
   "provenance": []
  },
  "kernelspec": {
   "display_name": "Python [conda env:nlp] *",
   "language": "python",
   "name": "conda-env-nlp-py"
  },
  "language_info": {
   "codemirror_mode": {
    "name": "ipython",
    "version": 3
   },
   "file_extension": ".py",
   "mimetype": "text/x-python",
   "name": "python",
   "nbconvert_exporter": "python",
   "pygments_lexer": "ipython3",
   "version": "3.6.9"
  },
  "toc": {
   "base_numbering": 1,
   "nav_menu": {},
   "number_sections": true,
   "sideBar": true,
   "skip_h1_title": false,
   "title_cell": "Table of Contents",
   "title_sidebar": "Contents",
   "toc_cell": false,
   "toc_position": {},
   "toc_section_display": true,
   "toc_window_display": false
  }
 },
 "nbformat": 4,
 "nbformat_minor": 1
}
